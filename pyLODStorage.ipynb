{
 "cells": [
  {
   "cell_type": "markdown",
   "id": "64fb3d8c",
   "metadata": {},
   "source": [
    "pyLODStorage# pyLODStorage - SPARQL Queries\n",
    "pyLODStorage is a library that handles the python list of dictionaries (LoD) by providing apis to convert LoDs to other formats such as csv, json, xml and sqlite.\n",
    "\n",
    "Furthermore, it allows to read and write into a sqlite database based on LoDs being exchanged.\n",
    "\n",
    "It also provides a query interface for SPARQL endpoints by converting the responses to LoDs.\n",
    "## Install Dependencies"
   ]
  },
  {
   "cell_type": "code",
   "execution_count": null,
   "id": "44b8e680",
   "metadata": {
    "collapsed": false,
    "jupyter": {
     "outputs_hidden": false
    },
    "pycharm": {
     "is_executing": true
    }
   },
   "outputs": [],
   "source": [
    "import sys\n",
    "def installModule(projectName:str, moduleName:str=None):\n",
    "    '''Installs and loads the given module if not already installed'''\n",
    "    if moduleName is None:\n",
    "        moduleName=projectName\n",
    "    !python -m pip install --no-input $projectName \n",
    "    %reload_ext $moduleName\n",
    "\n",
    "installModule(\"pylodstorage>=0.4.11\", \"lodstorage\")"
   ]
  },
  {
   "cell_type": "markdown",
   "id": "625382e4-7b56-4e27-ab1d-309fa3295e5a",
   "metadata": {},
   "source": [
    "## SPARQL Query (Chemical Compounds)\n",
    "pyLODStorage allows to define named queries. Queries can be stored in yaml files with name, title, description and the query in different languages e.g. SPARQL, SQL, ... \n",
    "\n",
    "For this example we use a directly defined named query that would otherwise be loaded from a file with the QueryManager by giving the name of the query that should be loaded."
   ]
  },
  {
   "cell_type": "code",
   "execution_count": null,
   "id": "93eef561-c2dc-4ab7-bde9-79db468c8960",
   "metadata": {},
   "outputs": [],
   "source": [
    "from IPython.display import display, Markdown\n",
    "from lodstorage.query import QueryManager, Query\n",
    "from lodstorage.sparql import SPARQL\n",
    "import copy\n",
    "show=True\n",
    "query_record={\n",
    "    \"lang\": \"sparql\",\n",
    "    \"name\": \"CAS15\",\n",
    "    \"title\": \"15 Random substances with CAS number\",\n",
    "    \"description\": \"Wikidata SPARQL query showing the 15 random chemical substances with their CAS Number\",\n",
    "    \"query\": \"\"\"# List of 15 random chemical components with CAS-Number, formula and structure\n",
    "# see also https://github.com/WolfgangFahl/pyLoDStorage/issues/46\n",
    "# WF 2021-08-23\n",
    "SELECT ?substance ?substanceLabel ?formula ?structure ?CAS\n",
    "WHERE { \n",
    "    ?substance wdt:P31 wd:Q11173.\n",
    "    ?substance wdt:P231 ?CAS.\n",
    "    ?substance wdt:P274 ?formula.\n",
    "    ?substance wdt:P117  ?structure.\n",
    "    SERVICE wikibase:label { bd:serviceParam wikibase:language \"[AUTO_LANGUAGE],en\". }\n",
    "}\n",
    "LIMIT 15\n",
    "\"\"\"\n",
    "    }\n",
    "endpoint_url = \"https://query.wikidata.org/sparql\"\n",
    "endpoint = SPARQL(endpoint_url)\n",
    "query = Query(**query_record)\n",
    "prefixes = [\"http://www.wikidata.org/entity/\", \" http://commons.wikimedia.org/wiki/Special:FilePath/\"]\n",
    "try:\n",
    "    qlod = endpoint.queryAsListOfDicts(query.query)\n",
    "    lod = copy.deepcopy(qlod)\n",
    "    tablefmt = \"github\"\n",
    "    for prefix in prefixes:\n",
    "        query.prefixToLink(lod, prefix, tablefmt)\n",
    "    tryItUrl = query.getTryItUrl(endpoint_url.replace(\"/sparql\",\"\"))\n",
    "    doc = query.documentQueryResult(lod, tablefmt=tablefmt, floatfmt=\".0f\", tryItUrl=tryItUrl)\n",
    "    display(Markdown(str(doc)))\n",
    "except Exception as ex:\n",
    "    print(f\"{query.title} at {endpoint_url} failed: {ex}\")"
   ]
  },
  {
   "cell_type": "markdown",
   "id": "c2f04b02-243c-40e7-ab05-5f178e2624da",
   "metadata": {
    "tags": []
   },
   "source": [
    "# Possible Markdown result with Images"
   ]
  },
  {
   "cell_type": "markdown",
   "id": "0e10910b-a795-4c32-b113-c9e21713b56a",
   "metadata": {
    "tags": []
   },
   "source": [
    "## 15 Random substances with CAS number\n",
    "Wikidata SPARQL query showing the 15 random chemical substances with their CAS Number\n",
    "### query\n",
    "\n",
    "```sql\n",
    "# List of 15 random chemical components with CAS-Number, formula and structure\n",
    "# see also https://github.com/WolfgangFahl/pyLoDStorage/issues/46\n",
    "# WF 2021-08-23\n",
    "SELECT ?substance ?substanceLabel ?formula ?structure ?CAS\n",
    "WHERE { \n",
    "?substance wdt:P31 wd:Q11173.\n",
    "?substance wdt:P231 ?CAS.\n",
    "?substance wdt:P274 ?formula.\n",
    "?substance wdt:P117  ?structure.\n",
    "SERVICE wikibase:label { bd:serviceParam wikibase:language \"[AUTO_LANGUAGE],en\". }\n",
    "}\n",
    "LIMIT 15\n",
    "```\n",
    "\n",
    "[try it!](https://query.wikidata.org/#%23%20List%20of%2015%20random%20chemical%20components%20with%20CAS-Number%2C%20formula%20and%20structure%0A%23%20see%20also%20https%3A//github.com/WolfgangFahl/pyLoDStorage/issues/46%0A%23%20WF%202021-08-23%0ASELECT%20%3Fsubstance%20%3FsubstanceLabel%20%3Fformula%20%3Fstructure%20%3FCAS%0AWHERE%20%7B%20%0A%3Fsubstance%20wdt%3AP31%20wd%3AQ11173.%0A%3Fsubstance%20wdt%3AP231%20%3FCAS.%0A%3Fsubstance%20wdt%3AP274%20%3Fformula.%0A%3Fsubstance%20wdt%3AP117%20%20%3Fstructure.%0ASERVICE%20wikibase%3Alabel%20%7B%20bd%3AserviceParam%20wikibase%3Alanguage%20%22%5BAUTO_LANGUAGE%5D%2Cen%22.%20%7D%0A%7D%0ALIMIT%2015%0A)\n",
    "### result\n",
    "| substance                                       | substanceLabel      | formula       | structure                                                                                                                                     | CAS         |\n",
    "|-------------------------------------------------|---------------------|---------------|-----------------------------------------------------------------------------------------------------------------------------------------------|-------------|\n",
    "| [Q32703](http://www.wikidata.org/entity/Q32703) | aminomethylpropanol | C₄H₁₁NO       | ![2-amino-2-methyl-1-propanol.svg](http://commons.wikimedia.org/wiki/Special:FilePath/2-amino-2-methyl-1-propanol.svg)                         | 124-68-5    |\n",
    "| [Q32703](http://www.wikidata.org/entity/Q32703) | aminomethylpropanol | C₄H₁₁NO       | ![Isobutanolamine%20t.png](http://commons.wikimedia.org/wiki/Special:FilePath/Isobutanolamine%20t.png)                                         | 124-68-5    |\n",
    "| [Q43656](http://www.wikidata.org/entity/Q43656) | cholesterol         | C₂₇H₄₆O       | ![Structural%20formula%20of%20cholesterol.svg](http://commons.wikimedia.org/wiki/Special:FilePath/Structural%20formula%20of%20cholesterol.svg) | 57-88-5     |\n",
    "| [Q45143](http://www.wikidata.org/entity/Q45143) | fulminic acid       | CHNO          | ![Fulminezuur.png](http://commons.wikimedia.org/wiki/Special:FilePath/Fulminezuur.png)                                                         | 506-85-4    |\n",
    "| [Q49546](http://www.wikidata.org/entity/Q49546) | acetone             | C₃H₆O         | ![Acetone-2D-skeletal.svg](http://commons.wikimedia.org/wiki/Special:FilePath/Acetone-2D-skeletal.svg)                                         | 67-64-1     |\n",
    "| [Q49546](http://www.wikidata.org/entity/Q49546) | acetone             | C₃H₆O         | ![Acetone-structural.png](http://commons.wikimedia.org/wiki/Special:FilePath/Acetone-structural.png)                                           | 67-64-1     |\n",
    "| [Q52858](http://www.wikidata.org/entity/Q52858) | ethane              | C₂H₆          | ![Ethan%20Keilstrich.svg](http://commons.wikimedia.org/wiki/Special:FilePath/Ethan%20Keilstrich.svg)                                           | 74-84-0     |\n",
    "| [Q58356](http://www.wikidata.org/entity/Q58356) | amoxapine           | C₁₇H₁₆ClN₃O   | ![Amoxapine.svg](http://commons.wikimedia.org/wiki/Special:FilePath/Amoxapine.svg)                                                             | 14028-44-5  |\n",
    "| [Q58713](http://www.wikidata.org/entity/Q58713) | clomipramine        | C₁₉H₂₃ClN₂    | ![Clomipramine.svg](http://commons.wikimedia.org/wiki/Special:FilePath/Clomipramine.svg)                                                       | 303-49-1    |\n",
    "| [Q68484](http://www.wikidata.org/entity/Q68484) | prucalopride        | C₁₈H₂₆ClN₃O₃  | ![Prucalopride.svg](http://commons.wikimedia.org/wiki/Special:FilePath/Prucalopride.svg)                                                       | 179474-81-8 |\n",
    "| [Q68566](http://www.wikidata.org/entity/Q68566) | mosapride           | C₂₁H₂₅ClFN₃O₃ | ![Mosapride.svg](http://commons.wikimedia.org/wiki/Special:FilePath/Mosapride.svg)                                                             | 112885-41-3 |\n",
    "| [Q80232](http://www.wikidata.org/entity/Q80232) | cyclobutane         | C₄H₈          | ![Cyclobutane2.svg](http://commons.wikimedia.org/wiki/Special:FilePath/Cyclobutane2.svg)                                                       | 287-23-0    |\n",
    "| [Q80868](http://www.wikidata.org/entity/Q80868) | tolonium chloride   | C₁₅H₁₆ClN₃S   | ![Tolonium%20chloride.svg](http://commons.wikimedia.org/wiki/Special:FilePath/Tolonium%20chloride.svg)                                         | 92-31-9     |\n",
    "| [Q83320](http://www.wikidata.org/entity/Q83320) | nitric acid         | HNO₃          | ![Nitric-acid.png](http://commons.wikimedia.org/wiki/Special:FilePath/Nitric-acid.png)                                                         | 12507-77-6  |\n",
    "| [Q83320](http://www.wikidata.org/entity/Q83320) | nitric acid         | HNO₃          | ![Nitric-acid.png](http://commons.wikimedia.org/wiki/Special:FilePath/Nitric-acid.png)                                                         | 7697-37-2   |"
   ]
  },
  {
   "cell_type": "code",
   "execution_count": 2,
   "id": "4fe9e409-8870-465a-bcee-c942f5ea688a",
   "metadata": {},
   "outputs": [],
   "source": []
  }
 ],
 "metadata": {
  "kernelspec": {
   "display_name": "Python 3 (ipykernel)",
   "language": "python",
   "name": "python3"
  },
  "language_info": {
   "codemirror_mode": {
    "name": "ipython",
    "version": 3
   },
   "file_extension": ".py",
   "mimetype": "text/x-python",
   "name": "python",
   "nbconvert_exporter": "python",
   "pygments_lexer": "ipython3",
   "version": "3.9.13"
  }
 },
 "nbformat": 4,
 "nbformat_minor": 5
}
