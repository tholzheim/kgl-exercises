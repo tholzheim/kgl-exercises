{
 "cells": [
  {
   "cell_type": "markdown",
   "source": [
    "# pyLODStorage - SPARQL Queries\n",
    "## Install Dependencies"
   ],
   "metadata": {
    "collapsed": false
   }
  },
  {
   "cell_type": "code",
   "execution_count": null,
   "outputs": [],
   "source": [
    "import sys\n",
    "def installModule(projectName:str, moduleName:str=None):\n",
    "    '''Installs and loads the given module if not already installed'''\n",
    "    if moduleName is None:\n",
    "        moduleName=projectName\n",
    "    if moduleName not in sys.modules:\n",
    "        !python -m pip install --no-input $projectName\n",
    "        %reload_ext $moduleName\n",
    "        print(f'{projectName} installed')\n",
    "    else:\n",
    "        print(f'{projectName} found')\n",
    "\n",
    "installModule(\"pylodstorage\", \"lodstorage\")"
   ],
   "metadata": {
    "collapsed": false,
    "pycharm": {
     "is_executing": true
    }
   }
  },
  {
   "cell_type": "markdown",
   "id": "625382e4-7b56-4e27-ab1d-309fa3295e5a",
   "metadata": {},
   "source": [
    "## SPARQL Query (Chemical Compounds)"
   ]
  },
  {
   "cell_type": "code",
   "execution_count": 2,
   "id": "93eef561-c2dc-4ab7-bde9-79db468c8960",
   "metadata": {},
   "outputs": [
    {
     "data": {
      "text/plain": "<IPython.core.display.Markdown object>",
      "text/markdown": "## 15 Random substances with CAS number\nWikidata SPARQL query showing the 15 random chemical substances with their CAS Number\n### query\n```sparql\n# List of 15 random chemical components with CAS-Number, formula and structure\n# see also https://github.com/WolfgangFahl/pyLoDStorage/issues/46\n# WF 2021-08-23\nSELECT ?substance ?substanceLabel ?formula ?structure ?CAS\nWHERE { \n?substance wdt:P31 wd:Q11173.\n?substance wdt:P231 ?CAS.\n?substance wdt:P274 ?formula.\n?substance wdt:P117  ?structure.\nSERVICE wikibase:label { bd:serviceParam wikibase:language \"[AUTO_LANGUAGE],en\". }\n}\nLIMIT 15\n\n```\n[try it!](https://query.wikidata.org/#%23%20List%20of%2015%20random%20chemical%20components%20with%20CAS-Number%2C%20formula%20and%20structure%0A%23%20see%20also%20https%3A//github.com/WolfgangFahl/pyLoDStorage/issues/46%0A%23%20WF%202021-08-23%0ASELECT%20%3Fsubstance%20%3FsubstanceLabel%20%3Fformula%20%3Fstructure%20%3FCAS%0AWHERE%20%7B%20%0A%3Fsubstance%20wdt%3AP31%20wd%3AQ11173.%0A%3Fsubstance%20wdt%3AP231%20%3FCAS.%0A%3Fsubstance%20wdt%3AP274%20%3Fformula.%0A%3Fsubstance%20wdt%3AP117%20%20%3Fstructure.%0ASERVICE%20wikibase%3Alabel%20%7B%20bd%3AserviceParam%20wikibase%3Alanguage%20%22%5BAUTO_LANGUAGE%5D%2Cen%22.%20%7D%0A%7D%0ALIMIT%2015%0A/#%23%20List%20of%2015%20random%20chemical%20components%20with%20CAS-Number%2C%20formula%20and%20structure%0A%23%20see%20also%20https%3A//github.com/WolfgangFahl/pyLoDStorage/issues/46%0A%23%20WF%202021-08-23%0ASELECT%20%3Fsubstance%20%3FsubstanceLabel%20%3Fformula%20%3Fstructure%20%3FCAS%0AWHERE%20%7B%20%0A%3Fsubstance%20wdt%3AP31%20wd%3AQ11173.%0A%3Fsubstance%20wdt%3AP231%20%3FCAS.%0A%3Fsubstance%20wdt%3AP274%20%3Fformula.%0A%3Fsubstance%20wdt%3AP117%20%20%3Fstructure.%0ASERVICE%20wikibase%3Alabel%20%7B%20bd%3AserviceParam%20wikibase%3Alanguage%20%22%5BAUTO_LANGUAGE%5D%2Cen%22.%20%7D%0A%7D%0ALIMIT%2015%0A)\n## result\n| substance                                         | substanceLabel                   | formula      | structure                                                                                                                           | CAS        |\n|---------------------------------------------------|----------------------------------|--------------|-------------------------------------------------------------------------------------------------------------------------------------|------------|\n| [Q203174](http://www.wikidata.org/entity/Q203174) | thalidomide                      | C₁₃H₁₀N₂O₄   | [Thalidomide-2D-skeletal-wavy.svg](http://commons.wikimedia.org/wiki/Special:FilePath/Thalidomide-2D-skeletal-wavy.svg)             | 50-35-1    |\n| [Q204030](http://www.wikidata.org/entity/Q204030) | (E)-cinnamyl alcohol             | C₉H₁₀O       | [Cinnamyl alcohol.svg](http://commons.wikimedia.org/wiki/Special:FilePath/Cinnamyl%20alcohol.svg)                                   | 4407-36-7  |\n| [Q204594](http://www.wikidata.org/entity/Q204594) | zinc protoporphyrin              | C₃₄H₃₂N₄O₄Zn | [Zinc protoporphyrin.svg](http://commons.wikimedia.org/wiki/Special:FilePath/Zinc%20protoporphyrin.svg)                             | 15442-64-5 |\n| [Q204717](http://www.wikidata.org/entity/Q204717) | zinc dithionite                  | O₄S₂Zn       | [Zinc dithionite.svg](http://commons.wikimedia.org/wiki/Special:FilePath/Zinc%20dithionite.svg)                                     | 7779-86-4  |\n| [Q205562](http://www.wikidata.org/entity/Q205562) | ziram                            | C₆H₁₂N₂S₄Zn  | [Ziram.png](http://commons.wikimedia.org/wiki/Special:FilePath/Ziram.png)                                                           | 137-30-4   |\n| [Q207843](http://www.wikidata.org/entity/Q207843) | nitric oxide                     | NO           | [Nitric oxide.svg](http://commons.wikimedia.org/wiki/Special:FilePath/Nitric%20oxide.svg)                                           | 10102-43-9 |\n| [Q209281](http://www.wikidata.org/entity/Q209281) | 2,7-di-tert-butylthiepin         | C₁₄H₂₂S      | [Ditertbutylthiepin.png](http://commons.wikimedia.org/wiki/Special:FilePath/Ditertbutylthiepin.png)                                 | 83670-21-7 |\n| [Q209284](http://www.wikidata.org/entity/Q209284) | 2,6-lutidine                     | C₇H₉N        | [Lutidine.png](http://commons.wikimedia.org/wiki/Special:FilePath/Lutidine.png)                                                     | 108-48-5   |\n| [Q209355](http://www.wikidata.org/entity/Q209355) | ethephon                         | C₂H₆ClO₃P    | [Ethephon.png](http://commons.wikimedia.org/wiki/Special:FilePath/Ethephon.png)                                                     | 16672-87-0 |\n| [Q209407](http://www.wikidata.org/entity/Q209407) | 2-hydroxy-5-octanoylbenzoic acid | C₁₅H₂₀O₄     | [Lipo-Hydroxy-Säure.svg](http://commons.wikimedia.org/wiki/Special:FilePath/Lipo-Hydroxy-S%C3%A4ure.svg)                            | 78418-01-6 |\n| [Q209415](http://www.wikidata.org/entity/Q209415) | isopropyl iodide                 | C₃H₇I        | [Isopropyl iodide.svg](http://commons.wikimedia.org/wiki/Special:FilePath/Isopropyl%20iodide.svg)                                   | 75-30-9    |\n| [Q209444](http://www.wikidata.org/entity/Q209444) | 2-methyltetrahydrofuran          | C₅H₁₀O       | [Methyltetrahydrofuran.svg](http://commons.wikimedia.org/wiki/Special:FilePath/Methyltetrahydrofuran.svg)                           | 96-47-9    |\n| [Q209444](http://www.wikidata.org/entity/Q209444) | 2-methyltetrahydrofuran          | C₅H₁₀O       | [Methyltetrahydrofuran2.svg](http://commons.wikimedia.org/wiki/Special:FilePath/Methyltetrahydrofuran2.svg)                         | 96-47-9    |\n| [Q211433](http://www.wikidata.org/entity/Q211433) | cyclohexane                      | C₆H₁₂        | [Skeletal formula of cyclohexane.svg](http://commons.wikimedia.org/wiki/Special:FilePath/Skeletal%20formula%20of%20cyclohexane.svg) | 110-82-7   |\n| [Q211737](http://www.wikidata.org/entity/Q211737) | sodium sulfate                   | Na₂O₄S       | [Sodium sulfate.svg](http://commons.wikimedia.org/wiki/Special:FilePath/Sodium%20sulfate.svg)                                       | 7757-82-6  |"
     },
     "metadata": {},
     "output_type": "display_data"
    }
   ],
   "source": [
    "from IPython.display import display, Markdown\n",
    "from lodstorage.query import QueryManager, Query\n",
    "from lodstorage.sparql import SPARQL\n",
    "import copy\n",
    "show=True\n",
    "queryRecord={\n",
    "    \"endpoint\":\"https://query.wikidata.org/sparql\",\n",
    "    \"prefixes\": [\"http://www.wikidata.org/entity/\",\"http://commons.wikimedia.org/wiki/Special:FilePath/\"],\n",
    "    \"lang\": \"sparql\",\n",
    "    \"name\": \"CAS15\",\n",
    "    \"title\": \"15 Random substances with CAS number\",\n",
    "    \"description\": \"Wikidata SPARQL query showing the 15 random chemical substances with their CAS Number\",\n",
    "    \"query\": \"\"\"# List of 15 random chemical components with CAS-Number, formula and structure\n",
    "# see also https://github.com/WolfgangFahl/pyLoDStorage/issues/46\n",
    "# WF 2021-08-23\n",
    "SELECT ?substance ?substanceLabel ?formula ?structure ?CAS\n",
    "WHERE { \n",
    "?substance wdt:P31 wd:Q11173.\n",
    "?substance wdt:P231 ?CAS.\n",
    "?substance wdt:P274 ?formula.\n",
    "?substance wdt:P117  ?structure.\n",
    "SERVICE wikibase:label { bd:serviceParam wikibase:language \"[AUTO_LANGUAGE],en\". }\n",
    "}\n",
    "LIMIT 15\n",
    "\"\"\"\n",
    "    }\n",
    "endpointUrl=queryRecord.pop(\"endpoint\")\n",
    "prefixes=queryRecord.pop(\"prefixes\")\n",
    "endpoint=SPARQL(endpointUrl)\n",
    "query=Query(**queryRecord)\n",
    "try:\n",
    "    qlod=endpoint.queryAsListOfDicts(query.query)\n",
    "    lod=copy.deepcopy(qlod)\n",
    "    tablefmt=\"github\"\n",
    "    for prefix in prefixes:\n",
    "        query.prefixToLink(lod,prefix,tablefmt)\n",
    "    tryItUrl=query.getTryItUrl(endpointUrl.replace(\"/sparql\",\"\"))\n",
    "    doc=query.documentQueryResult(lod, tablefmt=tablefmt,floatfmt=\".0f\",tryItUrl=tryItUrl)\n",
    "    display(Markdown(str(doc)))\n",
    "except Exception as ex:\n",
    "            print(f\"{query.title} at {endpointUrl} failed: {ex}\")"
   ]
  },
  {
   "cell_type": "markdown",
   "id": "c2f04b02-243c-40e7-ab05-5f178e2624da",
   "metadata": {},
   "source": [
    "# Possible Markdown result with Images"
   ]
  },
  {
   "cell_type": "markdown",
   "id": "0e10910b-a795-4c32-b113-c9e21713b56a",
   "metadata": {},
   "source": [
    "## 15 Random substances with CAS number\n",
    "Wikidata SPARQL query showing the 15 random chemical substances with their CAS Number\n",
    "### query\n",
    "\n",
    "```sql\n",
    "# List of 15 random chemical components with CAS-Number, formula and structure\n",
    "# see also https://github.com/WolfgangFahl/pyLoDStorage/issues/46\n",
    "# WF 2021-08-23\n",
    "SELECT ?substance ?substanceLabel ?formula ?structure ?CAS\n",
    "WHERE { \n",
    "?substance wdt:P31 wd:Q11173.\n",
    "?substance wdt:P231 ?CAS.\n",
    "?substance wdt:P274 ?formula.\n",
    "?substance wdt:P117  ?structure.\n",
    "SERVICE wikibase:label { bd:serviceParam wikibase:language \"[AUTO_LANGUAGE],en\". }\n",
    "}\n",
    "LIMIT 15\n",
    "```\n",
    "\n",
    "[try it!](https://query.wikidata.org/#%23%20List%20of%2015%20random%20chemical%20components%20with%20CAS-Number%2C%20formula%20and%20structure%0A%23%20see%20also%20https%3A//github.com/WolfgangFahl/pyLoDStorage/issues/46%0A%23%20WF%202021-08-23%0ASELECT%20%3Fsubstance%20%3FsubstanceLabel%20%3Fformula%20%3Fstructure%20%3FCAS%0AWHERE%20%7B%20%0A%3Fsubstance%20wdt%3AP31%20wd%3AQ11173.%0A%3Fsubstance%20wdt%3AP231%20%3FCAS.%0A%3Fsubstance%20wdt%3AP274%20%3Fformula.%0A%3Fsubstance%20wdt%3AP117%20%20%3Fstructure.%0ASERVICE%20wikibase%3Alabel%20%7B%20bd%3AserviceParam%20wikibase%3Alanguage%20%22%5BAUTO_LANGUAGE%5D%2Cen%22.%20%7D%0A%7D%0ALIMIT%2015%0A)\n",
    "### result\n",
    "| substance                                       | substanceLabel      | formula       | structure                                                                                                                                     | CAS         |\n",
    "|-------------------------------------------------|---------------------|---------------|-----------------------------------------------------------------------------------------------------------------------------------------------|-------------|\n",
    "| [Q32703](http://www.wikidata.org/entity/Q32703) | aminomethylpropanol | C₄H₁₁NO       | ![2-amino-2-methyl-1-propanol.svg](http://commons.wikimedia.org/wiki/Special:FilePath/2-amino-2-methyl-1-propanol.svg)                         | 124-68-5    |\n",
    "| [Q32703](http://www.wikidata.org/entity/Q32703) | aminomethylpropanol | C₄H₁₁NO       | ![Isobutanolamine%20t.png](http://commons.wikimedia.org/wiki/Special:FilePath/Isobutanolamine%20t.png)                                         | 124-68-5    |\n",
    "| [Q43656](http://www.wikidata.org/entity/Q43656) | cholesterol         | C₂₇H₄₆O       | ![Structural%20formula%20of%20cholesterol.svg](http://commons.wikimedia.org/wiki/Special:FilePath/Structural%20formula%20of%20cholesterol.svg) | 57-88-5     |\n",
    "| [Q45143](http://www.wikidata.org/entity/Q45143) | fulminic acid       | CHNO          | ![Fulminezuur.png](http://commons.wikimedia.org/wiki/Special:FilePath/Fulminezuur.png)                                                         | 506-85-4    |\n",
    "| [Q49546](http://www.wikidata.org/entity/Q49546) | acetone             | C₃H₆O         | ![Acetone-2D-skeletal.svg](http://commons.wikimedia.org/wiki/Special:FilePath/Acetone-2D-skeletal.svg)                                         | 67-64-1     |\n",
    "| [Q49546](http://www.wikidata.org/entity/Q49546) | acetone             | C₃H₆O         | ![Acetone-structural.png](http://commons.wikimedia.org/wiki/Special:FilePath/Acetone-structural.png)                                           | 67-64-1     |\n",
    "| [Q52858](http://www.wikidata.org/entity/Q52858) | ethane              | C₂H₆          | ![Ethan%20Keilstrich.svg](http://commons.wikimedia.org/wiki/Special:FilePath/Ethan%20Keilstrich.svg)                                           | 74-84-0     |\n",
    "| [Q58356](http://www.wikidata.org/entity/Q58356) | amoxapine           | C₁₇H₁₆ClN₃O   | ![Amoxapine.svg](http://commons.wikimedia.org/wiki/Special:FilePath/Amoxapine.svg)                                                             | 14028-44-5  |\n",
    "| [Q58713](http://www.wikidata.org/entity/Q58713) | clomipramine        | C₁₉H₂₃ClN₂    | ![Clomipramine.svg](http://commons.wikimedia.org/wiki/Special:FilePath/Clomipramine.svg)                                                       | 303-49-1    |\n",
    "| [Q68484](http://www.wikidata.org/entity/Q68484) | prucalopride        | C₁₈H₂₆ClN₃O₃  | ![Prucalopride.svg](http://commons.wikimedia.org/wiki/Special:FilePath/Prucalopride.svg)                                                       | 179474-81-8 |\n",
    "| [Q68566](http://www.wikidata.org/entity/Q68566) | mosapride           | C₂₁H₂₅ClFN₃O₃ | ![Mosapride.svg](http://commons.wikimedia.org/wiki/Special:FilePath/Mosapride.svg)                                                             | 112885-41-3 |\n",
    "| [Q80232](http://www.wikidata.org/entity/Q80232) | cyclobutane         | C₄H₈          | ![Cyclobutane2.svg](http://commons.wikimedia.org/wiki/Special:FilePath/Cyclobutane2.svg)                                                       | 287-23-0    |\n",
    "| [Q80868](http://www.wikidata.org/entity/Q80868) | tolonium chloride   | C₁₅H₁₆ClN₃S   | ![Tolonium%20chloride.svg](http://commons.wikimedia.org/wiki/Special:FilePath/Tolonium%20chloride.svg)                                         | 92-31-9     |\n",
    "| [Q83320](http://www.wikidata.org/entity/Q83320) | nitric acid         | HNO₃          | ![Nitric-acid.png](http://commons.wikimedia.org/wiki/Special:FilePath/Nitric-acid.png)                                                         | 12507-77-6  |\n",
    "| [Q83320](http://www.wikidata.org/entity/Q83320) | nitric acid         | HNO₃          | ![Nitric-acid.png](http://commons.wikimedia.org/wiki/Special:FilePath/Nitric-acid.png)                                                         | 7697-37-2   |"
   ]
  },
  {
   "cell_type": "code",
   "execution_count": 2,
   "id": "4fe9e409-8870-465a-bcee-c942f5ea688a",
   "metadata": {},
   "outputs": [],
   "source": []
  }
 ],
 "metadata": {
  "kernelspec": {
   "display_name": "Python 3",
   "language": "python",
   "name": "python3"
  },
  "language_info": {
   "codemirror_mode": {
    "name": "ipython",
    "version": 3
   },
   "file_extension": ".py",
   "mimetype": "text/x-python",
   "name": "python",
   "nbconvert_exporter": "python",
   "pygments_lexer": "ipython3",
   "version": "3.7.11"
  }
 },
 "nbformat": 4,
 "nbformat_minor": 5
}
