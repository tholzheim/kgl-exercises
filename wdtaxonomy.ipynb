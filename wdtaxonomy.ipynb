{
 "cells": [
  {
   "cell_type": "markdown",
   "id": "8ad42d4c-e5e1-46cd-a1ac-8f5a65b088a0",
   "metadata": {},
   "source": [
    "# [Wikidata-Taxonomy](https://wdtaxonomy.readthedocs.io/en/latest/README.html)\n",
    "Wikidata Taxonomy is a tool that allows to extract the subclass hierarchy of wikidata items.\n",
    "These information are.. needed when writing or optimizing queries.\n",
    "## Prerequisites\n",
    "Please run the prerequiste cells before trying the examples.\n",
    "### Install python module dependencies"
   ]
  },
  {
   "cell_type": "code",
   "execution_count": null,
   "id": "a830e1e7-ff74-49ec-88c9-ba9a4ff18c39",
   "metadata": {},
   "outputs": [],
   "source": [
    "import sys\n",
    "def installModule(projectName:str, moduleName:str=None):\n",
    "    '''Installs and loads the given module if not already installed'''\n",
    "    if moduleName is None:\n",
    "        moduleName=projectName\n",
    "    !python -m pip install -U --no-input $projectName\n",
    "    print(f'{projectName} installed')\n",
    "    %reload_ext $moduleName\n",
    "\n",
    "installModule('graphviz')"
   ]
  },
  {
   "cell_type": "markdown",
   "id": "7a55d5a5-88bf-4317-8f21-d9ca81fb1648",
   "metadata": {},
   "source": [
    "### Install Wikidata-Taxonomy"
   ]
  },
  {
   "cell_type": "code",
   "execution_count": null,
   "id": "1814ba33-0721-49a9-bb04-6feec88e0fdc",
   "metadata": {},
   "outputs": [],
   "source": [
    "!npm install -g wikidata-taxonomy"
   ]
  },
  {
   "cell_type": "markdown",
   "id": "6a86c302-99c7-4a1b-9f81-026b84a82b06",
   "metadata": {},
   "source": [
    "### Helper Functions"
   ]
  },
  {
   "cell_type": "code",
   "execution_count": null,
   "id": "425c63c4-2ec5-46dc-b1f6-1f515767466d",
   "metadata": {},
   "outputs": [],
   "source": [
    "import graphviz\n",
    "def plotTaxonomy(wikidataId:str):\n",
    "    \"\"\"\n",
    "    Plots the taxonomy of the given wikidata entity as an graph\n",
    "    \n",
    "    Args:\n",
    "        wikidataId(str): wikidataId e.g. \"Q634\"\n",
    "        \n",
    "    Returns:\n",
    "        graphviz directed graph\n",
    "    \"\"\"\n",
    "    dot = graphviz.Digraph(comment=f'Taxonomy of {wikidataId}')\n",
    "    dot.attr(rankdir='RL')\n",
    "    \n",
    "    # Execute wdtaxonomy and store output in variable   \n",
    "    taxonomy = !wdtaxonomy $wikidataId -f csv\n",
    "    taxonomy=[t.split(\",\") for t in taxonomy]\n",
    "    headers=taxonomy.pop(0)\n",
    "    hierarchyBacklog={}\n",
    "    for t in taxonomy:\n",
    "        level=t[0].count(\"-\")\n",
    "        wId=t[1]\n",
    "        label=t[2]\n",
    "        dot.node(wId, label)\n",
    "        hierarchyBacklog[level]=wId\n",
    "        if level>0:            \n",
    "            dot.edge(wId,hierarchyBacklog[level-1])\n",
    "    return dot"
   ]
  },
  {
   "cell_type": "markdown",
   "id": "cb5a2e29-49c3-4720-a304-c88984cf6275",
   "metadata": {},
   "source": [
    "## Usage\n",
    "wikidata-Taxonomy is a command-line tool that can be used inside of jupyter notebooks by adding a leading exclamation mark before the command. Allowing to use and store the results of cmd-line tools.\n",
    "\n",
    "For more details look into the [documentation of the tool](https://wdtaxonomy.readthedocs.io/en/latest/README.html)."
   ]
  },
  {
   "cell_type": "code",
   "execution_count": null,
   "id": "5c567c3d-a6f5-489d-8c83-33cc187804b1",
   "metadata": {},
   "outputs": [],
   "source": [
    "!wdtaxonomy -h"
   ]
  },
  {
   "cell_type": "markdown",
   "id": "7d48e171-eed9-43d0-b4cc-206dfa692522",
   "metadata": {},
   "source": [
    "### Summarizing the Taxonomy\n",
    "To get the taxonomy of the [planet](https://www.wikidata.org/wiki/Q634) entity we call the following:"
   ]
  },
  {
   "cell_type": "code",
   "execution_count": null,
   "id": "1ab77ee2-6349-4db0-8d9d-d4052511e310",
   "metadata": {},
   "outputs": [],
   "source": [
    "!wdtaxonomy Q634"
   ]
  },
  {
   "cell_type": "markdown",
   "id": "ea51ba71-570e-45a5-8e4c-bec77c30ecb8",
   "metadata": {},
   "source": [
    "Instead of the cmd-line output the taxonomy can also be ploted as graphy by using the __plotTaxonomy()__ function."
   ]
  },
  {
   "cell_type": "code",
   "execution_count": null,
   "id": "689628d2-927a-456c-a1a0-36aecda3d761",
   "metadata": {},
   "outputs": [],
   "source": [
    "plotTaxonomy(\"Q634\")"
   ]
  },
  {
   "cell_type": "markdown",
   "id": "36359bae-a4eb-4a29-8b6e-7472db785329",
   "metadata": {},
   "source": [
    "### Taxonomy Summarization Query\n",
    "By adding __-s__ to the wdtaxonomy command the query that is used to summarize the entity taxonomy is printed out."
   ]
  },
  {
   "cell_type": "code",
   "execution_count": null,
   "id": "682998cd-4ed0-4694-ac20-794a32bad08e",
   "metadata": {},
   "outputs": [],
   "source": [
    "!wdtaxonomy Q486972  -c -d -m = -s"
   ]
  },
  {
   "cell_type": "markdown",
   "id": "ffe667f1-e471-4302-9f3b-9aef05703007",
   "metadata": {
    "tags": []
   },
   "source": [
    "## Further Examples"
   ]
  },
  {
   "cell_type": "markdown",
   "id": "ffb07b8b-bbfc-466f-b295-3a6d94a9d150",
   "metadata": {
    "tags": []
   },
   "source": [
    "### [hospital](https://www.wikidata.org/wiki/Q16917) generalization / specialization"
   ]
  },
  {
   "cell_type": "code",
   "execution_count": null,
   "id": "a9f0014b-133d-4bfa-8213-3a4839d21822",
   "metadata": {},
   "outputs": [],
   "source": [
    "!wdtaxonomy Q16917 -c -d -m ="
   ]
  },
  {
   "cell_type": "code",
   "execution_count": null,
   "id": "2c8d9af3-9fda-4dba-958d-b7ea87898a32",
   "metadata": {},
   "outputs": [],
   "source": [
    "plotTaxonomy(\"Q16917\") #Some subclasses of hospital seem to assign the labels differently as the labels are not extracted for some of the them"
   ]
  },
  {
   "cell_type": "markdown",
   "id": "d0cbcdfd-39dd-4f16-9978-abb02a368da3",
   "metadata": {
    "tags": []
   },
   "source": [
    "### Taxonomy of [Human settlement](https://www.wikidata.org/wiki/Q486972)"
   ]
  },
  {
   "cell_type": "markdown",
   "id": "6be7d172-a67d-4669-8194-5e0fa863e5bc",
   "metadata": {},
   "source": [
    "#### wdtaxonomy command"
   ]
  },
  {
   "cell_type": "code",
   "execution_count": null,
   "id": "7029e275-a1c7-4224-b4e8-aa92ced64ad7",
   "metadata": {},
   "outputs": [],
   "source": [
    "!wdtaxonomy Q486972 -c -d -m ="
   ]
  },
  {
   "cell_type": "markdown",
   "id": "4a1b3d97-37a7-4d94-935d-ac4a363f4f20",
   "metadata": {},
   "source": [
    "#### Taxonomy Graph"
   ]
  },
  {
   "cell_type": "code",
   "execution_count": null,
   "id": "c9e6bc78-06bd-4b2b-aaec-96b58df19836",
   "metadata": {},
   "outputs": [],
   "source": [
    "g=plotTaxonomy(\"Q486972\")\n",
    "g.format = 'svg'\n",
    "# uncomment to generate a svg. The svg version of the graph is more readable and can be opened from the notebook by 'right click' → 'Open in New Browser Tab' on the generated svg-file.\n",
    "#g.render()\n",
    "g"
   ]
  }
 ],
 "metadata": {
  "kernelspec": {
   "display_name": "Python 3 (ipykernel)",
   "language": "python",
   "name": "python3"
  },
  "language_info": {
   "codemirror_mode": {
    "name": "ipython",
    "version": 3
   },
   "file_extension": ".py",
   "mimetype": "text/x-python",
   "name": "python",
   "nbconvert_exporter": "python",
   "pygments_lexer": "ipython3",
   "version": "3.9.13"
  }
 },
 "nbformat": 4,
 "nbformat_minor": 5
}
