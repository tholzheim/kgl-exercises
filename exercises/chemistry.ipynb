{
 "cells": [
  {
   "cell_type": "markdown",
   "metadata": {},
   "source": [
    "# Chemistry example: Cement"
   ]
  },
  {
   "cell_type": "markdown",
   "metadata": {},
   "source": [
    "ChemistryThis example is about chemical components. The idea is to take input from a natural language text that contains descriptions about chemical components. With Natural Language Processing the relevant component names shall be extracted and the corresponding components shall be looked up in the Wikidata knowledge graph.\n",
    "\n",
    "See also:\n",
    "[Entity Linking](https://rq.bitplan.com/index.php/Entity_Linking)\n",
    "\n",
    "## Example\n",
    "Input as natural text: \"Polylactic acid (PLA) and Acrylonitrile butadiene styrene (ABS) are 3D printing filaments.\"\n",
    "Extraction of component names:\n",
    "\n",
    "* PLA - Polylactic acid\n",
    "* ABS - Acrylonitrile butadiene styrene\n",
    "\n",
    "Lookup in Wikidata as:\n",
    "* [PLA - Q413769](https://www.wikidata.org/wiki/Q413769) (C₃H₆O₃)x\n",
    "* [ABS - Q143496](https://www.wikidata.org/wiki/Q143496) C₁₅H₁₇N"
   ]
  },
  {
   "cell_type": "markdown",
   "metadata": {},
   "source": [
    "# Prerequisites\n",
    "Please run the prerequiste cells before trying the examples."
   ]
  },
  {
   "cell_type": "markdown",
   "metadata": {},
   "source": [
    "## Install python module dependencies"
   ]
  },
  {
   "cell_type": "code",
   "execution_count": null,
   "metadata": {
    "pycharm": {
     "is_executing": true
    }
   },
   "outputs": [],
   "source": [
    "import sys\n",
    "def installModule(projectName:str, moduleName:str=None):\n",
    "    '''Installs and loads the given module if not already installed'''\n",
    "    if moduleName is None:\n",
    "        moduleName=projectName\n",
    "    !python -m pip install -U --no-input $projectName\n",
    "    print(f'{projectName} installed')\n",
    "    %reload_ext $moduleName\n",
    "\n",
    "installModule('jupyter-xml')\n",
    "installModule('SPARQLWrapper')\n",
    "installModule('tabulate')\n",
    "installModule('spacy==3.4', 'spacy')\n",
    "installModule('newspaper3k', 'newspaper')\n",
    "installModule(\"pylodstorage\", \"lodstorage\")"
   ]
  },
  {
   "cell_type": "markdown",
   "metadata": {},
   "source": [
    "## Download Models"
   ]
  },
  {
   "cell_type": "code",
   "execution_count": null,
   "metadata": {
    "pycharm": {
     "is_executing": true
    }
   },
   "outputs": [],
   "source": [
    "!python -m spacy download en_core_web_sm    # efficient"
   ]
  },
  {
   "cell_type": "markdown",
   "metadata": {},
   "source": [
    "# Chemistry Example Wikidata Query\n",
    "see [pyLodStorage Random Substances with CAS number example](http://wiki.bitplan.com/index.php/PyLoDStorage#15_Random_substances_with_CAS_number)"
   ]
  },
  {
   "cell_type": "markdown",
   "metadata": {},
   "source": [
    "## Extract text from website\n",
    "We take input from [Penn State University text about the composition of Cement](https://www.engr.psu.edu/ce/courses/ce584/concrete/library/construction/curing/Composition%20of%20cement.htm)\n",
    "which contains mentions of compounds such as \"Silicon dioxide\". We'd like to lookup the corresponding Wikidata entry [Silicon dioxide: Q116269](https://www.wikidata.org/wiki/Q116269)"
   ]
  },
  {
   "cell_type": "code",
   "execution_count": null,
   "metadata": {
    "pycharm": {
     "is_executing": true
    }
   },
   "outputs": [],
   "source": [
    "from newspaper import Article\n",
    "url=\"https://www.engr.psu.edu/ce/courses/ce584/concrete/library/construction/curing/Composition%20of%20cement.htm\"\n",
    "# ToDo: load and parse the content of the url"
   ]
  },
  {
   "cell_type": "markdown",
   "metadata": {},
   "source": [
    "# NLP with spacy\n",
    "Try to identify [chemical compounds](https://www.wikidata.org/wiki/Q11173) with the natural language processing library [Spacy](https://spacy.io/)"
   ]
  },
  {
   "cell_type": "code",
   "execution_count": null,
   "metadata": {
    "pycharm": {
     "is_executing": true
    }
   },
   "outputs": [],
   "source": [
    "import spacy\n",
    "from tabulate import tabulate\n",
    "# Load English tokenizer, tagger, parser and NER\n",
    "nlp = spacy.load('en_core_web_sm')\n",
    "# ToDo: analyze the url content with the natual language processing (nlp) to extract raw information about chemical compounds"
   ]
  },
  {
   "cell_type": "markdown",
   "metadata": {},
   "source": [
    "# Query wikidata for mentioned Chemical Compounds\n",
    "The NER (Named Entity Recognition) of Spacy seems not to detect the chemical compounds as a known category. \n",
    "Thus we need to work around this limitation and try to use the found nouns to query wikidata for the referenced compounds."
   ]
  },
  {
   "cell_type": "markdown",
   "metadata": {},
   "source": [
    "## Setting up the [wikidata query endpoint](https://query.wikidata.org/)"
   ]
  },
  {
   "cell_type": "code",
   "execution_count": 5,
   "metadata": {},
   "outputs": [],
   "source": [
    "from lodstorage.query import QueryManager, Query\n",
    "from lodstorage.sparql import SPARQL\n",
    "from IPython.display import display, Markdown\n",
    "endpoint=SPARQL(\"https://query.wikidata.org/sparql\")"
   ]
  },
  {
   "cell_type": "markdown",
   "metadata": {},
   "source": [
    "## Get matching entites\n",
    "The found information such as the nouns by spacy can be matched against the labels of chemical compounds.\n",
    "\n",
    "A wikidata entity such as [Silicon dioxide: Q116269](https://www.wikidata.org/wiki/Q116269) has [rdfs:label](https://www.w3.org/TR/rdf-schema/#ch_label) for different languages specified with the languages tag (e.g. @en). \n",
    "\n",
    "To also query the names that are defined in the __Also known as__ column of the entity page the [skos:altLabel](https://www.w3.org/2009/08/skos-reference/skos.html#altLabel) property has to be queried.\n",
    "Searching for the label in both properties can be accomplished by using the [alternative path](https://www.w3.org/TR/sparql11-query/#propertypaths) feature of SPARQL.\n",
    "\n",
    "> Note: The wikidata endpoint has a horizontal line limit and thus the values in the [VALUES clause](https://www.w3.org/TR/sparql11-query/#inline-data) are added over multiple lines.\n"
   ]
  },
  {
   "cell_type": "code",
   "execution_count": null,
   "metadata": {
    "pycharm": {
     "is_executing": true
    }
   },
   "outputs": [],
   "source": [
    "from SPARQLWrapper import SPARQLWrapper, JSON, CSV\n",
    "from tabulate import tabulate\n",
    "# ToDo: query wikidata to identify found chemical compounds"
   ]
  },
  {
   "cell_type": "markdown",
   "source": [],
   "metadata": {
    "collapsed": false
   }
  },
  {
   "cell_type": "markdown",
   "source": [
    "## Extract additional information about the entities\n",
    "The queried substances can now be used to query additional information about them.\n",
    "Since some information might not be avaliable for a substance, the prperties are queried in an [OPTIONAL clause](https://www.w3.org/TR/sparql11-query/#optionals) to include the entity eventhough the triple match is not fulfilled.\n",
    "You might want to extract the chemical formula, structure and CAS id."
   ],
   "metadata": {
    "collapsed": false
   }
  },
  {
   "cell_type": "code",
   "execution_count": null,
   "metadata": {
    "pycharm": {
     "is_executing": true
    }
   },
   "outputs": [],
   "source": [
    "# ToDo: query additional information about the chemical compounds"
   ]
  },
  {
   "cell_type": "markdown",
   "source": [
    "A possible solution for this exercise can be found [here](./solutions/chemistry_solution.ipynb)."
   ],
   "metadata": {
    "collapsed": false
   }
  },
  {
   "cell_type": "code",
   "execution_count": null,
   "outputs": [],
   "source": [],
   "metadata": {
    "collapsed": false
   }
  }
 ],
 "metadata": {
  "kernelspec": {
   "display_name": "Python 3",
   "language": "python",
   "name": "python3"
  },
  "language_info": {
   "codemirror_mode": {
    "name": "ipython",
    "version": 3
   },
   "file_extension": ".py",
   "mimetype": "text/x-python",
   "name": "python",
   "nbconvert_exporter": "python",
   "pygments_lexer": "ipython3",
   "version": "3.7.11"
  }
 },
 "nbformat": 4,
 "nbformat_minor": 4
}
