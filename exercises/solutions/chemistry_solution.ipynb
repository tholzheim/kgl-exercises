{
 "cells": [
  {
   "cell_type": "markdown",
   "metadata": {},
   "source": [
    "# Chemistry example: Cement (Possible Solution)"
   ]
  },
  {
   "cell_type": "markdown",
   "metadata": {},
   "source": [
    "This example is about chemical components. The idea is to take input from a natural language text that contains descriptions about chemical components. With Natural Language Processing the relevant component names shall be extracted and the corresponding components shall be looked up in the Wikidata knowledge graph.\n",
    "\n",
    "See also:\n",
    "[Entity Linking](https://rq.bitplan.com/index.php/Entity_Linking)\n",
    "\n",
    "## Example\n",
    "Input as natural text: \"Polylactic acid (PLA) and Acrylonitrile butadiene styrene (ABS) are 3D printing filaments.\"\n",
    "Extraction of component names:\n",
    "\n",
    "* PLA - Polylactic acid\n",
    "* ABS - Acrylonitrile butadiene styrene\n",
    "\n",
    "Lookup in Wikidata as:\n",
    "* [PLA - Q413769](https://www.wikidata.org/wiki/Q413769) (C₃H₆O₃)x\n",
    "* [ABS - Q143496](https://www.wikidata.org/wiki/Q143496) C₁₅H₁₇N"
   ]
  },
  {
   "cell_type": "markdown",
   "metadata": {},
   "source": [
    "# Prerequisites\n",
    "Please run the prerequiste cells before trying the examples."
   ]
  },
  {
   "cell_type": "markdown",
   "metadata": {},
   "source": [
    "## Install python module dependencies"
   ]
  },
  {
   "cell_type": "code",
   "execution_count": null,
   "metadata": {
    "pycharm": {
     "is_executing": true
    }
   },
   "outputs": [],
   "source": [
    "import sys\n",
    "def installModule(projectName:str, moduleName:str=None):\n",
    "    '''Installs and loads the given module if not already installed'''\n",
    "    if moduleName is None:\n",
    "        moduleName=projectName\n",
    "    !python -m pip install -U --no-input $projectName\n",
    "    print(f'{projectName} installed')\n",
    "    %reload_ext $moduleName\n",
    "\n",
    "installModule('jupyter-xml')\n",
    "installModule('SPARQLWrapper')\n",
    "installModule('tabulate')\n",
    "installModule('spacy==3.4', 'spacy')\n",
    "installModule('newspaper3k', 'newspaper')\n",
    "installModule(\"pylodstorage\", \"lodstorage\")"
   ]
  },
  {
   "cell_type": "markdown",
   "metadata": {},
   "source": [
    "## Download Models"
   ]
  },
  {
   "cell_type": "code",
   "execution_count": null,
   "metadata": {
    "pycharm": {
     "is_executing": true
    }
   },
   "outputs": [],
   "source": [
    "!python -m spacy download en_core_web_sm    # efficient"
   ]
  },
  {
   "cell_type": "markdown",
   "metadata": {},
   "source": [
    "# Chemistry Example Wikidata Query\n",
    "see [pyLodStorage Random Substances with CAS number example](http://wiki.bitplan.com/index.php/PyLoDStorage#15_Random_substances_with_CAS_number)"
   ]
  },
  {
   "cell_type": "markdown",
   "metadata": {},
   "source": [
    "## Extract text from website\n",
    "We take input from [Penn State University text about the composition of Cement](https://www.engr.psu.edu/ce/courses/ce584/concrete/library/construction/curing/Composition%20of%20cement.htm)\n",
    "which contains mentions of compounds such as \"Silicon dioxide\". We'd like to lookup the corresponding Wikidata entry [Silicon dioxide: Q116269](https://www.wikidata.org/wiki/Q116269)"
   ]
  },
  {
   "cell_type": "code",
   "execution_count": 3,
   "metadata": {},
   "outputs": [
    {
     "name": "stdout",
     "output_type": "stream",
     "text": [
      "Composition of cement\n",
      "\n",
      "Introduction\n",
      "\n",
      "Portland cement gets its strength from chemical reactions between the cement and water. The process is known as  ...\n"
     ]
    }
   ],
   "source": [
    "from newspaper import Article\n",
    "url=\"https://www.engr.psu.edu/ce/courses/ce584/concrete/library/construction/curing/Composition%20of%20cement.htm\"\n",
    "article = Article(url)\n",
    "article.download()\n",
    "article.parse()\n",
    "text=article.text\n",
    "print(text[:149],\"...\")"
   ]
  },
  {
   "cell_type": "markdown",
   "metadata": {},
   "source": [
    "# NLP with spacy\n",
    "Try to identify [chemical compounds](https://www.wikidata.org/wiki/Q11173) with the natural language processing library [Spacy](https://spacy.io/)"
   ]
  },
  {
   "cell_type": "code",
   "execution_count": 4,
   "metadata": {},
   "outputs": [
    {
     "name": "stdout",
     "output_type": "stream",
     "text": [
      "Found nouns:\n",
      " ['Composition', 'cement\\n\\nIntroduction\\n\\nPortland cement', 'its strength', 'chemical reactions', 'the cement', 'water', 'The process', 'hydration', 'This', 'a complex process', 'that', 'the chemical composition', 'cement', 'Manufacture', 'cement\\n\\nPortland cement', 'milling', 'the following materials', 'CaO', 'limestone', 'chalk', 'shells', 'sand', 'clay', 'argillaceous rock', 'sand', ', old bottles', 'clay', 'argillaceous rock\\n\\nAlumina', 'Al', 'O', 'O', 'clay\\n\\nIron', '2 O', 'clay', 'iron ore', 'scrap iron', 'ash', 'O', 'clay', 'iron ore', 'scrap iron', 'Gypsum', 'CaSO', '.2H', 'limestone\\n\\nChemical shorthand', 'the complex chemical nature', 'cement', 'a shorthand form', 'the chemical compounds', 'The shorthand', 'the basic compounds', 'Compound Formula Shorthand', 'Calcium oxide', 'lime', 'Ca0 C Silicon dioxide', 'silica', '2 S Aluminum oxide', 'alumina', 'Al', 'O', 'O', '2 O H Sulfate', '3 S\\n\\nCompound Formula Shorthand', '%', 'Tricalcium aluminate', 'Ca', 'O', '6 C', 'A 10 Tetracalcium aluminoferrite', 'Ca', 'Al 2 Fe', 'O 10 C 4 AF 8 Belite or dicalcium silicate', 'Ca 2 SiO 5 C 2 S 20 Alite', 'tricalcium', 'Ca 3 SiO 4 C 3 S 55 Sodium oxide', 'Na', 'Up to 2 Potassium oxide', 'K', 'O K Gypsum CaSO', '.2H', '2 O C S H', '2 5\\n\\nRepresentative', 'Actual weight', 'type', 'cement', 'Source', 'Mindess', 'Young\\n\\nProperties', 'cement', 'These compounds', 'the properties', 'cement', 'different ways', 'Tricalcium aluminate', 'C', '3\\n\\nTricalcium silicate', 'C 3 S:-\\n\\nDicalcium silicate', 'C 2 S', 'Ferrite', 'C', '4 AF', 'these compounds', 'manufacturers', 'different types', 'cement', 'several construction environments', 'References', 'Sidney Mindess', 'J. Francis Young', 'Concrete', 'Prentice-Hall, Inc.', 'Englewood Cliffs', 'pp', 'Steve Kosmatka', 'William Panarese', 'Concrete Mixes', 'Portland Cement Association', 'pp', 'Michael Mamlouk', 'John Zaniewski', 'Materials', 'Civil and Construction Engineers', 'Addison Wesley Longman, Inc.']\n",
      "Text                                            Entity Tag\n",
      "----------------------------------------------  ------------\n",
      "Introduction                                    ORG\n",
      "\n",
      "Portland\n",
      "first                                           ORDINAL\n",
      "Portland                                        GPE\n",
      "Silica                                          GPE\n",
      "2                                               CARDINAL\n",
      "Alumina                                         GPE\n",
      "3                                               CARDINAL\n",
      "4                                               CARDINAL\n",
      "Chemical                                        ORG\n",
      "Fe 2                                            LAW\n",
      "6                                               CARDINAL\n",
      "5                                               CARDINAL\n",
      "55                                              CARDINAL\n",
      "2                                               CARDINAL\n",
      "K 2                                             PRODUCT\n",
      "4                                               CARDINAL\n",
      "5                                               CARDINAL\n",
      "Mindess & Young                                 ORG\n",
      "\n",
      "Properties\n",
      "3                                               CARDINAL\n",
      "3                                               CARDINAL\n",
      "2                                               CARDINAL\n",
      "J. Francis Young                                PERSON\n",
      "1981                                            DATE\n",
      "Prentice-Hall, Inc.                             ORG\n",
      "Englewood Cliffs                                GPE\n",
      "NJ                                              GPE\n",
      "pp                                              GPE\n",
      "671                                             CARDINAL\n",
      "Steve Kosmatka & William Panarese               PERSON\n",
      "1988                                            DATE\n",
      "Design                                          ORG\n",
      "Portland Cement Association                     ORG\n",
      "Skokie                                          GPE\n",
      "Ill.                                            GPE\n",
      "205                                             CARDINAL\n",
      "Michael Mamlouk &                               PERSON\n",
      "John Zaniewski                                  PERSON\n",
      "1999                                            DATE\n",
      "Materials for Civil and Construction Engineers  WORK_OF_ART\n",
      "Wesley Longman                                  PERSON\n"
     ]
    }
   ],
   "source": [
    "import spacy\n",
    "from tabulate import tabulate\n",
    "# Load English tokenizer, tagger, parser and NER\n",
    "nlp = spacy.load('en_core_web_sm')\n",
    "doc = nlp(text)\n",
    "nouns=[chunk.text for chunk in doc.noun_chunks]\n",
    "\n",
    "print(f\"Found nouns:\\n {nouns}\")\n",
    "\n",
    "foundEntities=[{\"Text\":entity.text, \"Entity Tag\":entity.label_} for entity in doc.ents]\n",
    "print(tabulate(foundEntities, headers=\"keys\"))"
   ]
  },
  {
   "cell_type": "markdown",
   "metadata": {},
   "source": [
    "# Query wikidata for mentioned Chemical Compounds\n",
    "The NER (Named Entity Recognition) of Spacy seems not to detect the chemical compounds as a known category. \n",
    "Thus we need to work around this limitation and try to use the found nouns to query wikidata for the referenced compounds."
   ]
  },
  {
   "cell_type": "markdown",
   "metadata": {},
   "source": [
    "## Setting up the [wikidata query endpoint](https://query.wikidata.org/)"
   ]
  },
  {
   "cell_type": "code",
   "execution_count": 5,
   "metadata": {},
   "outputs": [],
   "source": [
    "from lodstorage.query import QueryManager, Query\n",
    "from lodstorage.sparql import SPARQL\n",
    "from IPython.display import display, Markdown\n",
    "endpoint=SPARQL(\"https://query.wikidata.org/sparql\")"
   ]
  },
  {
   "cell_type": "markdown",
   "metadata": {},
   "source": [
    "## Get matching entites\n",
    "The found nouns by spacy can be matched against the labels of chemical compounds.\n",
    "\n",
    "A wikidata entity such as [Silicon dioxide: Q116269](https://www.wikidata.org/wiki/Q116269) has [rdfs:label](https://www.w3.org/TR/rdf-schema/#ch_label) for different languages specified with the languages tag (e.g. @en). \n",
    "\n",
    "To also query the names that are defined in the __Also known as__ column of the entity page the [skos:altLabel](https://www.w3.org/2009/08/skos-reference/skos.html#altLabel) property has to be queried. Searching for the label in both properties can be accomplished by using the [alternative path](https://www.w3.org/TR/sparql11-query/#propertypaths) feature of SPARQL.\n",
    "\n",
    "Note: The wikidata endpoint has a horizontal line limit and thus the values in the [VALUES clause](https://www.w3.org/TR/sparql11-query/#inline-data) are added over multiple lines.\n"
   ]
  },
  {
   "cell_type": "code",
   "execution_count": 7,
   "metadata": {},
   "outputs": [
    {
     "data": {
      "text/plain": "<IPython.core.display.Markdown object>",
      "text/markdown": "## Recognized chemical compounds\n\n### query\n```sparql\n\nSELECT DISTINCT ?substance\nWHERE { \n  VALUES ?substanceLabel {\"Composition\"@en \"cement  Introduction  Portland cement\"@en \"its strength\"@en \"chemical reactions\"@en \"the cement\"@en \"water\"@en \"The process\"@en \"hydration\"@en \"This\"@en \"a complex process\"@en \"that\"@en \"the chemical composition\"@en \"cement\"@en \"Manufacture\"@en \"cement  Portland cement\"@en \"milling\"@en \"the following materials\"@en \"CaO\"@en \"limestone\"@en \"chalk\"@en \"shells\"@en \"sand\"@en \"clay\"@en \"argillaceous rock\"@en \"sand\"@en \", old bottles\"@en \"clay\"@en \"argillaceous rock  Alumina\"@en \"Al\"@en \"O\"@en \"O\"@en \"clay  Iron\"@en \"2 O\"@en \"clay\"@en \"iron ore\"@en \"scrap iron\"@en \"ash\"@en \"O\"@en \"clay\"@en \"iron ore\"@en \"scrap iron\"@en \"Gypsum\"@en \"CaSO\"@en \".2H\"@en \"limestone  Chemical shorthand\"@en \"the complex chemical nature\"@en \"cement\"@en \"a shorthand form\"@en \"the chemical compounds\"@en \"The shorthand\"@en\n\"the basic compounds\"@en \"Compound Formula Shorthand\"@en \"Calcium oxide\"@en \"lime\"@en \"Ca0 C Silicon dioxide\"@en \"silica\"@en \"2 S Aluminum oxide\"@en \"alumina\"@en \"Al\"@en \"O\"@en \"O\"@en \"2 O H Sulfate\"@en \"3 S  Compound Formula Shorthand\"@en \"%\"@en \"Tricalcium aluminate\"@en \"Ca\"@en \"O\"@en \"6 C\"@en \"A 10 Tetracalcium aluminoferrite\"@en \"Ca\"@en \"Al 2 Fe\"@en \"O 10 C 4 AF 8 Belite or dicalcium silicate\"@en \"Ca 2 SiO 5 C 2 S 20 Alite\"@en \"tricalcium\"@en \"Ca 3 SiO 4 C 3 S 55 Sodium oxide\"@en \"Na\"@en \"Up to 2 Potassium oxide\"@en \"K\"@en \"O K Gypsum CaSO\"@en \".2H\"@en \"2 O C S H\"@en \"2 5  Representative\"@en \"Actual weight\"@en \"type\"@en \"cement\"@en \"Source\"@en \"Mindess\"@en \"Young  Properties\"@en \"cement\"@en \"These compounds\"@en \"the properties\"@en \"cement\"@en \"different ways\"@en \"Tricalcium aluminate\"@en \"C\"@en \"3  Tricalcium silicate\"@en \"C 3 S:-  Dicalcium silicate\"@en \"C 2 S\"@en \"Ferrite\"@en \"C\"@en\n\"4 AF\"@en \"these compounds\"@en \"manufacturers\"@en \"different types\"@en \"cement\"@en \"several construction environments\"@en \"References\"@en \"Sidney Mindess\"@en \"J. Francis Young\"@en \"Concrete\"@en \"Prentice-Hall, Inc.\"@en \"Englewood Cliffs\"@en \"pp\"@en \"Steve Kosmatka\"@en \"William Panarese\"@en \"Concrete Mixes\"@en \"Portland Cement Association\"@en \"pp\"@en \"Michael Mamlouk\"@en \"John Zaniewski\"@en \"Materials\"@en \"Civil and Construction Engineers\"@en \"Addison Wesley Longman, Inc.\"@en}\n  ?substance wdt:P31 wd:Q11173;\n             rdfs:label|skos:altLabel ?substanceLabel.\n}\nLIMIT 50\n\n```\n[try it!](https://query.wikidata.org/#%0ASELECT%20DISTINCT%20%3Fsubstance%0AWHERE%20%7B%20%0A%20%20VALUES%20%3FsubstanceLabel%20%7B%22Composition%22%40en%20%22cement%20%20Introduction%20%20Portland%20cement%22%40en%20%22its%20strength%22%40en%20%22chemical%20reactions%22%40en%20%22the%20cement%22%40en%20%22water%22%40en%20%22The%20process%22%40en%20%22hydration%22%40en%20%22This%22%40en%20%22a%20complex%20process%22%40en%20%22that%22%40en%20%22the%20chemical%20composition%22%40en%20%22cement%22%40en%20%22Manufacture%22%40en%20%22cement%20%20Portland%20cement%22%40en%20%22milling%22%40en%20%22the%20following%20materials%22%40en%20%22CaO%22%40en%20%22limestone%22%40en%20%22chalk%22%40en%20%22shells%22%40en%20%22sand%22%40en%20%22clay%22%40en%20%22argillaceous%20rock%22%40en%20%22sand%22%40en%20%22%2C%20old%20bottles%22%40en%20%22clay%22%40en%20%22argillaceous%20rock%20%20Alumina%22%40en%20%22Al%22%40en%20%22O%22%40en%20%22O%22%40en%20%22clay%20%20Iron%22%40en%20%222%20O%22%40en%20%22clay%22%40en%20%22iron%20ore%22%40en%20%22scrap%20iron%22%40en%20%22ash%22%40en%20%22O%22%40en%20%22clay%22%40en%20%22iron%20ore%22%40en%20%22scrap%20iron%22%40en%20%22Gypsum%22%40en%20%22CaSO%22%40en%20%22.2H%22%40en%20%22limestone%20%20Chemical%20shorthand%22%40en%20%22the%20complex%20chemical%20nature%22%40en%20%22cement%22%40en%20%22a%20shorthand%20form%22%40en%20%22the%20chemical%20compounds%22%40en%20%22The%20shorthand%22%40en%0A%22the%20basic%20compounds%22%40en%20%22Compound%20Formula%20Shorthand%22%40en%20%22Calcium%20oxide%22%40en%20%22lime%22%40en%20%22Ca0%20C%20Silicon%20dioxide%22%40en%20%22silica%22%40en%20%222%20S%20Aluminum%20oxide%22%40en%20%22alumina%22%40en%20%22Al%22%40en%20%22O%22%40en%20%22O%22%40en%20%222%20O%20H%20Sulfate%22%40en%20%223%20S%20%20Compound%20Formula%20Shorthand%22%40en%20%22%25%22%40en%20%22Tricalcium%20aluminate%22%40en%20%22Ca%22%40en%20%22O%22%40en%20%226%20C%22%40en%20%22A%2010%20Tetracalcium%20aluminoferrite%22%40en%20%22Ca%22%40en%20%22Al%202%20Fe%22%40en%20%22O%2010%20C%204%20AF%208%20Belite%20or%20dicalcium%20silicate%22%40en%20%22Ca%202%20SiO%205%20C%202%20S%2020%20Alite%22%40en%20%22tricalcium%22%40en%20%22Ca%203%20SiO%204%20C%203%20S%2055%20Sodium%20oxide%22%40en%20%22Na%22%40en%20%22Up%20to%202%20Potassium%20oxide%22%40en%20%22K%22%40en%20%22O%20K%20Gypsum%20CaSO%22%40en%20%22.2H%22%40en%20%222%20O%20C%20S%20H%22%40en%20%222%205%20%20Representative%22%40en%20%22Actual%20weight%22%40en%20%22type%22%40en%20%22cement%22%40en%20%22Source%22%40en%20%22Mindess%22%40en%20%22Young%20%20Properties%22%40en%20%22cement%22%40en%20%22These%20compounds%22%40en%20%22the%20properties%22%40en%20%22cement%22%40en%20%22different%20ways%22%40en%20%22Tricalcium%20aluminate%22%40en%20%22C%22%40en%20%223%20%20Tricalcium%20silicate%22%40en%20%22C%203%20S%3A-%20%20Dicalcium%20silicate%22%40en%20%22C%202%20S%22%40en%20%22Ferrite%22%40en%20%22C%22%40en%0A%224%20AF%22%40en%20%22these%20compounds%22%40en%20%22manufacturers%22%40en%20%22different%20types%22%40en%20%22cement%22%40en%20%22several%20construction%20environments%22%40en%20%22References%22%40en%20%22Sidney%20Mindess%22%40en%20%22J.%20Francis%20Young%22%40en%20%22Concrete%22%40en%20%22Prentice-Hall%2C%20Inc.%22%40en%20%22Englewood%20Cliffs%22%40en%20%22pp%22%40en%20%22Steve%20Kosmatka%22%40en%20%22William%20Panarese%22%40en%20%22Concrete%20Mixes%22%40en%20%22Portland%20Cement%20Association%22%40en%20%22pp%22%40en%20%22Michael%20Mamlouk%22%40en%20%22John%20Zaniewski%22%40en%20%22Materials%22%40en%20%22Civil%20and%20Construction%20Engineers%22%40en%20%22Addison%20Wesley%20Longman%2C%20Inc.%22%40en%7D%0A%20%20%3Fsubstance%20wdt%3AP31%20wd%3AQ11173%3B%0A%20%20%20%20%20%20%20%20%20%20%20%20%20rdfs%3Alabel%7Cskos%3AaltLabel%20%3FsubstanceLabel.%0A%7D%0ALIMIT%2050%0A)\n## result\n| substance                                |\n|------------------------------------------|\n| http://www.wikidata.org/entity/Q283      |\n| http://www.wikidata.org/entity/Q185006   |\n| http://www.wikidata.org/entity/Q191924   |\n| http://www.wikidata.org/entity/Q10860582 |\n| http://www.wikidata.org/entity/Q186474   |\n| http://www.wikidata.org/entity/Q416265   |\n| http://www.wikidata.org/entity/Q20816880 |"
     },
     "metadata": {},
     "output_type": "display_data"
    }
   ],
   "source": [
    "from SPARQLWrapper import SPARQLWrapper, JSON, CSV\n",
    "from tabulate import tabulate\n",
    "\n",
    "nouns=[noun.replace(\"\\n\",\" \").strip() for noun in nouns]\n",
    "# building the query string\n",
    "values=[' '.join([f'\"{noun}\"@en' for noun in nouns[n*50:n*50+50]]) for n in range((len(nouns)//50)+1)]\n",
    "queryValueFormatTags='%s\\n'*(len(values))\n",
    "substanceQueryStr = \"\"\"\n",
    "SELECT DISTINCT ?substance\n",
    "WHERE { \n",
    "  VALUES ?substanceLabel {%s}\n",
    "  ?substance wdt:P31 wd:Q11173;\n",
    "             rdfs:label|skos:altLabel ?substanceLabel.\n",
    "}\n",
    "LIMIT 50\n",
    "\"\"\" \n",
    "substanceQueryStr = substanceQueryStr % (\"\\n\".join(values))\n",
    "# executing the query\n",
    "substanceQuery=Query(query=substanceQueryStr,\n",
    "            name=\"Recognized chemical compounds\",\n",
    "            lang=\"sparql\")\n",
    "substanceQueryResLoD=endpoint.queryAsListOfDicts(substanceQuery.query)\n",
    "\n",
    "substances=[record.get('substance') for record in substanceQueryResLoD]\n",
    "\n",
    "# pretty printout of the result\n",
    "doc=substanceQuery.documentQueryResult(substanceQueryResLoD, tablefmt=\"github\",floatfmt=\".0f\",tryItUrl=\"https://query.wikidata.org\")\n",
    "display(Markdown(str(doc)))"
   ]
  },
  {
   "cell_type": "markdown",
   "metadata": {},
   "source": [
    "## Extract additional information about the entities\n",
    "The queried substances can now be used to query additional information about them.\n",
    "Since some information might not be avaliable for a substance, the prperties are queried in an [OPTIONAL clause](https://www.w3.org/TR/sparql11-query/#optionals) to include the entity eventhough the triple match is not fulfilled.\n",
    "You might want to extract the chemical formula, structure and CAS id."
   ]
  },
  {
   "cell_type": "markdown",
   "source": [],
   "metadata": {
    "collapsed": false
   }
  },
  {
   "cell_type": "code",
   "execution_count": 8,
   "metadata": {},
   "outputs": [
    {
     "data": {
      "text/plain": "<IPython.core.display.Markdown object>",
      "text/markdown": "## Chemical compound details\n\n### query\n```sparql\n\nSELECT DISTINCT ?substance ?substanceLabel ?formula ?structure ?CAS\nWHERE { \n  VALUES ?substance { <http://www.wikidata.org/entity/Q283> <http://www.wikidata.org/entity/Q185006> <http://www.wikidata.org/entity/Q191924> <http://www.wikidata.org/entity/Q10860582> <http://www.wikidata.org/entity/Q186474> <http://www.wikidata.org/entity/Q416265> <http://www.wikidata.org/entity/Q20816880> }\n  ?substance wdt:P31 wd:Q11173.\n  OPTIONAL{\n      ?substance wdt:P231 ?CAS.\n  }\n  OPTIONAL{\n      ?substance wdt:P274 ?formula.\n  }\n  OPTIONAL{\n      ?substance wdt:P117  ?structure.\n  }\n  OPTIONAL{\n      ?substance rdfs:label ?substanceLabel.\n      FILTER(lang(?substanceLabel)=\"en\")\n  }                    \n}\nLIMIT 50\n\n\n```\n[try it!](https://query.wikidata.org/#%0ASELECT%20DISTINCT%20%3Fsubstance%20%3FsubstanceLabel%20%3Fformula%20%3Fstructure%20%3FCAS%0AWHERE%20%7B%20%0A%20%20VALUES%20%3Fsubstance%20%7B%20%3Chttp%3A//www.wikidata.org/entity/Q283%3E%20%3Chttp%3A//www.wikidata.org/entity/Q185006%3E%20%3Chttp%3A//www.wikidata.org/entity/Q191924%3E%20%3Chttp%3A//www.wikidata.org/entity/Q10860582%3E%20%3Chttp%3A//www.wikidata.org/entity/Q186474%3E%20%3Chttp%3A//www.wikidata.org/entity/Q416265%3E%20%3Chttp%3A//www.wikidata.org/entity/Q20816880%3E%20%7D%0A%20%20%3Fsubstance%20wdt%3AP31%20wd%3AQ11173.%0A%20%20OPTIONAL%7B%0A%20%20%20%20%20%20%3Fsubstance%20wdt%3AP231%20%3FCAS.%0A%20%20%7D%0A%20%20OPTIONAL%7B%0A%20%20%20%20%20%20%3Fsubstance%20wdt%3AP274%20%3Fformula.%0A%20%20%7D%0A%20%20OPTIONAL%7B%0A%20%20%20%20%20%20%3Fsubstance%20wdt%3AP117%20%20%3Fstructure.%0A%20%20%7D%0A%20%20OPTIONAL%7B%0A%20%20%20%20%20%20%3Fsubstance%20rdfs%3Alabel%20%3FsubstanceLabel.%0A%20%20%20%20%20%20FILTER%28lang%28%3FsubstanceLabel%29%3D%22en%22%29%0A%20%20%7D%20%20%20%20%20%20%20%20%20%20%20%20%20%20%20%20%20%20%20%20%0A%7D%0ALIMIT%2050%0A%0A)\n## result\n| substance                                | substanceLabel       | formula   | structure                                                                         | CAS        |\n|------------------------------------------|----------------------|-----------|-----------------------------------------------------------------------------------|------------|\n| http://www.wikidata.org/entity/Q283      | water                | H₂O       | http://commons.wikimedia.org/wiki/Special:FilePath/H2O%202D%20labelled.svg        | 7732-18-5  |\n| http://www.wikidata.org/entity/Q185006   | calcium oxide        | CaO       |                                                                                   | 1305-78-8  |\n| http://www.wikidata.org/entity/Q20816880 | L-lysine             | C₆H₁₄N₂O₂ |                                                                                   | 56-87-1    |\n| http://www.wikidata.org/entity/Q416265   | magnesium iodide     | I₂Mg      |                                                                                   | 10377-58-9 |\n| http://www.wikidata.org/entity/Q186474   | L-Cysteine           | C₃H₇NO₂S  | http://commons.wikimedia.org/wiki/Special:FilePath/L-Cystein%20-%20L-Cysteine.svg | 52-90-4    |\n| http://www.wikidata.org/entity/Q191924   | D-methamphetamine    | C₁₀H₁₅N   | http://commons.wikimedia.org/wiki/Special:FilePath/N-Methyl-D-amphetamin.svg      | 537-46-2   |\n| http://www.wikidata.org/entity/Q10860582 | Tricalcium aluminate |           |                                                                                   | 12042-78-3 |"
     },
     "metadata": {},
     "output_type": "display_data"
    }
   ],
   "source": [
    "substanceDetailQueryStr = \"\"\"\n",
    "SELECT DISTINCT ?substance ?substanceLabel ?formula ?structure ?CAS\n",
    "WHERE { \n",
    "  VALUES ?substance { %s }\n",
    "  ?substance wdt:P31 wd:Q11173.\n",
    "  OPTIONAL{\n",
    "      ?substance wdt:P231 ?CAS.\n",
    "  }\n",
    "  OPTIONAL{\n",
    "      ?substance wdt:P274 ?formula.\n",
    "  }\n",
    "  OPTIONAL{\n",
    "      ?substance wdt:P117  ?structure.\n",
    "  }\n",
    "  OPTIONAL{\n",
    "      ?substance rdfs:label ?substanceLabel.\n",
    "      FILTER(lang(?substanceLabel)=\"en\")\n",
    "  }                    \n",
    "}\n",
    "LIMIT 50\n",
    "\n",
    "\"\"\" % \" \".join([f\"<{substance}>\" for substance in substances])\n",
    "\n",
    "substanceDetailQuery=Query(query=substanceDetailQueryStr,\n",
    "            name=\"Chemical compound details\",\n",
    "            lang=\"sparql\")\n",
    "substanceDetailQueryResLoD=endpoint.queryAsListOfDicts(substanceDetailQuery.query)\n",
    "\n",
    "# pretty printout of the result\n",
    "doc=substanceDetailQuery.documentQueryResult(substanceDetailQueryResLoD, tablefmt=\"github\",floatfmt=\".0f\",tryItUrl=\"https://query.wikidata.org\")\n",
    "display(Markdown(str(doc)))"
   ]
  },
  {
   "cell_type": "code",
   "execution_count": null,
   "metadata": {},
   "outputs": [],
   "source": []
  }
 ],
 "metadata": {
  "kernelspec": {
   "display_name": "Python 3",
   "language": "python",
   "name": "python3"
  },
  "language_info": {
   "codemirror_mode": {
    "name": "ipython",
    "version": 3
   },
   "file_extension": ".py",
   "mimetype": "text/x-python",
   "name": "python",
   "nbconvert_exporter": "python",
   "pygments_lexer": "ipython3",
   "version": "3.7.11"
  }
 },
 "nbformat": 4,
 "nbformat_minor": 4
}
