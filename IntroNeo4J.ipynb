{
 "cells": [
  {
   "cell_type": "markdown",
   "id": "a0031173-9195-4dcc-9216-f30d0be3d519",
   "metadata": {},
   "source": [
    "# Neo4J\n",
    "\n",
    "* [neo4j Homepage](https://neo4j.com/)\n",
    "* [py2neo](https://py2neo.org/2021.1/#)\n",
    "* [Docker Image](https://hub.docker.com/_/neo4j/)\n",
    "* [neo4j Cheatsheet](https://neo4j.com/docs/cypher-refcard/current/)\n",
    "* [rq wiki](https://rq.bitplan.com/index.php/Neo4j)"
   ]
  },
  {
   "cell_type": "markdown",
   "id": "264c0186-8238-4939-92b2-90287a9d7f87",
   "metadata": {
    "tags": []
   },
   "source": [
    "## Docker Setup\n",
    "1) Download docker image `$docker pull neo4j`\n",
    "2) Start the docker container `$docker run --publish=7474:7474 --publish=7687:7687 --volume=$HOME/neo4j/data:/data --env=NEO4J_AUTH=none neo4j`\n",
    " \n",
    "Afterwards the neo4j server should be running and avaliable at [localhost:7474/](http://127.0.0.1:7474/browser/).\n",
    "The graph data is stored at `$HOME/neo4j/data` and can be changed by adjusting the cmdline parameters."
   ]
  },
  {
   "cell_type": "markdown",
   "id": "3363ef43-a8c5-44f4-8542-928d9463942c",
   "metadata": {},
   "source": [
    "## neo4j UI\n",
    "After starting the docker you can checkout the [neo4j Browser UI](http://127.0.0.1:7474/browser/). The Web Interface provides an easy access to the database to explore the data and write queries. Furthermore, it provides example data that can be loaded into the graph such as the Movie graph that is shown below in the picture.\n",
    "\n",
    "<img src=\"./assets/img/neo4j_browser_ui_example.png\" alt=\"neo4j browser UI\" width=800 height=800 />"
   ]
  },
  {
   "cell_type": "markdown",
   "id": "50653ef9-620d-4a7a-81d7-1187ff60d73c",
   "metadata": {},
   "source": [
    "## Install python modules\n",
    "To interact with the neo4j database from python you can use the library [py2neo](https://py2neo.org/2021.1/#)."
   ]
  },
  {
   "cell_type": "code",
   "execution_count": null,
   "id": "0c788cf0-dcdf-43b6-8e27-53f823211165",
   "metadata": {},
   "outputs": [],
   "source": [
    "!pip install py2neo"
   ]
  },
  {
   "cell_type": "code",
   "execution_count": null,
   "id": "7ae53fb8-f46d-48a7-a572-a0b51d2e7ebe",
   "metadata": {},
   "outputs": [],
   "source": [
    "from py2neo import Graph\n",
    "graph = Graph(\"bolt://localhost:7687\", auth=(\"\", \"\")) # If the docker was started with enabled authentication you need to provide the corresponding credentials. Otherwise, leave it as is"
   ]
  },
  {
   "cell_type": "markdown",
   "id": "5158060e-3244-443a-981c-c37a8e61c719",
   "metadata": {},
   "source": [
    "# First Steps\n",
    "Queries in neo4j are written in [Cypher](https://neo4j.com/docs/cypher-manual/current/). More details on the query language and syntax can be found at:\n",
    "* [py2neo](https://py2neo.org/2021.1/#)\n",
    "* [neo4j Cheatsheet](https://neo4j.com/docs/cypher-refcard/current/)\n",
    "* [Cypher Manual](https://neo4j.com/docs/cypher-manual/current/)\n",
    "\n",
    "## Creating a new Node\n",
    "\n",
    "To create a new node we use the `CREATE` statement. For example we want to add a person node with the name `Alice` and the birtday `2022-01-01`.\n",
    "There are different ways to write the query to add this information.\n",
    "\n",
    "* CREATE node and than SET the properties:\n",
    "```cypher\n",
    "CREATE (p:Person)\n",
    "SET p.name='Alice',\n",
    "    p.birthday=date('2022-01-01')\n",
    "```\n",
    "* CREATE node and properties\n",
    "```cypher\n",
    "CREATE (p:Person {name:'Alice', birthday:date('2022-01-01')})\n",
    "```\n",
    "* CREATE node and assign map of properties\n",
    "```cypher\n",
    "CREATE (p:Person)\n",
    "SET p = {name:'Alice', birthday:date('2022-01-01')}\n",
    "```\n",
    "> Note: With `p += {name:'Alice', birthday:date('2022-01-01')}` we can merge existing node properties with the given map. As it will be later used in a parameterized query. \n",
    "\n",
    "\n",
    "> In `p:Person` the `p` is a query variable (similar to ?p in SPARQL) for the node that can be used within the query to match or add information to the node. `Person` is the label of the node it can be considered as a class the node belongs to. Furthermore, multiple labels can be assigned to a node e.g `(p:Person:Female {name:'Alice'})`"
   ]
  },
  {
   "cell_type": "code",
   "execution_count": null,
   "id": "651e1763-988a-47cb-b05f-ad269784e47b",
   "metadata": {},
   "outputs": [],
   "source": [
    "query=\"\"\n",
    "CREATE (p:Person)\n",
    "SET p.name='Alice',\n",
    "    p.birthday=date('2022-01-01')\n",
    "\n",
    "\"\"\"\n",
    "graph.run(query).stats()"
   ]
  },
  {
   "cell_type": "markdown",
   "id": "354e8408-1f9c-42fc-9785-d5ac16ca0030",
   "metadata": {},
   "source": [
    "Instead of the statistics, the query can also return information form the variables in the query.\n",
    "\n",
    "By adding `RETURN properties(p) AS properties, labels(p) AS labels` we get as query response the properties and labels of p.\n",
    "* [properties(p)](https://neo4j.com/docs/cypher-manual/current/functions/scalar/#functions-properties): resolves p to the properties of p\n",
    "* [labels(p)](https://neo4j.com/docs/cypher-manual/current/functions/list/#functions-labels): resolves p to the labels of p"
   ]
  },
  {
   "cell_type": "code",
   "execution_count": null,
   "id": "66217865-dc07-4294-8c81-8de754101f65",
   "metadata": {},
   "outputs": [],
   "source": [
    "query=\"\"\"\n",
    "MATCH (p:Person)\n",
    "RETURN properties(p) AS properties, labels(p) AS labels\n",
    "\"\"\"\n",
    "graph.run(query)#.data() #to get a LoD"
   ]
  },
  {
   "cell_type": "markdown",
   "id": "af49dddc-444e-4abe-a85a-dde065a680ab",
   "metadata": {},
   "source": [
    "## Adding a Relationship\n",
    "Now we want to add the information that `Bob` is the `father` of `Alice`.\n",
    "> Note: Here the `FATHER` relation is bottom-up from the child to its father\n",
    "\n",
    "* Match the existing node of Alice and than create the relation\n",
    "```cypher\n",
    "MATCH (c:Person {name:'Alice'})\n",
    "CREATE (c)-[r:FATHER]->(f:Person {name:'Bob'})\n",
    "RETURN *\n",
    "```\n",
    "* Creating the new relation with the MERGE clause\n",
    "```cypher\n",
    "MERGE (c:Person {name:'Alice'})-[r:FATHER]->(f:Person {name:'Bob'})\n",
    "RETURN *\n",
    "```\n",
    "The MERGE clause tries to match an existing node and creates a new one if no existing node matches the defined pattern.\n"
   ]
  },
  {
   "cell_type": "code",
   "execution_count": null,
   "id": "a0cc857b-5985-40ec-ad63-899c7a68ffe3",
   "metadata": {},
   "outputs": [],
   "source": [
    "query=\"\"\"\n",
    "MATCH (c:Person {name:'Alice'})\n",
    "CREATE (c)-[r:FATHER]->(f:Person {name:'Bob'})\n",
    "RETURN *\n",
    "\"\"\"\n",
    "graph.run(query)"
   ]
  },
  {
   "cell_type": "markdown",
   "id": "3a102ebc-4620-4c0a-b693-025c3d1e7e9f",
   "metadata": {},
   "source": [
    "## Query Over Node Relationship\n",
    "Write a query that returns the names of all fathers and their childs."
   ]
  },
  {
   "cell_type": "code",
   "execution_count": null,
   "id": "3e06ed56-eaf8-486b-8333-e7febe94cc9c",
   "metadata": {},
   "outputs": [],
   "source": [
    "# Execute this cell to add additional person data and relationships\n",
    "query=\"\"\"\n",
    "MERGE (e:Person {name:'Eve'})-[:FATHER]->(b:Person {name:'Bob'})\n",
    "MERGE (d:Person {name:'Daniel'})-[:FATHER]->(es:Person {name:'Eskil'})\n",
    "\"\"\"\n",
    "graph.run(query).stats()"
   ]
  },
  {
   "cell_type": "code",
   "execution_count": null,
   "id": "e902a250-043d-4c2b-aab1-e96d2790dc15",
   "metadata": {},
   "outputs": [],
   "source": [
    "# Possible Solution\n",
    "query=\"\"\"\n",
    "MATCH (c:Person)-[:FATHER]->(f:Person)\n",
    "return f.name, c.name\n",
    "\"\"\"\n",
    "graph.run(query)"
   ]
  },
  {
   "cell_type": "markdown",
   "id": "80bb1c14-0922-4bbb-be8b-08bd8a73bbd4",
   "metadata": {},
   "source": [
    "> To aggregate the childs of one father we can use the function [collect()](https://neo4j.com/docs/cypher-manual/current/functions/aggregating/#functions-collect)"
   ]
  },
  {
   "cell_type": "code",
   "execution_count": null,
   "id": "b82ff020-e36b-48a0-a06b-4ef44d5a2a3a",
   "metadata": {},
   "outputs": [],
   "source": [
    "# Possible Solution\n",
    "query=\"\"\"\n",
    "MATCH (c:Person)-[:FATHER]->(f:Person)\n",
    "return f.name, collect(c.name)\n",
    "\"\"\"\n",
    "graph.run(query)"
   ]
  },
  {
   "cell_type": "markdown",
   "id": "e3c8d7a1-a96d-47d5-8307-85c0f6bf8ad4",
   "metadata": {},
   "source": [
    "# Systematically adding data to the graph\n",
    "Consider the following excerpt from the RESTful query [https://conferencecorpus.bitplan.com/eventseries/ICEIS](https://conferencecorpus.bitplan.com/eventseries/ICEIS)\n",
    "```json\n",
    "{\n",
    "    \"acronym\": \"ICEIS\",\n",
    "    \"city\": \"Heraklion\",\n",
    "    \"cityWikidataid\": \"Q160544\",\n",
    "    \"country\": \"Greece\",\n",
    "    \"countryIso\": \"GR\",\n",
    "    \"countryWikidataid\": \"Q41\",\n",
    "    \"dblpSeriesId\": \"conf/iceis\",\n",
    "    \"endDate\": \"2019-05-05\",\n",
    "    \"eventId\": \"iceis2019\",\n",
    "    \"location\": \"Heraklion, Greece\",\n",
    "    \"ranks\": \"\",\n",
    "    \"region\": \"Crete Region\",\n",
    "    \"regionIso\": \"GR-M\",\n",
    "    \"regionWikidataid\": \"Q1267522\",\n",
    "    \"seriesId\": \"iceis\",\n",
    "    \"seriesTitle\": \"International Conference on Enterprise Information Systems (ICEIS)\",\n",
    "    \"source\": \"confref\",\n",
    "    \"startDate\": \"2019-05-03\",\n",
    "    \"submissionExtended\": 0,\n",
    "    \"title\": \"International Conference on Enterprise Information Systems (ICEIS)\",\n",
    "    \"url\": \"http://portal.confref.org/list/iceis2019\",\n",
    "    \"year\": 2019\n",
    "}\n",
    "```\n",
    "In this result we see that it contains data from diffferent entities such as data about the event and data about different locations and it also contains relationships to other entites such as the reference to dblp or the series in the same data source.\n",
    "\n",
    "Adding the entities and their relations can be done with different strategies.\n",
    "### Create main entity, relations and related entities in one query\n",
    "One can create multiple entities and relations in one query with the MERGE clause but assigning the values to the different entites under certain conditions becomes complicated to maintain.\n",
    "```Cypher\n",
    "MERGE (e:Event:ConfRef {acronym:\"ICEIS\", ordinal:21, year:2019})\n",
    "MERGE (c:City {wikidataid:\"Q1267522\"})\n",
    "MERGE (s:EventSeries:ConfRef {acronym:\"iceis\"})\n",
    "MERGE (sd:EventSeries:DBLP {id:\"conf/iceis\"})\n",
    "MERGE (e)-[:city]->(c)\n",
    "MERGE (e)-[:inEventSeries]->(s)\n",
    "MERGE (s)-[sa:SAME_AS]-(sd)\n",
    "SET e.title=\"International Conference on Enterprise Information Systems (ICEIS)\",\n",
    "    e.url=\"http://portal.confref.org/list/iceis2019\",\n",
    "    s.startDate=date(\"2019-05-03\"),\n",
    "    sd.acronym=\"iceis\",\n",
    "    c += {name:\"Heraklion\"},\n",
    "    sa.definedBy = \"conf/iceis\"\n",
    "```\n",
    "\n",
    "> Note: `MERGE (e:Event:ConfRef {acronym:\"ICEIS\", ordinal:21, year:2019})-[:city]->(c:City {wikidataid:\"Q1267522\"})` is not equal to `MERGE (e:Event:ConfRef {acronym:\"ICEIS\", ordinal:21, year:2019})MERGE (e)-[:city]->(c)`. The MERGE clause tries to match its complete clause and if it does not find a match new nodes are created. Here this means if the relation between event and city does not exist we also create new node for city and event even if they already exist. So either create seperate MERGE clause for each entity or use the MATCH clause for the entites that shoul not be created.\n",
    "\n"
   ]
  },
  {
   "cell_type": "code",
   "execution_count": null,
   "id": "dd90abdc-3d6e-4fb1-a1b2-7be5c79d5c76",
   "metadata": {},
   "outputs": [],
   "source": [
    "query=\"\"\"\n",
    "MERGE (e:Event {acronym:\"ICEIS\", ordinal:21, year:2019})\n",
    "MERGE (c:City {wikidataid:\"Q1267522\"})\n",
    "MERGE (s:EventSeries:ConfRef {acronym:\"iceis\"})\n",
    "MERGE (sd:EventSeries:DBLP {id:\"conf/iceis\"})\n",
    "MERGE (e)-[:city]->(c)\n",
    "MERGE (e)-[:inEventSeries]->(s)\n",
    "MERGE (s)-[sa:SAME_AS]-(sd)\n",
    "SET e.title=\"International Conference on Enterprise Information Systems (ICEIS)\",\n",
    "    e.url=\"http://portal.confref.org/list/iceis2019\",\n",
    "    s.startDate=date(\"2019-05-03\"),\n",
    "    sd.acronym=\"iceis\",\n",
    "    c += {name:\"Heraklion\"},\n",
    "    sa.definedBy = \"conf/iceis\"\n",
    "\"\"\"\n",
    "graph.run(query)"
   ]
  },
  {
   "cell_type": "markdown",
   "id": "6ffda486-ac6b-4d66-a746-5111b6413537",
   "metadata": {},
   "source": [
    "### Decoupled Creation of Entities and Relations\n",
    "Instead of creating the relationships when inserting the data we can also dump the data first and then use another query to add the resulting relation ships.\n",
    "With this decoupeling of insertion and relationship assignment we can write independent queries \n",
    "\n",
    "#### Insert Query\n",
    "\n",
    "```\n",
    "MERGE (e:Event:ConfRef {name:$event.name})\n",
    "ON CREATE SET e = $event\n",
    "ON MATCH SET e += $event\n",
    "```\n",
    "\n",
    "#### Adding Relationships\n",
    "\n",
    "##### Location Relationship\n",
    "```cypher\n",
    "MATCH (e:Event:ConfRef)\n",
    "WHERE e.cityWikidataid IS NOT NULL\n",
    "MERGE (c:City {wikidataid:e.cityWikidataid})\n",
    "MERGE (e)-[:city]->(c)\n",
    "```\n",
    "> Note: With `WHERE e.cityWikidataid IS NOT NULL` we ensure that we only create the city/city relation for those events that have the cityWikidataid property.\n",
    "\n",
    "#####  Series Relationship\n",
    "```cypher\n",
    "MATCH (e:Event:ConfRef)\n",
    "WHERE e.seriesId IS NOT NULL\n",
    "MERGE (s:EventSeries:ConfRef {acronym:e.seriesId})\n",
    "MERGE (e)-[:inEventSeries]->(s)\n",
    "```\n",
    "##### Equivalent Series in Different Datasource Relationship\n",
    "```cypher\n",
    "MATCH (e:Event:ConfRef)\n",
    "WHERE e.dblpSeriesId IS NOT NULL\n",
    "MATCH (e)-[:inEventSeries]->(s:EventSeries:ConfRef)\n",
    "MERGE (sd:EventSeries:DBLP {id:e.dblpSeriesId})\n",
    "MERGE (s)-[r:SAME_AS]-(sd)\n",
    "ON CREATE SET r.definedBy = [e.eventId]\n",
    "ON MATCH SET r.definedBy = r.definedBy + e.eventId\n",
    "```\n",
    "\n",
    "> Note: with `r.definedBy =` we assign a property to the relationship between `s` and `d` this can such as in this example be used to store the provenance of the relation."
   ]
  },
  {
   "cell_type": "code",
   "execution_count": null,
   "id": "1c1d64bd-0a83-4c50-a99a-2fce2683dec2",
   "metadata": {},
   "outputs": [],
   "source": [
    "params={\n",
    "    \"event\":{\n",
    "        \"acronym\": \"ICEIS\",\n",
    "        \"city\": \"Heraklion\",\n",
    "        \"cityWikidataid\": \"Q160544\",\n",
    "        \"country\": \"Greece\",\n",
    "        \"countryIso\": \"GR\",\n",
    "        \"countryWikidataid\": \"Q41\",\n",
    "        \"dblpSeriesId\": \"conf/iceis\",\n",
    "        \"endDate\": \"2019-05-05\",\n",
    "        \"eventId\": \"iceis2019\",\n",
    "        \"location\": \"Heraklion, Greece\",\n",
    "        \"ranks\": \"\",\n",
    "        \"seriesId\": \"iceis\",\n",
    "        \"source\": \"confref\",\n",
    "        \"startDate\": \"2019-05-03\",\n",
    "        \"submissionExtended\": 0,\n",
    "        \"title\": \"International Conference on Enterprise Information Systems (ICEIS)\",\n",
    "        \"url\": \"http://portal.confref.org/list/iceis2019\",\n",
    "        \"year\": 2019\n",
    "    }\n",
    "}\n",
    "insertQuery=\"\"\"\n",
    "MERGE (e:Event:ConfRef {acronym:$event.acronym})\n",
    "ON CREATE SET e = $event\n",
    "ON MATCH SET e += $event\n",
    "\"\"\"\n",
    "graph.run(insertQuery, parameters=params)"
   ]
  },
  {
   "cell_type": "code",
   "execution_count": null,
   "id": "fd27ad7a-7adb-426f-85bd-286780c8ee90",
   "metadata": {},
   "outputs": [],
   "source": [
    "seriesRelQuery=\"\"\"\n",
    "MATCH (e:Event:ConfRef)\n",
    "WHERE e.seriesId IS NOT NULL\n",
    "MERGE (s:EventSeries:ConfRef {acronym:e.seriesId})\n",
    "MERGE (e)-[:inEventSeries]->(s)\n",
    "\"\"\"\n",
    "graph.run(seriesRelQuery)"
   ]
  },
  {
   "cell_type": "code",
   "execution_count": null,
   "id": "8e483b9d-cf10-42d4-98d3-8acf8e9ce681",
   "metadata": {},
   "outputs": [],
   "source": [
    "locationRelQuery=\"\"\"\n",
    "MATCH (e:Event:ConfRef)\n",
    "WHERE e.cityWikidataid IS NOT NULL\n",
    "MERGE (c:City {wikidataid:e.cityWikidataid})\n",
    "MERGE (e)-[:city]->(c)\n",
    "\"\"\"\n",
    "graph.run(seriesRelQuery)"
   ]
  },
  {
   "cell_type": "code",
   "execution_count": null,
   "id": "6bb9ab51-7500-40fb-b56c-1513f56b524a",
   "metadata": {},
   "outputs": [],
   "source": [
    "seriesSameAsRelQuery=\"\"\"\n",
    "MATCH (e:Event:ConfRef)\n",
    "WHERE e.dblpSeriesId IS NOT NULL\n",
    "MATCH (e)-[:inEventSeries]->(s:EventSeries:ConfRef)\n",
    "MERGE (sd:EventSeries:DBLP {id:e.dblpSeriesId})\n",
    "MERGE (s)-[r:SAME_AS]-(sd)\n",
    "ON CREATE SET r.definedBy = [e.eventId]\n",
    "ON MATCH SET r.definedBy = r.definedBy + e.eventId\n",
    "\"\"\"\n",
    "graph.run(seriesSameAsRelQuery)"
   ]
  },
  {
   "cell_type": "code",
   "execution_count": null,
   "id": "31004a2d-0967-4a19-8dfb-cddc4afd67be",
   "metadata": {},
   "outputs": [],
   "source": []
  }
 ],
 "metadata": {
  "kernelspec": {
   "display_name": "Python 3",
   "language": "python",
   "name": "python3"
  },
  "language_info": {
   "codemirror_mode": {
    "name": "ipython",
    "version": 3
   },
   "file_extension": ".py",
   "mimetype": "text/x-python",
   "name": "python",
   "nbconvert_exporter": "python",
   "pygments_lexer": "ipython3",
   "version": "3.7.11"
  }
 },
 "nbformat": 4,
 "nbformat_minor": 5
}
