{
 "cells": [
  {
   "cell_type": "markdown",
   "metadata": {
    "tags": []
   },
   "source": [
    "# Install dependencies"
   ]
  },
  {
   "cell_type": "code",
   "execution_count": 7,
   "metadata": {},
   "outputs": [
    {
     "name": "stdout",
     "output_type": "stream",
     "text": [
      "jupyter-xml found\n"
     ]
    },
    {
     "data": {
      "application/javascript": [
       "\n",
       "    if (typeof IPython !== \"undefined\") {\n",
       "        IPython.CodeCell.options_default.highlight_modes['application/xml'] = {'reg':[/^%%xml/]};\n",
       "        IPython.notebook.get_cells().map(function(cell){ if (cell.cell_type == 'code'){ cell.auto_highlight(); } });\n",
       "    }\n",
       "    "
      ]
     },
     "metadata": {},
     "output_type": "display_data"
    },
    {
     "name": "stdout",
     "output_type": "stream",
     "text": [
      "jupyter-rdfify found\n"
     ]
    },
    {
     "data": {
      "application/javascript": [
       "\n",
       "    if (typeof IPython !== \"undefined\") {\n",
       "        IPython.CodeCell.options_default.highlight_modes['application/sparql-query'] = {'reg':[/^%%rdf sparql/]};\n",
       "        IPython.CodeCell.options_default.highlight_modes['text/turtle'] = {'reg':[/^%%rdf turtle/, /^%%rdf shex/]};\n",
       "        IPython.CodeCell.options_default.highlight_modes['application/ld+json'] = {'reg':[/^%%rdf json-ld/]};\n",
       "        IPython.notebook.get_cells().map(function(cell){ if (cell.cell_type == 'code'){ cell.auto_highlight(); } });\n",
       "    }\n",
       "    "
      ]
     },
     "metadata": {},
     "output_type": "display_data"
    },
    {
     "name": "stdout",
     "output_type": "stream",
     "text": [
      "SPARQLWrapper found\n",
      "tabulate found\n",
      "spacy found\n"
     ]
    }
   ],
   "source": [
    "import sys\n",
    "def installModule(projectName:str, moduleName:str=None):\n",
    "    '''Installs and loads the given module if not already installed'''\n",
    "    if moduleName is None:\n",
    "        moduleName=projectName\n",
    "    if moduleName not in sys.modules:\n",
    "        !python -m pip install --no-input $projectName\n",
    "        print(f'{projectName} installed')\n",
    "    else:\n",
    "        print(f'{projectName} found')\n",
    "    %reload_ext $moduleName\n",
    "\n",
    "installModule('jupyter-xml')\n",
    "installModule('jupyter-rdfify')\n",
    "installModule('SPARQLWrapper')\n",
    "installModule('tabulate')\n",
    "installModule('spacy')"
   ]
  },
  {
   "cell_type": "markdown",
   "metadata": {},
   "source": [
    "# Download Models"
   ]
  },
  {
   "cell_type": "code",
   "execution_count": null,
   "metadata": {},
   "outputs": [],
   "source": [
    "!python -m spacy download en_core_web_sm   # efficent\n",
    "!python -m spacy download en_core_web_trf   # accurat"
   ]
  },
  {
   "cell_type": "markdown",
   "metadata": {},
   "source": [
    "# Chemistry Example Wikidata Query\n",
    "see http://wiki.bitplan.com/index.php/PyLoDStorage#15_Random_substances_with_CAS_number"
   ]
  },
  {
   "cell_type": "markdown",
   "metadata": {},
   "source": [
    "## Extract text from website"
   ]
  },
  {
   "cell_type": "code",
   "execution_count": 20,
   "metadata": {},
   "outputs": [],
   "source": [
    "from newspaper import Article\n",
    "url=\"https://www.engr.psu.edu/ce/courses/ce584/concrete/library/construction/curing/Composition%20of%20cement.htm\"\n",
    "article = Article(url)\n",
    "article.download()\n",
    "article.parse()\n",
    "text=article.text"
   ]
  },
  {
   "cell_type": "markdown",
   "metadata": {},
   "source": [
    "# NLP with spacy\n",
    "Try to identify [chemical compounds](https://www.wikidata.org/wiki/Q11173)"
   ]
  },
  {
   "cell_type": "code",
   "execution_count": 23,
   "metadata": {},
   "outputs": [
    {
     "name": "stdout",
     "output_type": "stream",
     "text": [
      "Found nouns:\n",
      " ['Composition', 'cement', 'Introduction', 'Portland cement', 'its strength', 'chemical reactions', 'the cement', 'water', 'The process', 'hydration', 'a complex process', 'the chemical composition', 'cement', '\\n\\nManufacture', 'cement', 'Portland cement', 'the following materials', 'Lime', 'calcium oxide', 'CaO', 'limestone', 'chalk', 'shells', 'shale', 'calcareous rock', 'Silica', 'SiO', 'sand', 'old bottles', 'clay', 'argillaceous rock', 'sand', 'old bottles', 'clay', 'argillaceous rock', 'Alumina', 'Al', 'O', 'bauxite', 'recycled aluminum', 'clay', 'O', 'bauxite', 'recycled aluminum', 'clay', 'Iron', 'Fe 2 O', 'clay', 'iron ore', 'scrap iron', 'fly ash', '\\n\\nO', 'clay', 'iron ore', 'scrap iron', 'fly ash', 'Gypsum', 'CaSO', '.2H', 'limestone', 'Chemical shorthand', 'the complex chemical nature', 'cement', 'a shorthand form', 'the chemical compounds', 'The shorthand', 'the basic compounds', 'lime', 'silica', 'alumina', 'Compound Formula Shorthand form %', 'weight1', 'Tricalcium aluminate Ca 3 Al 2 O 6 C 3 A', 'Fe', 'O', 'C', '4 AF', 'Alite or tricalcium silicate Ca 3 SiO', 'C 3 S', 'Sodium oxide Na 2 O N', 'Up to 2 Potassium oxide', 'K', 'Representative weights', 'Actual weight', 'type', 'cement', 'Mindess', 'Young', 'cement compounds', 'These compounds', 'the properties', 'cement', 'different ways', 'Tricalcium aluminate', 'C 3 A:-', 'Tricalcium silicate', 'C 3 S:-', 'Dicalcium silicate', 'C 2 S', 'Ferrite', 'C 4 AF', 'these compounds', 'manufacturers', 'different types', 'cement', 'several construction environments', 'Sidney Mindess', 'J. Francis Young', 'Concrete', 'Prentice-Hall, Inc.', 'Englewood Cliffs', 'NJ', 'pp', '.', 'Steve Kosmatka', 'William Panarese', 'Design', 'Control', 'Concrete Mixes', 'Portland Cement Association', 'Ill.', 'pp', '.', 'Materials', 'Civil and Construction Engineers', 'Addison Wesley Longman, Inc.']\n",
      "Text                                            Entity Tag\n",
      "----------------------------------------------  ------------\n",
      "first                                           ORDINAL\n",
      "Mindess & Young                                 ORG\n",
      "Sidney Mindess                                  PERSON\n",
      "J. Francis Young                                PERSON\n",
      "1981                                            DATE\n",
      "Prentice-Hall, Inc.                             ORG\n",
      "Englewood Cliffs                                GPE\n",
      "NJ                                              GPE\n",
      "671                                             CARDINAL\n",
      "Steve Kosmatka                                  PERSON\n",
      "William Panarese                                PERSON\n",
      "1988                                            DATE\n",
      "Design and Control of Concrete Mixes            ORG\n",
      "Portland Cement Association                     ORG\n",
      "Skokie                                          GPE\n",
      "205                                             CARDINAL\n",
      "Michael Mamlouk                                 PERSON\n",
      "John Zaniewski                                  PERSON\n",
      "1999                                            DATE\n",
      "Materials for Civil and Construction Engineers  ORG\n",
      "Addison Wesley Longman, Inc.                    ORG\n"
     ]
    }
   ],
   "source": [
    "import spacy\n",
    "from tabulate import tabulate\n",
    "# Load English tokenizer, tagger, parser and NER\n",
    "nlp = spacy.load('en_core_web_trf')\n",
    "doc = nlp(text)\n",
    "nouns=[chunk.text for chunk in doc.noun_chunks]\n",
    "\n",
    "print(f\"Found nouns:\\n {nouns}\")\n",
    "\n",
    "foundEntities=[{\"Text\":entity.text, \"Entity Tag\":entity.label_} for entity in doc.ents]\n",
    "print(tabulate(foundEntities, headers=\"keys\"))"
   ]
  },
  {
   "cell_type": "markdown",
   "metadata": {},
   "source": [
    "# Query wikidata for mentioned Chemical Compounds\n",
    "The NER (Named Entity Recognition) seems not to detect the chemical compounds. Thus we use the found nouns to query wikidata for the referenced compounds"
   ]
  },
  {
   "cell_type": "markdown",
   "metadata": {
    "tags": []
   },
   "source": [
    "<div class=\"alert alert-block alert-warning\">\n",
    "<b>ToDo:</b> Optimize query some components that are referenced do not have all queried properties. Making the properties OPTIONAL results in an timeout.\n",
    "</div>"
   ]
  },
  {
   "cell_type": "code",
   "execution_count": 25,
   "metadata": {},
   "outputs": [
    {
     "name": "stdout",
     "output_type": "stream",
     "text": [
      "--------------------------------------  --------------------------------------------------------------------------  ---------  ----  ------\n",
      "http://www.wikidata.org/entity/Q116269  http://commons.wikimedia.org/wiki/Special:FilePath/SiO2.svg                 7631-86-9  SiO₂  Silica\n",
      "http://www.wikidata.org/entity/Q116269  http://commons.wikimedia.org/wiki/Special:FilePath/SiO2.svg                 7631-86-9  SiO₂  silica\n",
      "http://www.wikidata.org/entity/Q283     http://commons.wikimedia.org/wiki/Special:FilePath/H2O%202D%20labelled.svg  7732-18-5  H₂O   water\n",
      "http://www.wikidata.org/entity/Q283     http://commons.wikimedia.org/wiki/Special:FilePath/H2O%202D%20labelled.svg  7732-18-5  H₂O   water\n",
      "http://www.wikidata.org/entity/Q283     http://commons.wikimedia.org/wiki/Special:FilePath/H2O%202D%20labelled.svg  7732-18-5  H₂O   water\n",
      "http://www.wikidata.org/entity/Q283     http://commons.wikimedia.org/wiki/Special:FilePath/H2O%202D%20labelled.svg  7732-18-5  H₂O   water\n",
      "http://www.wikidata.org/entity/Q283     http://commons.wikimedia.org/wiki/Special:FilePath/H2O%202D%20labelled.svg  7732-18-5  H₂O   water\n",
      "http://www.wikidata.org/entity/Q283     http://commons.wikimedia.org/wiki/Special:FilePath/H2O%202D%20labelled.svg  7732-18-5  H₂O   water\n",
      "--------------------------------------  --------------------------------------------------------------------------  ---------  ----  ------\n"
     ]
    }
   ],
   "source": [
    "from SPARQLWrapper import SPARQLWrapper, JSON, CSV\n",
    "from tabulate import tabulate\n",
    "\n",
    "queryValueFormatTags='%s,\\n'*((len(nouns)//100)) + '%s'\n",
    "q = \"\"\"\n",
    "SELECT DISTINCT ?substance ?substanceLabel ?formula ?structure ?CAS\n",
    "WHERE { \n",
    "  ?substance wdt:P31 wd:Q11173.\n",
    "  ?substance wdt:P231 ?CAS.\n",
    "  ?substance wdt:P274 ?formula.\n",
    "  ?substance wdt:P117  ?structure.\n",
    "  ?substance rdfs:label ?substanceLabel\n",
    "  FILTER(str(?substanceLabel) in ( %s ))\n",
    "}\n",
    "LIMIT 50\n",
    "\n",
    "\"\"\" % queryValueFormatTags\n",
    "values=tuple([', '.join([f'\"{noun.strip()}\"' for noun in nouns[n:n+100]]) for n in range((len(nouns)//100)+1)])\n",
    "q = q % values\n",
    "sparql = SPARQLWrapper(\"http://query.wikidata.org/sparql\")\n",
    "sparql.setQuery(q)\n",
    "sparql.setReturnFormat(JSON)\n",
    "results = sparql.query().convert()\n",
    "table = [[result[column][\"value\"] for column in result] for result in results[\"results\"][\"bindings\"]]\n",
    "print(tabulate(table))"
   ]
  },
  {
   "cell_type": "markdown",
   "metadata": {},
   "source": [
    "<div class=\"alert alert-block alert-warning\">\n",
    "<b>ToDo:</b> Decide which SPARQL query framework sould be used and simplfy the access and interface for the usage in jupyter notebooks\n",
    "</div>"
   ]
  },
  {
   "cell_type": "code",
   "execution_count": null,
   "metadata": {},
   "outputs": [],
   "source": []
  }
 ],
 "metadata": {
  "kernelspec": {
   "display_name": "Python 3",
   "language": "python",
   "name": "python3"
  },
  "language_info": {
   "codemirror_mode": {
    "name": "ipython",
    "version": 3
   },
   "file_extension": ".py",
   "mimetype": "text/x-python",
   "name": "python",
   "nbconvert_exporter": "python",
   "pygments_lexer": "ipython3",
   "version": "3.7.11"
  }
 },
 "nbformat": 4,
 "nbformat_minor": 4
}
