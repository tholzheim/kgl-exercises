{
 "cells": [
  {
   "cell_type": "markdown",
   "metadata": {},
   "source": [
    "# Chemistry example: Cement"
   ]
  },
  {
   "cell_type": "markdown",
   "metadata": {},
   "source": [
    "This example is about chemical components. The idea is to take input from a natural language text that contains descriptions about chemical components. With Natural Language Processing the relevant component names shall be extracted and the corresponding components shall be looked up in the Wikidata knowledge graph.\n",
    "\n",
    "See also:\n",
    "[Entity Linking](https://rq.bitplan.com/index.php/Entity_Linking)\n",
    "\n",
    "## Example\n",
    "Input as natural text: \"Polylactic acid (PLA) and Acrylonitrile butadiene styrene (ABS) are 3D printing filaments.\"\n",
    "Extraction of component names:\n",
    "\n",
    "* PLA - Polylactic acid\n",
    "* ABS - Acrylonitrile butadiene styrene\n",
    "\n",
    "Lookup in Wikidata as:\n",
    "* [PLA - Q413769](https://www.wikidata.org/wiki/Q413769) (C₃H₆O₃)x\n",
    "* [ABS - Q143496](https://www.wikidata.org/wiki/Q143496) C₁₅H₁₇N"
   ]
  },
  {
   "cell_type": "markdown",
   "metadata": {},
   "source": [
    "# Prerequisites\n",
    "Please run the prerequiste cells before trying the examples."
   ]
  },
  {
   "cell_type": "markdown",
   "metadata": {},
   "source": [
    "## Install python module dependencies"
   ]
  },
  {
   "cell_type": "code",
   "execution_count": 1,
   "metadata": {},
   "outputs": [
    {
     "name": "stdout",
     "output_type": "stream",
     "text": [
      "Requirement already satisfied: jupyter-xml in /home/holzheim/anaconda3/lib/python3.7/site-packages (0.0.4)\n",
      "Requirement already satisfied: lxml>=4.6.2 in /home/holzheim/anaconda3/lib/python3.7/site-packages (from jupyter-xml) (4.6.3)\n",
      "Requirement already satisfied: ipython>=7.0.0 in /home/holzheim/anaconda3/lib/python3.7/site-packages (from jupyter-xml) (7.24.1)\n",
      "Requirement already satisfied: pexpect>4.3 in /home/holzheim/anaconda3/lib/python3.7/site-packages (from ipython>=7.0.0->jupyter-xml) (4.8.0)\n",
      "Requirement already satisfied: prompt-toolkit!=3.0.0,!=3.0.1,<3.1.0,>=2.0.0 in /home/holzheim/anaconda3/lib/python3.7/site-packages (from ipython>=7.0.0->jupyter-xml) (3.0.17)\n",
      "Requirement already satisfied: matplotlib-inline in /home/holzheim/anaconda3/lib/python3.7/site-packages (from ipython>=7.0.0->jupyter-xml) (0.1.2)\n",
      "Requirement already satisfied: pickleshare in /home/holzheim/anaconda3/lib/python3.7/site-packages (from ipython>=7.0.0->jupyter-xml) (0.7.5)\n",
      "Requirement already satisfied: decorator in /home/holzheim/anaconda3/lib/python3.7/site-packages (from ipython>=7.0.0->jupyter-xml) (5.0.9)\n",
      "Requirement already satisfied: traitlets>=4.2 in /home/holzheim/anaconda3/lib/python3.7/site-packages (from ipython>=7.0.0->jupyter-xml) (5.0.5)\n",
      "Requirement already satisfied: pygments in /home/holzheim/anaconda3/lib/python3.7/site-packages (from ipython>=7.0.0->jupyter-xml) (2.10.0)\n",
      "Requirement already satisfied: backcall in /home/holzheim/anaconda3/lib/python3.7/site-packages (from ipython>=7.0.0->jupyter-xml) (0.2.0)\n",
      "Requirement already satisfied: jedi>=0.16 in /home/holzheim/anaconda3/lib/python3.7/site-packages (from ipython>=7.0.0->jupyter-xml) (0.18.0)\n",
      "Requirement already satisfied: setuptools>=18.5 in /home/holzheim/anaconda3/lib/python3.7/site-packages (from ipython>=7.0.0->jupyter-xml) (52.0.0.post20210125)\n",
      "Requirement already satisfied: parso<0.9.0,>=0.8.0 in /home/holzheim/anaconda3/lib/python3.7/site-packages (from jedi>=0.16->ipython>=7.0.0->jupyter-xml) (0.8.2)\n",
      "Requirement already satisfied: ptyprocess>=0.5 in /home/holzheim/anaconda3/lib/python3.7/site-packages (from pexpect>4.3->ipython>=7.0.0->jupyter-xml) (0.7.0)\n",
      "Requirement already satisfied: wcwidth in /home/holzheim/anaconda3/lib/python3.7/site-packages (from prompt-toolkit!=3.0.0,!=3.0.1,<3.1.0,>=2.0.0->ipython>=7.0.0->jupyter-xml) (0.2.5)\n",
      "Requirement already satisfied: ipython-genutils in /home/holzheim/anaconda3/lib/python3.7/site-packages (from traitlets>=4.2->ipython>=7.0.0->jupyter-xml) (0.2.0)\n",
      "jupyter-xml installed\n"
     ]
    },
    {
     "data": {
      "application/javascript": [
       "\n",
       "    if (typeof IPython !== \"undefined\") {\n",
       "        IPython.CodeCell.options_default.highlight_modes['application/xml'] = {'reg':[/^%%xml/]};\n",
       "        IPython.notebook.get_cells().map(function(cell){ if (cell.cell_type == 'code'){ cell.auto_highlight(); } });\n",
       "    }\n",
       "    "
      ]
     },
     "metadata": {},
     "output_type": "display_data"
    },
    {
     "name": "stdout",
     "output_type": "stream",
     "text": [
      "Requirement already satisfied: SPARQLWrapper in /home/holzheim/anaconda3/lib/python3.7/site-packages (1.8.5)\n",
      "Requirement already satisfied: rdflib>=4.0 in /home/holzheim/anaconda3/lib/python3.7/site-packages (from SPARQLWrapper) (5.0.0)\n",
      "Requirement already satisfied: pyparsing in /home/holzheim/anaconda3/lib/python3.7/site-packages (from rdflib>=4.0->SPARQLWrapper) (2.4.7)\n",
      "Requirement already satisfied: six in /home/holzheim/anaconda3/lib/python3.7/site-packages (from rdflib>=4.0->SPARQLWrapper) (1.16.0)\n",
      "Requirement already satisfied: isodate in /home/holzheim/anaconda3/lib/python3.7/site-packages (from rdflib>=4.0->SPARQLWrapper) (0.6.0)\n",
      "SPARQLWrapper installed\n",
      "Requirement already satisfied: tabulate in /home/holzheim/anaconda3/lib/python3.7/site-packages (0.8.9)\n",
      "tabulate installed\n",
      "\u001b[31mERROR: Invalid requirement: 'spacy=3.1.3'\n",
      "Hint: = is not a valid operator. Did you mean == ?\u001b[0m\n",
      "spacy=3.1.3 installed\n"
     ]
    }
   ],
   "source": [
    "import sys\n",
    "def installModule(projectName:str, moduleName:str=None):\n",
    "    '''Installs and loads the given module if not already installed'''\n",
    "    if moduleName is None:\n",
    "        moduleName=projectName\n",
    "    !python -m pip install -U --no-input $projectName\n",
    "    print(f'{projectName} installed')\n",
    "    %reload_ext $moduleName\n",
    "\n",
    "installModule('jupyter-xml')\n",
    "installModule('SPARQLWrapper')\n",
    "installModule('tabulate')\n",
    "installModule('spacy==3.1.3', 'spacy')"
   ]
  },
  {
   "cell_type": "markdown",
   "metadata": {},
   "source": [
    "## Download Models"
   ]
  },
  {
   "cell_type": "code",
   "execution_count": 2,
   "metadata": {},
   "outputs": [
    {
     "name": "stdout",
     "output_type": "stream",
     "text": [
      "Collecting en-core-web-sm==3.0.0\n",
      "  Downloading https://github.com/explosion/spacy-models/releases/download/en_core_web_sm-3.0.0/en_core_web_sm-3.0.0-py3-none-any.whl (13.7 MB)\n",
      "\u001b[K     |████████████████████████████████| 13.7 MB 479 kB/s eta 0:00:01\n",
      "\u001b[?25hRequirement already satisfied: spacy<3.1.0,>=3.0.0 in /home/holzheim/.local/lib/python3.7/site-packages (from en-core-web-sm==3.0.0) (3.0.3)\n",
      "Requirement already satisfied: murmurhash<1.1.0,>=0.28.0 in /home/holzheim/.local/lib/python3.7/site-packages (from spacy<3.1.0,>=3.0.0->en-core-web-sm==3.0.0) (1.0.5)\n",
      "Requirement already satisfied: typing-extensions>=3.7.4 in /home/holzheim/.local/lib/python3.7/site-packages (from spacy<3.1.0,>=3.0.0->en-core-web-sm==3.0.0) (3.7.4.3)\n",
      "Requirement already satisfied: jinja2 in /home/holzheim/anaconda3/lib/python3.7/site-packages (from spacy<3.1.0,>=3.0.0->en-core-web-sm==3.0.0) (2.11.3)\n",
      "Requirement already satisfied: importlib-metadata>=0.20 in /home/holzheim/anaconda3/lib/python3.7/site-packages (from spacy<3.1.0,>=3.0.0->en-core-web-sm==3.0.0) (3.10.0)\n",
      "Requirement already satisfied: wasabi<1.1.0,>=0.8.1 in /home/holzheim/.local/lib/python3.7/site-packages (from spacy<3.1.0,>=3.0.0->en-core-web-sm==3.0.0) (0.8.2)\n",
      "Requirement already satisfied: cymem<2.1.0,>=2.0.2 in /home/holzheim/.local/lib/python3.7/site-packages (from spacy<3.1.0,>=3.0.0->en-core-web-sm==3.0.0) (2.0.5)\n",
      "Requirement already satisfied: numpy>=1.15.0 in /home/holzheim/anaconda3/lib/python3.7/site-packages (from spacy<3.1.0,>=3.0.0->en-core-web-sm==3.0.0) (1.20.3)\n",
      "Requirement already satisfied: thinc<8.1.0,>=8.0.0 in /home/holzheim/.local/lib/python3.7/site-packages (from spacy<3.1.0,>=3.0.0->en-core-web-sm==3.0.0) (8.0.1)\n",
      "Requirement already satisfied: srsly<3.0.0,>=2.4.0 in /home/holzheim/.local/lib/python3.7/site-packages (from spacy<3.1.0,>=3.0.0->en-core-web-sm==3.0.0) (2.4.0)\n",
      "Requirement already satisfied: pathy in /home/holzheim/.local/lib/python3.7/site-packages (from spacy<3.1.0,>=3.0.0->en-core-web-sm==3.0.0) (0.4.0)\n",
      "Requirement already satisfied: tqdm<5.0.0,>=4.38.0 in /home/holzheim/anaconda3/lib/python3.7/site-packages (from spacy<3.1.0,>=3.0.0->en-core-web-sm==3.0.0) (4.62.1)\n",
      "Requirement already satisfied: pydantic<1.8.0,>=1.7.1 in /home/holzheim/.local/lib/python3.7/site-packages (from spacy<3.1.0,>=3.0.0->en-core-web-sm==3.0.0) (1.7.3)\n",
      "Requirement already satisfied: requests<3.0.0,>=2.13.0 in /home/holzheim/anaconda3/lib/python3.7/site-packages (from spacy<3.1.0,>=3.0.0->en-core-web-sm==3.0.0) (2.26.0)\n",
      "Requirement already satisfied: catalogue<2.1.0,>=2.0.1 in /home/holzheim/.local/lib/python3.7/site-packages (from spacy<3.1.0,>=3.0.0->en-core-web-sm==3.0.0) (2.0.1)\n",
      "Requirement already satisfied: preshed<3.1.0,>=3.0.2 in /home/holzheim/.local/lib/python3.7/site-packages (from spacy<3.1.0,>=3.0.0->en-core-web-sm==3.0.0) (3.0.5)\n",
      "Requirement already satisfied: setuptools in /home/holzheim/anaconda3/lib/python3.7/site-packages (from spacy<3.1.0,>=3.0.0->en-core-web-sm==3.0.0) (52.0.0.post20210125)\n",
      "Requirement already satisfied: typer<0.4.0,>=0.3.0 in /home/holzheim/.local/lib/python3.7/site-packages (from spacy<3.1.0,>=3.0.0->en-core-web-sm==3.0.0) (0.3.2)\n",
      "Requirement already satisfied: spacy-legacy<3.1.0,>=3.0.0 in /home/holzheim/.local/lib/python3.7/site-packages (from spacy<3.1.0,>=3.0.0->en-core-web-sm==3.0.0) (3.0.1)\n",
      "Requirement already satisfied: packaging>=20.0 in /home/holzheim/anaconda3/lib/python3.7/site-packages (from spacy<3.1.0,>=3.0.0->en-core-web-sm==3.0.0) (21.0)\n",
      "Requirement already satisfied: blis<0.8.0,>=0.4.0 in /home/holzheim/.local/lib/python3.7/site-packages (from spacy<3.1.0,>=3.0.0->en-core-web-sm==3.0.0) (0.7.4)\n",
      "Requirement already satisfied: zipp>=0.5 in /home/holzheim/anaconda3/lib/python3.7/site-packages (from importlib-metadata>=0.20->spacy<3.1.0,>=3.0.0->en-core-web-sm==3.0.0) (3.5.0)\n",
      "Requirement already satisfied: pyparsing>=2.0.2 in /home/holzheim/anaconda3/lib/python3.7/site-packages (from packaging>=20.0->spacy<3.1.0,>=3.0.0->en-core-web-sm==3.0.0) (2.4.7)\n",
      "Requirement already satisfied: urllib3<1.27,>=1.21.1 in /home/holzheim/anaconda3/lib/python3.7/site-packages (from requests<3.0.0,>=2.13.0->spacy<3.1.0,>=3.0.0->en-core-web-sm==3.0.0) (1.26.6)\n",
      "Requirement already satisfied: certifi>=2017.4.17 in /home/holzheim/anaconda3/lib/python3.7/site-packages (from requests<3.0.0,>=2.13.0->spacy<3.1.0,>=3.0.0->en-core-web-sm==3.0.0) (2021.5.30)\n",
      "Requirement already satisfied: idna<4,>=2.5 in /home/holzheim/anaconda3/lib/python3.7/site-packages (from requests<3.0.0,>=2.13.0->spacy<3.1.0,>=3.0.0->en-core-web-sm==3.0.0) (3.2)\n",
      "Requirement already satisfied: charset-normalizer~=2.0.0 in /home/holzheim/anaconda3/lib/python3.7/site-packages (from requests<3.0.0,>=2.13.0->spacy<3.1.0,>=3.0.0->en-core-web-sm==3.0.0) (2.0.4)\n",
      "Requirement already satisfied: click<7.2.0,>=7.1.1 in /home/holzheim/anaconda3/lib/python3.7/site-packages (from typer<0.4.0,>=0.3.0->spacy<3.1.0,>=3.0.0->en-core-web-sm==3.0.0) (7.1.2)\n",
      "Requirement already satisfied: MarkupSafe>=0.23 in /home/holzheim/anaconda3/lib/python3.7/site-packages (from jinja2->spacy<3.1.0,>=3.0.0->en-core-web-sm==3.0.0) (2.0.1)\n",
      "Requirement already satisfied: smart-open<4.0.0,>=2.2.0 in /home/holzheim/.local/lib/python3.7/site-packages (from pathy->spacy<3.1.0,>=3.0.0->en-core-web-sm==3.0.0) (3.0.0)\n",
      "\u001b[38;5;2m✔ Download and installation successful\u001b[0m\n",
      "You can now load the package via spacy.load('en_core_web_sm')\n"
     ]
    }
   ],
   "source": [
    "!python -m spacy download en_core_web_sm    # efficent"
   ]
  },
  {
   "cell_type": "markdown",
   "metadata": {},
   "source": [
    "# Chemistry Example Wikidata Query\n",
    "see [pyLodStorage Random Substances with CAS number example](http://wiki.bitplan.com/index.php/PyLoDStorage#15_Random_substances_with_CAS_number)"
   ]
  },
  {
   "cell_type": "markdown",
   "metadata": {},
   "source": [
    "## Extract text from website\n",
    "We take input from a \n",
    "[Penn State University text about the composition of Cement](https://www.engr.psu.edu/ce/courses/ce584/concrete/library/construction/curing/Composition%20of%20cement.htm)\n",
    "which contains mentions of compounds such as \"Silicon dioxide\". We'd like to lookup the corresponding Wikidata entry [Silicon dioxide: Q116269](https://www.wikidata.org/wiki/Q116269)"
   ]
  },
  {
   "cell_type": "code",
   "execution_count": 3,
   "metadata": {},
   "outputs": [
    {
     "name": "stdout",
     "output_type": "stream",
     "text": [
      "Composition of cement\n",
      "\n",
      "Introduction\n",
      "\n",
      "Portland cement gets its strength from chemical reactions between the cement and water. The process is known as  ...\n"
     ]
    }
   ],
   "source": [
    "from newspaper import Article\n",
    "url=\"https://www.engr.psu.edu/ce/courses/ce584/concrete/library/construction/curing/Composition%20of%20cement.htm\"\n",
    "article = Article(url)\n",
    "article.download()\n",
    "article.parse()\n",
    "text=article.text\n",
    "print(text[:149],\"...\")"
   ]
  },
  {
   "cell_type": "markdown",
   "metadata": {},
   "source": [
    "# NLP with spacy\n",
    "Try to identify [chemical compounds](https://www.wikidata.org/wiki/Q11173) with the natural language processing library [Spacy](https://spacy.io/)"
   ]
  },
  {
   "cell_type": "code",
   "execution_count": 4,
   "metadata": {},
   "outputs": [
    {
     "name": "stdout",
     "output_type": "stream",
     "text": [
      "Found nouns:\n",
      " ['Composition', 'cement', 'Introduction', 'Portland cement', 'its strength', 'chemical reactions', 'the cement', 'water', 'The process', 'hydration', 'a complex process', 'the chemical composition', 'cement', 'Manufacture', 'cement', 'Portland cement', 'milling', 'the following materials', 'Lime', 'calcium oxide', 'CaO', 'limestone', 'chalk', 'shells', 'shale', 'calcareous rock', '\\n\\n\\n\\nSilica', 'SiO', 'sand', 'old bottles', 'clay', 'argillaceous rock', 'sand', 'old bottles', 'clay', 'argillaceous rock', 'Alumina', 'Al 2 O', 'bauxite', 'recycled aluminum', 'bauxite', 'recycled aluminum', 'clay', 'Iron', '2 O', 'clay', 'iron ore', 'scrap iron', 'ash', 'clay', 'iron ore', 'scrap iron', 'ash', 'Gypsum', 'limestone', 'Chemical shorthand', 'the complex chemical nature', 'cement', 'a shorthand form', 'the chemical compounds', 'The shorthand', 'the basic compounds', '\\n\\n\\n\\nCompound Formula Shorthand', 'Calcium oxide', 'lime', 'Ca0', 'C Silicon dioxide', 'silica', 'SiO', '2 S Aluminum oxide', 'Al', 'Iron oxide Fe', 'SO', '3 S', 'Compound Formula Shorthand', 'weight1 Tricalcium', 'aluminate', '3 Al 2 O 6 C 3 A 10 Tetracalcium', '2 SiO 5 C 2 S 20 Alite', 'tricalcium', 'silicate', 'Ca', 'SiO', 'C 3 S 55 Sodium oxide', 'Na', 'Up to 2 Potassium oxide K 2 O K Gypsum CaSO', '.2H 2 O C S H', 'Actual weight', 'type', 'cement', 'Source', 'Mindess', 'Young', 'Properties', 'cement compounds', 'These compounds', 'the properties', 'cement', 'different ways', '\\n\\n\\n\\nTricalcium', 'C 3 A:-', 'Tricalcium silicate', 'C 3 S:-', 'Dicalcium silicate', 'C 2 S', 'Ferrite', 'C 4 AF', 'these compounds', 'manufacturers', 'different types', 'cement', 'several construction environments', 'References', 'Sidney Mindess', 'J. Francis Young', 'Concrete', 'Prentice-Hall', 'Inc.', 'Englewood Cliffs', 'NJ', 'pp', 'Steve Kosmatka', 'William Panarese', 'Design', 'Control', 'Concrete Mixes', 'Portland Cement Association', 'Ill.', 'Michael Mamlouk', 'John Zaniewski', 'Materials', 'Civil and Construction Engineers', 'Addison Wesley Longman', 'Inc.']\n",
      "Text                         Entity Tag\n",
      "---------------------------  ------------\n",
      "first                        ORDINAL\n",
      "Portland                     GPE\n",
      "Silica                       PERSON\n",
      "Alumina                      LOC\n",
      "3                            CARDINAL\n",
      "2                            CARDINAL\n",
      "3                            CARDINAL\n",
      "4                            CARDINAL\n",
      "Chemical                     ORG\n",
      "Formula Shorthand            PERSON\n",
      "SiO 2 S Aluminum             PRODUCT\n",
      "2                            CARDINAL\n",
      "3                            CARDINAL\n",
      "4                            CARDINAL\n",
      "Mindess & Young              ORG\n",
      "\n",
      "Properties\n",
      "C 2 S                        PRODUCT\n",
      "1981                         DATE\n",
      "Prentice-Hall, Inc.          ORG\n",
      "Englewood Cliffs             GPE\n",
      "671                          CARDINAL\n",
      "Steve Kosmatka &             PERSON\n",
      "William Panarese             PERSON\n",
      "1988                         DATE\n",
      "Portland Cement Association  ORG\n",
      "Skokie                       GPE\n",
      "Ill.                         GPE\n",
      "205                          CARDINAL\n",
      "Michael Mamlouk              PERSON\n",
      "John Zaniewski               PERSON\n",
      "1999                         DATE\n",
      "Addison Wesley Longman       PERSON\n"
     ]
    }
   ],
   "source": [
    "import spacy\n",
    "from tabulate import tabulate\n",
    "# Load English tokenizer, tagger, parser and NER\n",
    "nlp = spacy.load('en_core_web_sm')\n",
    "doc = nlp(text)\n",
    "nouns=[chunk.text for chunk in doc.noun_chunks]\n",
    "\n",
    "print(f\"Found nouns:\\n {nouns}\")\n",
    "\n",
    "foundEntities=[{\"Text\":entity.text, \"Entity Tag\":entity.label_} for entity in doc.ents]\n",
    "print(tabulate(foundEntities, headers=\"keys\"))"
   ]
  },
  {
   "cell_type": "markdown",
   "metadata": {},
   "source": [
    "# Query wikidata for mentioned Chemical Compounds\n",
    "The NER (Named Entity Recognition) of Spacy seems not to detect the chemical compounds as a known category. \n",
    "Thus we need to work around this limitation and try to use the found nouns to query wikidata for the referenced compounds."
   ]
  },
  {
   "cell_type": "markdown",
   "metadata": {},
   "source": [
    "## Setting up the [wikidata query endpoint](https://query.wikidata.org/)"
   ]
  },
  {
   "cell_type": "code",
   "execution_count": 5,
   "metadata": {},
   "outputs": [],
   "source": [
    "from lodstorage.query import QueryManager, Query\n",
    "from lodstorage.sparql import SPARQL\n",
    "from IPython.display import display, Markdown\n",
    "endpoint=SPARQL(\"https://query.wikidata.org/sparql\")"
   ]
  },
  {
   "cell_type": "markdown",
   "metadata": {},
   "source": [
    "## Get matching entites\n",
    "The found nouns by spacy can be matched against the labels of chemical compounds.\n",
    "\n",
    "A wikidata entity such as [Silicon dioxide: Q116269](https://www.wikidata.org/wiki/Q116269) has [rdfs:label](https://www.w3.org/TR/rdf-schema/#ch_label) for different languages specified with the languages tag (e.g. @en). \n",
    "\n",
    "To also query the names that are defined in the __Also known as__ column of the entity page the [skos:altLabel](https://www.w3.org/2009/08/skos-reference/skos.html#altLabel) property has to be queried. Searching for the label in both properties can be accomplished by using the [alternative path](https://www.w3.org/TR/sparql11-query/#propertypaths) feature of SPARQL.\n",
    "\n",
    "Note: The wikidata endpoint has a horizontal line limit and thus the values in the [VALUES clause](https://www.w3.org/TR/sparql11-query/#inline-data) are added over multiple lines.\n"
   ]
  },
  {
   "cell_type": "code",
   "execution_count": 7,
   "metadata": {},
   "outputs": [
    {
     "ename": "NameError",
     "evalue": "name 'entityQueryResLoD' is not defined",
     "output_type": "error",
     "traceback": [
      "\u001b[0;31m---------------------------------------------------------------------------\u001b[0m",
      "\u001b[0;31mNameError\u001b[0m                                 Traceback (most recent call last)",
      "\u001b[0;32m<ipython-input-7-3c6a8d2c88b4>\u001b[0m in \u001b[0;36m<module>\u001b[0;34m\u001b[0m\n\u001b[1;32m     23\u001b[0m \u001b[0msubstanceQueryResLoD\u001b[0m\u001b[0;34m=\u001b[0m\u001b[0mendpoint\u001b[0m\u001b[0;34m.\u001b[0m\u001b[0mqueryAsListOfDicts\u001b[0m\u001b[0;34m(\u001b[0m\u001b[0msubstanceQuery\u001b[0m\u001b[0;34m.\u001b[0m\u001b[0mquery\u001b[0m\u001b[0;34m)\u001b[0m\u001b[0;34m\u001b[0m\u001b[0;34m\u001b[0m\u001b[0m\n\u001b[1;32m     24\u001b[0m \u001b[0;34m\u001b[0m\u001b[0m\n\u001b[0;32m---> 25\u001b[0;31m \u001b[0msubstances\u001b[0m\u001b[0;34m=\u001b[0m\u001b[0;34m[\u001b[0m\u001b[0mrecord\u001b[0m\u001b[0;34m.\u001b[0m\u001b[0mget\u001b[0m\u001b[0;34m(\u001b[0m\u001b[0;34m'substance'\u001b[0m\u001b[0;34m)\u001b[0m \u001b[0;32mfor\u001b[0m \u001b[0mrecord\u001b[0m \u001b[0;32min\u001b[0m \u001b[0mentityQueryResLoD\u001b[0m\u001b[0;34m]\u001b[0m\u001b[0;34m\u001b[0m\u001b[0;34m\u001b[0m\u001b[0m\n\u001b[0m\u001b[1;32m     26\u001b[0m \u001b[0;34m\u001b[0m\u001b[0m\n\u001b[1;32m     27\u001b[0m \u001b[0;31m# pretty printout of the result\u001b[0m\u001b[0;34m\u001b[0m\u001b[0;34m\u001b[0m\u001b[0;34m\u001b[0m\u001b[0m\n",
      "\u001b[0;31mNameError\u001b[0m: name 'entityQueryResLoD' is not defined"
     ]
    }
   ],
   "source": [
    "from SPARQLWrapper import SPARQLWrapper, JSON, CSV\n",
    "from tabulate import tabulate\n",
    "\n",
    "# building the query string\n",
    "queryValueFormatTags='%s\\n'*((len(nouns)//50)) + '%s'\n",
    "substanceQueryStr = \"\"\"\n",
    "SELECT DISTINCT ?substance\n",
    "WHERE { \n",
    "  VALUES ?substanceLabel {%s}\n",
    "  ?substance wdt:P31 wd:Q11173;\n",
    "             rdfs:label|skos:altLabel ?substanceLabel.\n",
    "}\n",
    "LIMIT 50\n",
    "\n",
    "\"\"\" % queryValueFormatTags\n",
    "values=tuple([' '.join([f'\"{noun.strip()}\"@en' for noun in nouns[n:n+50]]) for n in range((len(nouns)//50)+1)])\n",
    "substanceQueryStr = substanceQueryStr % values\n",
    "\n",
    "# executing the query\n",
    "substanceQuery=Query(query=substanceQueryStr,\n",
    "            name=\"Recognized chemical compounds\",\n",
    "            lang=\"sparql\")\n",
    "substanceQueryResLoD=endpoint.queryAsListOfDicts(substanceQuery.query)\n",
    "\n",
    "substances=[record.get('substance') for record in entityQueryResLoD]\n",
    "\n",
    "# pretty printout of the result\n",
    "doc=substanceQuery.documentQueryResult(substanceQueryResLoD, tablefmt=\"github\",floatfmt=\".0f\",tryItUrl=\"https://query.wikidata.org\")\n",
    "display(Markdown(str(doc)))"
   ]
  },
  {
   "cell_type": "markdown",
   "metadata": {},
   "source": [
    "## Extract additional information about the entities\n",
    "The queried substances can now be used to query additional information about them. Since some information might not be avaliable for a substance, the prperties are queried in an [OPTIONAL clause](https://www.w3.org/TR/sparql11-query/#optionals) to include the entity eventhough the triple match is not fulfilled."
   ]
  },
  {
   "cell_type": "code",
   "execution_count": null,
   "metadata": {},
   "outputs": [],
   "source": [
    "substanceDetailQueryStr = \"\"\"\n",
    "SELECT DISTINCT ?substance ?substanceLabel ?formula ?structure ?CAS\n",
    "WHERE { \n",
    "  VALUES ?substance { %s }\n",
    "  ?substance wdt:P31 wd:Q11173.\n",
    "  OPTIONAL{\n",
    "      ?substance wdt:P231 ?CAS.\n",
    "  }\n",
    "  OPTIONAL{\n",
    "      ?substance wdt:P274 ?formula.\n",
    "  }\n",
    "  OPTIONAL{\n",
    "      ?substance wdt:P117  ?structure.\n",
    "  }\n",
    "  OPTIONAL{\n",
    "      ?substance rdfs:label ?substanceLabel.\n",
    "      FILTER(lang(?substanceLabel)=\"en\")\n",
    "  }                    \n",
    "}\n",
    "LIMIT 50\n",
    "\n",
    "\"\"\" % \" \".join([f\"<{substance}>\" for substance in substances])\n",
    "\n",
    "substanceDetailQuery=Query(query=substanceDetailQueryStr,\n",
    "            name=\"Chemical compound details\",\n",
    "            lang=\"sparql\")\n",
    "substanceDetailQueryResLoD=endpoint.queryAsListOfDicts(entityDetailQuery.query)\n",
    "\n",
    "# pretty printout of the result\n",
    "doc=substanceDetailQuery.documentQueryResult(substanceDetailQueryResLoD, tablefmt=\"github\",floatfmt=\".0f\",tryItUrl=\"https://query.wikidata.org\")\n",
    "display(Markdown(str(doc)))"
   ]
  },
  {
   "cell_type": "code",
   "execution_count": null,
   "metadata": {},
   "outputs": [],
   "source": []
  }
 ],
 "metadata": {
  "kernelspec": {
   "display_name": "Python 3",
   "language": "python",
   "name": "python3"
  },
  "language_info": {
   "codemirror_mode": {
    "name": "ipython",
    "version": 3
   },
   "file_extension": ".py",
   "mimetype": "text/x-python",
   "name": "python",
   "nbconvert_exporter": "python",
   "pygments_lexer": "ipython3",
   "version": "3.7.11"
  }
 },
 "nbformat": 4,
 "nbformat_minor": 4
}
