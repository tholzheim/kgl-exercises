{
 "cells": [
  {
   "cell_type": "markdown",
   "metadata": {},
   "source": [
    "# Chemistry example: Cement"
   ]
  },
  {
   "cell_type": "markdown",
   "metadata": {},
   "source": [
    "This example is about chemical components. The idea is to take input from a natural language text that contains descriptions about chemical components. With Natural Language Processing the relevant component names shall be extracted and the corresponding components shall be looked up in the Wikidata knowledge graph.\n",
    "\n",
    "See also:\n",
    "[Entity Linking](https://rq.bitplan.com/index.php/Entity_Linking)\n",
    "\n",
    "## Example\n",
    "Input as natural text: \"Polylactic acid (PLA) and Acrylonitrile butadiene styrene (ABS) are 3D printing filaments.\"\n",
    "Extraction of component names:\n",
    "\n",
    "* PLA - Polylactic acid\n",
    "* ABS - Acrylonitrile butadiene styrene\n",
    "\n",
    "Lookup in Wikidata as:\n",
    "* [PLA - Q413769](https://www.wikidata.org/wiki/Q413769) (C₃H₆O₃)x\n",
    "* [ABS - Q143496](https://www.wikidata.org/wiki/Q143496) C₁₅H₁₇N"
   ]
  },
  {
   "cell_type": "markdown",
   "metadata": {},
   "source": [
    "# Prerequisites\n",
    "Please run the prerequiste cells before trying the examples."
   ]
  },
  {
   "cell_type": "markdown",
   "metadata": {},
   "source": [
    "## Install python module dependencies"
   ]
  },
  {
   "cell_type": "code",
   "execution_count": null,
   "metadata": {},
   "outputs": [],
   "source": [
    "import sys\n",
    "def installModule(projectName:str, moduleName:str=None):\n",
    "    '''Installs and loads the given module if not already installed'''\n",
    "    if moduleName is None:\n",
    "        moduleName=projectName\n",
    "    !python -m pip install -U --no-input $projectName\n",
    "    print(f'{projectName} installed')\n",
    "    %reload_ext $moduleName\n",
    "\n",
    "installModule('jupyter-xml')\n",
    "installModule('SPARQLWrapper')\n",
    "installModule('tabulate')\n",
    "installModule('spacy=3.1.3', 'spacy')"
   ]
  },
  {
   "cell_type": "markdown",
   "metadata": {},
   "source": [
    "## Download Models"
   ]
  },
  {
   "cell_type": "code",
   "execution_count": null,
   "metadata": {},
   "outputs": [],
   "source": [
    "!python -m spacy download en_core_web_sm    # efficent"
   ]
  },
  {
   "cell_type": "markdown",
   "metadata": {},
   "source": [
    "# Chemistry Example Wikidata Query\n",
    "see [pyLodStorage Random Substances with CAS number example](http://wiki.bitplan.com/index.php/PyLoDStorage#15_Random_substances_with_CAS_number)"
   ]
  },
  {
   "cell_type": "markdown",
   "metadata": {},
   "source": [
    "## Extract text from website\n",
    "We take input from a \n",
    "[Penn State University text about the composition of Cement](https://www.engr.psu.edu/ce/courses/ce584/concrete/library/construction/curing/Composition%20of%20cement.htm)\n",
    "which contains mentions of compounds such as \"Silicon dioxide\". We'd like to lookup the corresponding Wikidata entry [Silicon dioxide: Q116269](https://www.wikidata.org/wiki/Q116269)"
   ]
  },
  {
   "cell_type": "code",
   "execution_count": null,
   "metadata": {},
   "outputs": [],
   "source": [
    "from newspaper import Article\n",
    "url=\"https://www.engr.psu.edu/ce/courses/ce584/concrete/library/construction/curing/Composition%20of%20cement.htm\"\n",
    "article = Article(url)\n",
    "article.download()\n",
    "article.parse()\n",
    "text=article.text\n",
    "print(text[:149],\"...\")"
   ]
  },
  {
   "cell_type": "markdown",
   "metadata": {},
   "source": [
    "# NLP with spacy\n",
    "Try to identify [chemical compounds](https://www.wikidata.org/wiki/Q11173) with the natural language processing library [Spacy](https://spacy.io/)"
   ]
  },
  {
   "cell_type": "code",
   "execution_count": null,
   "metadata": {},
   "outputs": [],
   "source": [
    "import spacy\n",
    "from tabulate import tabulate\n",
    "# Load English tokenizer, tagger, parser and NER\n",
    "nlp = spacy.load('en_core_web_sm')\n",
    "doc = nlp(text)\n",
    "nouns=[chunk.text for chunk in doc.noun_chunks]\n",
    "\n",
    "print(f\"Found nouns:\\n {nouns}\")\n",
    "\n",
    "foundEntities=[{\"Text\":entity.text, \"Entity Tag\":entity.label_} for entity in doc.ents]\n",
    "print(tabulate(foundEntities, headers=\"keys\"))"
   ]
  },
  {
   "cell_type": "markdown",
   "metadata": {},
   "source": [
    "# Query wikidata for mentioned Chemical Compounds\n",
    "The NER (Named Entity Recognition) of Spacy seems not to detect the chemical compounds as a known category. \n",
    "Thus we need to work around this limitation and try to use the found nouns to query wikidata for the referenced compounds."
   ]
  },
  {
   "cell_type": "markdown",
   "metadata": {
    "tags": []
   },
   "source": [
    "<div class=\"alert alert-block alert-warning\">\n",
    "<b>ToDo:</b> Optimize query some components that are referenced do not have all queried properties. Making the properties OPTIONAL results in an timeout.\n",
    "</div>"
   ]
  },
  {
   "cell_type": "code",
   "execution_count": null,
   "metadata": {},
   "outputs": [],
   "source": [
    "from SPARQLWrapper import SPARQLWrapper, JSON, CSV\n",
    "from tabulate import tabulate\n",
    "\n",
    "queryValueFormatTags='%s,\\n'*((len(nouns)//100)) + '%s'\n",
    "q = \"\"\"\n",
    "SELECT DISTINCT ?substance ?substanceLabel ?formula ?structure ?CAS\n",
    "WHERE { \n",
    "  ?substance wdt:P31 wd:Q11173.\n",
    "  ?substance wdt:P231 ?CAS.\n",
    "  ?substance wdt:P274 ?formula.\n",
    "  ?substance wdt:P117  ?structure.\n",
    "  ?substance rdfs:label ?substanceLabel\n",
    "  FILTER(str(?substanceLabel) in ( %s ))\n",
    "}\n",
    "LIMIT 50\n",
    "\n",
    "\"\"\" % queryValueFormatTags\n",
    "values=tuple([', '.join([f'\"{noun.strip()}\"' for noun in nouns[n:n+100]]) for n in range((len(nouns)//100)+1)])\n",
    "q = q % values\n",
    "sparql = SPARQLWrapper(\"http://query.wikidata.org/sparql\")\n",
    "sparql.setQuery(q)\n",
    "sparql.setReturnFormat(JSON)\n",
    "results = sparql.query().convert()\n",
    "table = [[result[column][\"value\"] for column in result] for result in results[\"results\"][\"bindings\"]]\n",
    "print(tabulate(table))"
   ]
  },
  {
   "cell_type": "markdown",
   "metadata": {},
   "source": [
    "<div class=\"alert alert-block alert-warning\">\n",
    "<b>ToDo:</b> Decide which SPARQL query framework sould be used and simplfy the access and interface for the usage in jupyter notebooks\n",
    "</div>"
   ]
  },
  {
   "cell_type": "code",
   "execution_count": null,
   "metadata": {},
   "outputs": [],
   "source": []
  }
 ],
 "metadata": {
  "kernelspec": {
   "display_name": "Python 3 (ipykernel)",
   "language": "python",
   "name": "python3"
  },
  "language_info": {
   "codemirror_mode": {
    "name": "ipython",
    "version": 3
   },
   "file_extension": ".py",
   "mimetype": "text/x-python",
   "name": "python",
   "nbconvert_exporter": "python",
   "pygments_lexer": "ipython3",
   "version": "3.9.6"
  }
 },
 "nbformat": 4,
 "nbformat_minor": 4
}
