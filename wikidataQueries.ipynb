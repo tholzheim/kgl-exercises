{
 "cells": [
  {
   "cell_type": "markdown",
   "id": "22855175-508a-4e48-82b8-2915c1d96f43",
   "metadata": {},
   "source": [
    "# Prerequisites\n",
    "Please run the prerequiste cells before trying the examples."
   ]
  },
  {
   "cell_type": "markdown",
   "id": "d818ccaa-3f74-4a8a-b96a-1bc44358d782",
   "metadata": {},
   "source": [
    "## Install python module dependencies"
   ]
  },
  {
   "cell_type": "code",
   "execution_count": null,
   "id": "e0cdd353-cb1c-4d33-8d81-16a989a34dd3",
   "metadata": {
    "pycharm": {
     "is_executing": true
    }
   },
   "outputs": [],
   "source": [
    "import sys\n",
    "def installModule(projectName:str, moduleName:str=None):\n",
    "    '''Installs and loads the given module if not already installed'''\n",
    "    if moduleName is None:\n",
    "        moduleName=projectName\n",
    "    !python -m pip install -U --no-input $projectName\n",
    "    print(f'{projectName} installed')\n",
    "    %reload_ext $moduleName\n",
    "\n",
    "installModule('jupyter-xml')\n",
    "installModule('jupyter-rdfify==1.0.1','jupyter-rdfify')\n",
    "installModule('SPARQLWrapper')\n",
    "installModule('tabulate')\n",
    "installModule(\"pylodstorage\", \"lodstorage\")"
   ]
  },
  {
   "cell_type": "markdown",
   "id": "cc1df203-bcfa-44a8-a422-374a490c21b7",
   "metadata": {},
   "source": [
    ".# Querying wikidata\n",
    "[wikidata](https://www.wikidata.org/wiki/Wikidata:Main_Page) provides an [SPARQL endpoint](https://query.wikidata.org/) for querying their triplestore. \n",
    "\n",
    "To get a response from the endpoint the query is sent as post request and returns the results in __json__ or __xml__ format.\n",
    "\n",
    "The result is then post-processed into a more usable format. Depending on the post-processing the results are converted into python types and this step can also include a merging of results. For example if a proeprty has multiple values and all match the query each value will result in its own row (For more details in the result reduction see [SPARQL Transformer](https://www.eurecom.fr/en/publication/5927/download/data-publi-5927.pdf)).\n",
    "\n",
    "[![](https://mermaid.ink/img/eyJjb2RlIjoiZmxvd2NoYXJ0IExSXG4gICAgQShRdWVyeSkgLS0-fHBvc3QgcmVxdWVzdHwgQihldmFsdWF0ZSBRdWVyeSlcbiAgICBCIC0tPnxyZXNwb25zZXwgQyhKU09OIFJlc3BvbnNlKVxuICAgIEMgLS0-fHBvc3QgcHJvY2Vzc3wgRChcIkxpc3Qgb2YgRGljdHMgKExvRClcIikiLCJtZXJtYWlkIjp7InRoZW1lIjoiZGVmYXVsdCJ9LCJ1cGRhdGVFZGl0b3IiOmZhbHNlLCJhdXRvU3luYyI6dHJ1ZSwidXBkYXRlRGlhZ3JhbSI6ZmFsc2V9)](https://mermaid.live/edit/#eyJjb2RlIjoiZmxvd2NoYXJ0IExSXG4gICAgQShRdWVyeSkgLS0-fHBvc3QgcmVxdWVzdHwgQihldmFsdWF0ZSBRdWVyeSlcbiAgICBCIC0tPnxyZXNwb25zZXwgQyhKU09OIFJlc3BvbnNlKVxuICAgIEMgLS0-fHBvc3QgcHJvY2Vzc3wgRChcIkxpc3Qgb2YgRGljdHMgKExvRClcIikiLCJtZXJtYWlkIjoie1xuICBcInRoZW1lXCI6IFwiZGVmYXVsdFwiXG59IiwidXBkYXRlRWRpdG9yIjpmYWxzZSwiYXV0b1N5bmMiOnRydWUsInVwZGF0ZURpYWdyYW0iOmZhbHNlfQ)\n",
    "\n",
    "\n",
    "[![](https://mermaid.ink/img/eyJjb2RlIjoic2VxdWVuY2VEaWFncmFtIFxuICAgIHBhcnRpY2lwYW50IEEgYXMgQ2xpZW50XG4gICAgcGFydGljaXBhbnQgQiBhcyBTUEFSUUwgRW5kcG9pbnRcbiAgICBwYXJ0aWNpcGFudCBDIGFzIFRyaXBsZXN0b3JlXG4gICAgYWN0aXZhdGUgQVxuICAgIEEtPj5COiBwb3N0IFF1ZXJ5XG4gICAgYWN0aXZhdGUgQlxuICAgIGxvb3AgUXVlcnkgRXZhbHVhdGlvblxuICAgICAgICBhY3RpdmF0ZSBDXG4gICAgICAgIEItLT4-QzogXG4gICAgICAgIG5vdGUgcmlnaHQgb2YgQzogRmluZCBtYXRjaGluZyB0cmlwbGVzXG4gICAgICAgIEMtLT4-QjogXG4gICAgICAgIGRlYWN0aXZhdGUgQ1xuICAgIGVuZFxuICAgIEItLT4-QTogSlNPTi9YTUwgUmVzcG9uc2VcbiAgICBkZWFjdGl2YXRlIEJcbiAgICBBLS0-PkE6IHBvc3QtcHJvY2VzcyByZXN1bHRzXG4gICAgZGVhY3RpdmF0ZSBBIiwibWVybWFpZCI6eyJ0aGVtZSI6ImRlZmF1bHQifSwidXBkYXRlRWRpdG9yIjpmYWxzZSwiYXV0b1N5bmMiOnRydWUsInVwZGF0ZURpYWdyYW0iOmZhbHNlfQ)](https://mermaid.live/edit/#eyJjb2RlIjoic2VxdWVuY2VEaWFncmFtIFxuICAgIHBhcnRpY2lwYW50IEEgYXMgQ2xpZW50XG4gICAgcGFydGljaXBhbnQgQiBhcyBTUEFSUUwgRW5kcG9pbnRcbiAgICBwYXJ0aWNpcGFudCBDIGFzIFRyaXBsZXN0b3JlXG4gICAgYWN0aXZhdGUgQVxuICAgIEEtPj5COiBwb3N0IFF1ZXJ5XG4gICAgYWN0aXZhdGUgQlxuICAgIGxvb3AgUXVlcnkgRXZhbHVhdGlvblxuICAgICAgICBhY3RpdmF0ZSBDXG4gICAgICAgIEItLT4-QzogXG4gICAgICAgIG5vdGUgcmlnaHQgb2YgQzogRmluZCBtYXRjaGluZyB0cmlwbGVzXG4gICAgICAgIEMtLT4-QjogXG4gICAgICAgIGRlYWN0aXZhdGUgQ1xuICAgIGVuZFxuICAgIEItLT4-QTogSlNPTi9YTUwgUmVzcG9uc2VcbiAgICBkZWFjdGl2YXRlIEJcbiAgICBBLS0-PkE6IHBvc3QtcHJvY2VzcyByZXN1bHRzXG4gICAgZGVhY3RpdmF0ZSBBIiwibWVybWFpZCI6IntcbiAgXCJ0aGVtZVwiOiBcImRlZmF1bHRcIlxufSIsInVwZGF0ZUVkaXRvciI6ZmFsc2UsImF1dG9TeW5jIjp0cnVlLCJ1cGRhdGVEaWFncmFtIjpmYWxzZX0)"
   ]
  },
  {
   "cell_type": "markdown",
   "id": "f96ee23a-393c-4db4-84a0-f105a6abff19",
   "metadata": {},
   "source": [
    "## Example\n",
    "Query all __James Bond__ movies\n",
    "### Sending the Query as posts request"
   ]
  },
  {
   "cell_type": "code",
   "execution_count": null,
   "id": "ab671e10-7ce2-49db-bd68-bc72a2863952",
   "metadata": {},
   "outputs": [],
   "source": [
    "import requests\n",
    "\n",
    "url = \"https://query.wikidata.org/sparql\"\n",
    "query=\"\"\"#James Bond Movies\n",
    "SELECT ?item ?movieTitle (MIN(?date) AS ?firstReleased)\n",
    "WHERE {\n",
    "  ?item wdt:P179 wd:Q2484680;\n",
    "        rdfs:label ?movieTitle;\n",
    "        wdt:P577 ?date.\n",
    "  FILTER(lang(?movieTitle)=\"en\")\n",
    "} GROUP BY ?item ?movieTitle\n",
    "ORDER BY DESC(?firstReleased)\n",
    "LIMIT 3\n",
    "\"\"\"\n",
    "params={\n",
    "    \"query\":query,\n",
    "    \"format\":\"xml\" # or json\n",
    "}\n",
    "response = requests.request(\"POST\", url, params=params)\n",
    "\n",
    "print(response.text)"
   ]
  },
  {
   "cell_type": "markdown",
   "id": "db0ce56e-e304-429d-8916-48f2549efc1a",
   "metadata": {},
   "source": [
    "### Post-Process the Response"
   ]
  },
  {
   "cell_type": "code",
   "execution_count": null,
   "id": "46bd4824-da1f-4388-b332-fa80b6d783c7",
   "metadata": {},
   "outputs": [],
   "source": [
    "from xml.etree import ElementTree\n",
    "from tabulate import tabulate\n",
    "tree=ElementTree.fromstring(response.text)\n",
    "prefix_map={\"res\":\"http://www.w3.org/2005/sparql-results#\"}\n",
    "lod=[]\n",
    "for result in tree.findall(\".//res:results/res:result\", prefix_map):\n",
    "    record={}\n",
    "    for binding in result.findall(\"./res:binding\", prefix_map):\n",
    "        name=binding.attrib['name']\n",
    "        value=binding.find(\"./*\").text\n",
    "        record[name]=value\n",
    "    lod.append(record)\n",
    "\n",
    "# pretty print the list of dicts (LoD)\n",
    "print(tabulate(lod, headers=\"keys\"))"
   ]
  },
  {
   "cell_type": "markdown",
   "id": "c1ec969e-4f02-4776-af7b-7593932cd940",
   "metadata": {},
   "source": [
    "# SPARQL Libraries\n",
    "To simplify the querying process there existdifferent python libraries that take care of the post-processing of the result and directly return the result in  python types. Such Libraries are:\n",
    "\n",
    "|Library| Description|\n",
    "|---|---|\n",
    "|RDFify| SPARQL support for jupyter notebooks with the use of jupyter magicwords (based on SPARQLWrapper)|\n",
    "|SPARQLWrapper| |\n",
    "|pyLODStorage| supports vonversion of the results into other storage formats and provides a documentation of the executed query (based on SPARQLWrapper)|\n",
    "\n",
    "In the following the mentioned libraries are used to execute and printout the result of the following query:\n",
    "\n",
    "```sparql\n",
    "SELECT ?substance ?substanceLabel ?formula ?structure ?CAS\n",
    "WHERE { \n",
    "  ?substance wdt:P31 wd:Q11173.\n",
    "  ?substance wdt:P231 ?CAS.\n",
    "  ?substance wdt:P274 ?formula.\n",
    "  ?substance wdt:P117  ?structure.\n",
    "  SERVICE wikibase:label { bd:serviceParam wikibase:language \"[AUTO_LANGUAGE],en\". }\n",
    "}\n",
    "LIMIT 15\n",
    "```\n",
    "> see [pyLodStorage Random Substances with CAS number example](http://wiki.bitplan.com/index.php/PyLoDStorage#15_Random_substances_with_CAS_number)"
   ]
  },
  {
   "cell_type": "markdown",
   "id": "c48bd615-466a-448b-bd41-2fad25d12918",
   "metadata": {},
   "source": [
    "## RDFify\n",
    "### RDFify tool documentation"
   ]
  },
  {
   "cell_type": "code",
   "execution_count": null,
   "id": "e66ef771-3b18-4044-a388-6b4550998869",
   "metadata": {},
   "outputs": [],
   "source": [
    "%rdf turtle -h"
   ]
  },
  {
   "cell_type": "code",
   "execution_count": null,
   "id": "72554ecf-5c44-47a4-8abb-1544fc46b3ed",
   "metadata": {},
   "outputs": [],
   "source": [
    "%rdf sparql -h"
   ]
  },
  {
   "cell_type": "code",
   "execution_count": null,
   "id": "be83c462-28b4-40c6-9ccd-01203ec8ff44",
   "metadata": {},
   "outputs": [],
   "source": [
    "%rdf --help"
   ]
  },
  {
   "cell_type": "markdown",
   "id": "75e25571-ed7d-4c6f-8e0e-c772e4f405fb",
   "metadata": {},
   "source": [
    "### RDFify Example Usage"
   ]
  },
  {
   "cell_type": "code",
   "execution_count": null,
   "id": "00ed7c64-79b8-44e4-be26-8e67e6ee1167",
   "metadata": {},
   "outputs": [],
   "source": [
    "%%rdf sparql --endpoint https://query.wikidata.org/sparql -d table -f json -s substances\n",
    "SELECT ?substance ?substanceLabel ?formula ?structure ?CAS\n",
    "WHERE { \n",
    "  ?substance wdt:P31 wd:Q11173.\n",
    "  ?substance wdt:P231 ?CAS.\n",
    "  ?substance wdt:P274 ?formula.\n",
    "  ?substance wdt:P117  ?structure.\n",
    "  SERVICE wikibase:label { bd:serviceParam wikibase:language \"[AUTO_LANGUAGE],en\". }\n",
    "}\n",
    "LIMIT 15\n"
   ]
  },
  {
   "cell_type": "code",
   "execution_count": null,
   "id": "bcd94b23-3830-47d9-9bc4-bbd55986ade1",
   "metadata": {},
   "outputs": [],
   "source": [
    "store = %rdf -r\n",
    "g = store[\"rdfresults\"]\n",
    "print(g['substances']) # SPARQLWrapper QueryResult"
   ]
  },
  {
   "cell_type": "markdown",
   "id": "64823579-0726-42fd-a57a-b355c2ccdf67",
   "metadata": {
    "tags": []
   },
   "source": [
    "## [SPARQLWrapper](https://sparqlwrapper.readthedocs.io/en/latest/main.html)\n",
    "SPARQLWrapper result Format:\n",
    "* head\n",
    "  * vars (list of colimn names)\n",
    "* results\n",
    "  * bindings (list with all row values)\n",
    "    * <column name>\n",
    "       * type\n",
    "       * value\n",
    "    \n",
    "An SPARWLWrapper result can be converted to an list of dicts (LoD) with the following list comprehentions:\n",
    "```python\n",
    "lod=[{column:cell[\"value\"] for column, cell in row.items()} for row in results[\"results\"][\"bindings\"]] \n",
    "```"
   ]
  },
  {
   "cell_type": "code",
   "execution_count": null,
   "id": "30a95864-071e-4902-a3f9-6fb6bf0aa3e0",
   "metadata": {},
   "outputs": [],
   "source": [
    "from SPARQLWrapper import SPARQLWrapper, JSON, CSV\n",
    "from tabulate import tabulate\n",
    "from IPython.display import Image, SVG\n",
    "# List of Dicts (LoD) \n",
    "\n",
    "q = \"\"\"\n",
    "PREFIX wdt: <http://www.wikidata.org/prop/direct/>\n",
    "PREFIX wd: <http://www.wikidata.org/entity/>\n",
    "SELECT ?substance ?substanceLabel ?formula ?structure ?CAS\n",
    "WHERE { \n",
    "  ?substance wdt:P31 wd:Q11173.\n",
    "  ?substance wdt:P231 ?CAS.\n",
    "  ?substance wdt:P274 ?formula.\n",
    "  ?substance wdt:P117  ?structure.\n",
    "}\n",
    "LIMIT 15\n",
    "\"\"\"\n",
    "\n",
    "sparql = SPARQLWrapper(\"https://qlever.cs.uni-freiburg.de/api/wikidata\")\n",
    "sparql.setQuery(q)\n",
    "sparql.setReturnFormat(JSON)\n",
    "results = sparql.query().convert()\n",
    "print(results)\n",
    "# print raw results\n",
    "#print(results)\n",
    "lod=[{column:cell[\"value\"] for column, cell in row.items()} for row in results[\"results\"][\"bindings\"]]\n",
    "print(tabulate(lod, headers=\"keys\"))\n"
   ]
  },
  {
   "cell_type": "markdown",
   "id": "12943b37-5ef4-42e2-8e67-8b400ac96890",
   "metadata": {},
   "source": [
    "## pyLODStorage\n",
    "\n",
    "pyLODStorage directly converts the query result into an list of dicts (LoD) and also provides methods to store the LoD in different formats such as JSON, SQL and CSV.\n",
    "This library also supports the use of named queries which alow to store metadata of the query such as a name, title, description and language.\n",
    "\n",
    "An additional advantage is that it provides a pretty print of the query and result in the jupyter environment. "
   ]
  },
  {
   "cell_type": "code",
   "execution_count": null,
   "id": "a1fccd73-57b7-408f-bf59-71869ca3dd72",
   "metadata": {
    "tags": []
   },
   "outputs": [],
   "source": [
    "from IPython.display import display, Markdown\n",
    "from lodstorage.query import QueryManager, Query\n",
    "from lodstorage.sparql import SPARQL\n",
    "import copy\n",
    "\n",
    "endpoint=SPARQL(\"https://query.wikidata.org/sparql\")\n",
    "\n",
    "queryStr=\"\"\"# List of 15 random chemical components with CAS-Number, formula and structure\n",
    "# see also https://github.com/WolfgangFahl/pyLoDStorage/issues/46\n",
    "# WF 2021-08-23\n",
    "SELECT ?substance ?substanceLabel ?formula ?structure ?CAS\n",
    "WHERE { \n",
    "?substance wdt:P31 wd:Q11173.\n",
    "?substance wdt:P231 ?CAS.\n",
    "?substance wdt:P274 ?formula.\n",
    "?substance wdt:P117  ?structure.\n",
    "SERVICE wikibase:label { bd:serviceParam wikibase:language \"[AUTO_LANGUAGE],en\". }\n",
    "}\n",
    "LIMIT 15\n",
    "\"\"\"\n",
    "query=Query(\n",
    "    query=queryStr, \n",
    "    name=\"CAS15\", \n",
    "    title=\"15 Random substances with CAS number\", \n",
    "    lang=\"sparql\",\n",
    "    description=\"Wikidata SPARQL query showing the 15 random chemical substances with their CAS Number\"\n",
    ")\n",
    "try:\n",
    "    qlod=endpoint.queryAsListOfDicts(query.query)\n",
    "    lod=copy.deepcopy(qlod)\n",
    "    \n",
    "    # pretty print the query and its result\n",
    "    doc=query.documentQueryResult(lod, tablefmt=\"github\",floatfmt=\".0f\",tryItUrl=\"https://query.wikidata.org\")\n",
    "    display(Markdown(str(doc)))\n",
    "except Exception as ex:\n",
    "            print(f\"{query.title} at {endpoint.sparql.endpoint} failed: {ex}\")"
   ]
  },
  {
   "cell_type": "code",
   "execution_count": null,
   "id": "454f82bd-86a8-4f75-8e6d-297578784041",
   "metadata": {},
   "outputs": [],
   "source": []
  }
 ],
 "metadata": {
  "kernelspec": {
   "display_name": "Python 3 (ipykernel)",
   "language": "python",
   "name": "python3"
  },
  "language_info": {
   "codemirror_mode": {
    "name": "ipython",
    "version": 3
   },
   "file_extension": ".py",
   "mimetype": "text/x-python",
   "name": "python",
   "nbconvert_exporter": "python",
   "pygments_lexer": "ipython3",
   "version": "3.9.13"
  }
 },
 "nbformat": 4,
 "nbformat_minor": 5
}
