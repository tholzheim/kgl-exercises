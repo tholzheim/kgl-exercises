{
 "cells": [
  {
   "cell_type": "markdown",
   "id": "e7a4eb9e-88a3-4fba-9bca-9aca5ac3a3a9",
   "metadata": {
    "tags": []
   },
   "source": [
    "# Install dependencies"
   ]
  },
  {
   "cell_type": "code",
   "execution_count": 6,
   "id": "e0cdd353-cb1c-4d33-8d81-16a989a34dd3",
   "metadata": {},
   "outputs": [
    {
     "name": "stdout",
     "output_type": "stream",
     "text": [
      "jupyter-xml found\n"
     ]
    },
    {
     "data": {
      "application/javascript": [
       "\n",
       "    if (typeof IPython !== \"undefined\") {\n",
       "        IPython.CodeCell.options_default.highlight_modes['application/xml'] = {'reg':[/^%%xml/]};\n",
       "        IPython.notebook.get_cells().map(function(cell){ if (cell.cell_type == 'code'){ cell.auto_highlight(); } });\n",
       "    }\n",
       "    "
      ]
     },
     "metadata": {},
     "output_type": "display_data"
    },
    {
     "name": "stdout",
     "output_type": "stream",
     "text": [
      "jupyter-rdfify found\n"
     ]
    },
    {
     "data": {
      "application/javascript": [
       "\n",
       "    if (typeof IPython !== \"undefined\") {\n",
       "        IPython.CodeCell.options_default.highlight_modes['application/sparql-query'] = {'reg':[/^%%rdf sparql/]};\n",
       "        IPython.CodeCell.options_default.highlight_modes['text/turtle'] = {'reg':[/^%%rdf turtle/, /^%%rdf shex/]};\n",
       "        IPython.CodeCell.options_default.highlight_modes['application/ld+json'] = {'reg':[/^%%rdf json-ld/]};\n",
       "        IPython.notebook.get_cells().map(function(cell){ if (cell.cell_type == 'code'){ cell.auto_highlight(); } });\n",
       "    }\n",
       "    "
      ]
     },
     "metadata": {},
     "output_type": "display_data"
    },
    {
     "name": "stdout",
     "output_type": "stream",
     "text": [
      "SPARQLWrapper found\n",
      "tabulate found\n",
      "pylodstorage found\n"
     ]
    }
   ],
   "source": [
    "import sys\n",
    "def installModule(projectName:str, moduleName:str=None):\n",
    "    '''Installs and loads the given module if not already installed'''\n",
    "    if moduleName is None:\n",
    "        moduleName=projectName\n",
    "    if moduleName not in sys.modules:\n",
    "        !python -m pip install --no-input $projectName\n",
    "        print(f'{projectName} installed')\n",
    "    else:\n",
    "        print(f'{projectName} found')\n",
    "    %reload_ext $moduleName\n",
    "\n",
    "installModule('jupyter-xml')\n",
    "installModule('jupyter-rdfify')\n",
    "installModule('SPARQLWrapper')\n",
    "installModule('tabulate')\n",
    "installModule(\"pylodstorage\", \"lodstorage\")"
   ]
  },
  {
   "cell_type": "markdown",
   "id": "c48bd615-466a-448b-bd41-2fad25d12918",
   "metadata": {},
   "source": [
    "# RDFify tool documentation"
   ]
  },
  {
   "cell_type": "code",
   "execution_count": 3,
   "id": "e66ef771-3b18-4044-a388-6b4550998869",
   "metadata": {},
   "outputs": [
    {
     "name": "stdout",
     "output_type": "stream",
     "text": [
      "usage: %rdf turtle [-h] [--serialize SERIALIZE]\n",
      "                   [--display {graph,table,raw,none}] [--label LABEL]\n",
      "                   [--prefix] [--entail {none,rdfs,owl,rdfs+owl}]\n",
      "\n",
      "optional arguments:\n",
      "  -h, --help            show this help message and exit\n",
      "  --serialize SERIALIZE, -s SERIALIZE\n",
      "                        Format for serializing when display is set to raw.\n",
      "  --display {graph,table,raw,none}, -d {graph,table,raw,none}\n",
      "                        How output is displayed\n",
      "  --label LABEL, -l LABEL\n",
      "                        Store graph locally with this label\n",
      "  --prefix, -p          Define a prefix which gets prepend to every query.\n",
      "                        Useful for PREFIX declarations\n",
      "  --entail {none,rdfs,owl,rdfs+owl}, -e {none,rdfs,owl,rdfs+owl}\n",
      "                        Uses a brute force implementation of the finite\n",
      "                        version of RDFS semantics or OWL 2 RL. Uses owlrl\n",
      "                        python package.\n"
     ]
    }
   ],
   "source": [
    "%rdf turtle -h"
   ]
  },
  {
   "cell_type": "code",
   "execution_count": null,
   "id": "72554ecf-5c44-47a4-8abb-1544fc46b3ed",
   "metadata": {},
   "outputs": [],
   "source": [
    "%rdf sparql -h"
   ]
  },
  {
   "cell_type": "code",
   "execution_count": null,
   "id": "be83c462-28b4-40c6-9ccd-01203ec8ff44",
   "metadata": {},
   "outputs": [],
   "source": [
    "%rdf --help"
   ]
  },
  {
   "cell_type": "markdown",
   "id": "75e25571-ed7d-4c6f-8e0e-c772e4f405fb",
   "metadata": {},
   "source": [
    "# RDFify"
   ]
  },
  {
   "cell_type": "markdown",
   "id": "2f1b4130-06f1-48c3-ab51-95e23be2942d",
   "metadata": {},
   "source": [
    "<div class=\"alert alert-block alert-info\">\n",
    "<b>Note:</b> For remote SPARQL endpoints the different display formats such as table or graph are no working. Only the display format raw functions as expected.\n",
    "</div>"
   ]
  },
  {
   "cell_type": "code",
   "execution_count": 17,
   "id": "00ed7c64-79b8-44e4-be26-8e67e6ee1167",
   "metadata": {},
   "outputs": [
    {
     "name": "stdout",
     "output_type": "stream",
     "text": [
      "SPARQL endpoint set to 'https://query.wikidata.org/sparql'.\n",
      "SPARQL format set to 'xml'.\n",
      "SPARQL display format set to 'table'.\n",
      "Error during query:\n",
      "'str' object has no attribute 'print'\n"
     ]
    }
   ],
   "source": [
    "%%rdf sparql --endpoint https://query.wikidata.org/sparql -d raw -f xml -s substances\n",
    "SELECT ?substance ?substanceLabel ?formula ?structure ?CAS\n",
    "WHERE { \n",
    "  ?substance wdt:P31 wd:Q11173.\n",
    "  ?substance wdt:P231 ?CAS.\n",
    "  ?substance wdt:P274 ?formula.\n",
    "  ?substance wdt:P117  ?structure.\n",
    "  SERVICE wikibase:label { bd:serviceParam wikibase:language \"[AUTO_LANGUAGE],en\". }\n",
    "}\n",
    "LIMIT 15\n"
   ]
  },
  {
   "cell_type": "code",
   "execution_count": 15,
   "id": "bcd94b23-3830-47d9-9bc4-bbd55986ade1",
   "metadata": {},
   "outputs": [
    {
     "name": "stdout",
     "output_type": "stream",
     "text": [
      "Error: unrecognized arguments: -r\n"
     ]
    }
   ],
   "source": [
    "store = %rdf -r\n",
    "g = store[\"rdfresults\"]\n"
   ]
  },
  {
   "cell_type": "markdown",
   "id": "171eedfd-cb66-4634-bc28-8d1c185ee6ac",
   "metadata": {},
   "source": [
    "<div class=\"alert alert-block alert-info\">\n",
    "<b>Note:</b> To get the query result the magic word `%rdf -r` must be used. The command is currently not working neither in the local install of RDFify or in the DBIS profile of the RWTH Jupyter Hub\n",
    "</div>"
   ]
  },
  {
   "cell_type": "markdown",
   "id": "64823579-0726-42fd-a57a-b355c2ccdf67",
   "metadata": {
    "tags": []
   },
   "source": [
    "# SPARQLWrapper"
   ]
  },
  {
   "cell_type": "code",
   "execution_count": 19,
   "id": "30a95864-071e-4902-a3f9-6fb6bf0aa3e0",
   "metadata": {},
   "outputs": [
    {
     "name": "stdout",
     "output_type": "stream",
     "text": [
      "--------------------------------------  ------------------------------------------------------------------------------------------------------  -----------  ----------------  ------------------------------\n",
      "http://www.wikidata.org/entity/Q402607  http://commons.wikimedia.org/wiki/Special:FilePath/Tyrosol.png                                          501-94-0     C₈H₁₀O₂           tyrosol\n",
      "http://www.wikidata.org/entity/Q408646  http://commons.wikimedia.org/wiki/Special:FilePath/Triclosan.svg                                        3380-34-5    C₁₂H₇Cl₃O₂        triclosan\n",
      "http://www.wikidata.org/entity/Q408762  http://commons.wikimedia.org/wiki/Special:FilePath/Tetramethylphenylendiamine.svg                       100-22-1     C₁₀H₁₆N₂          tetramethyl-p-phenylenediamine\n",
      "http://www.wikidata.org/entity/Q409028  http://commons.wikimedia.org/wiki/Special:FilePath/Sulfur%20dichloride.svg                              10545-99-0   Cl₂S              sulfur dichloride\n",
      "http://www.wikidata.org/entity/Q410431  http://commons.wikimedia.org/wiki/Special:FilePath/Structural%20formula%20of%20methyl%20isocyanate.svg  624-83-9     C₂H₃NO            methyl isocyanate\n",
      "http://www.wikidata.org/entity/Q410556  http://commons.wikimedia.org/wiki/Special:FilePath/Sulprostone.png                                      60325-46-4   C₂₃H₃₁NO₇S        sulprostone\n",
      "http://www.wikidata.org/entity/Q410698  http://commons.wikimedia.org/wiki/Special:FilePath/Veratrylalkohol.svg                                  93-03-8      C₉H₁₂O₃           dimethoxybenzyl alcohol\n",
      "http://www.wikidata.org/entity/Q411046  http://commons.wikimedia.org/wiki/Special:FilePath/Thiomersal%20Structural%20Formulae.svg               54-64-8      C₉H₉HgNaO₂S       Thiomersal\n",
      "http://www.wikidata.org/entity/Q411169  http://commons.wikimedia.org/wiki/Special:FilePath/Xenon-trioxide-2D.png                                13776-58-4   XeO₃              xenon trioxide\n",
      "http://www.wikidata.org/entity/Q411535  http://commons.wikimedia.org/wiki/Special:FilePath/Thioindigo.svg                                       522-75-8     C₁₆H₈O₂S₂         Thioindigo\n",
      "http://www.wikidata.org/entity/Q411648  http://commons.wikimedia.org/wiki/Special:FilePath/Tacrolimus-2D-skeletal.png                           104987-11-3  C₄₄H₆₉NO₁₂        tacrolimus\n",
      "http://www.wikidata.org/entity/Q411781  http://commons.wikimedia.org/wiki/Special:FilePath/Teriparatide.png                                     52232-67-4   C₁₈₁H₂₉₁N₅₅O₅₁S₂  Teriparatide\n",
      "http://www.wikidata.org/entity/Q413135  http://commons.wikimedia.org/wiki/Special:FilePath/Tetramethyltin.svg                                   594-27-4     C₄H₁₂Sn           tetramethyltin\n",
      "http://www.wikidata.org/entity/Q413262  http://commons.wikimedia.org/wiki/Special:FilePath/Styrene%20oxide.svg                                  96-09-3      C₈H₈O             styrene oxide\n",
      "http://www.wikidata.org/entity/Q413426  http://commons.wikimedia.org/wiki/Special:FilePath/Thiazol.svg                                          288-47-1     C₃H₃NS            1,3-thiazole\n",
      "--------------------------------------  ------------------------------------------------------------------------------------------------------  -----------  ----------------  ------------------------------\n"
     ]
    }
   ],
   "source": [
    "from SPARQLWrapper import SPARQLWrapper, JSON, CSV\n",
    "from tabulate import tabulate\n",
    "from IPython.display import Image, SVG\n",
    "\n",
    "q = \"\"\"\n",
    "SELECT ?substance ?substanceLabel ?formula ?structure ?CAS\n",
    "WHERE { \n",
    "  ?substance wdt:P31 wd:Q11173.\n",
    "  ?substance wdt:P231 ?CAS.\n",
    "  ?substance wdt:P274 ?formula.\n",
    "  ?substance wdt:P117  ?structure.\n",
    "  SERVICE wikibase:label { bd:serviceParam wikibase:language \"[AUTO_LANGUAGE],en\". }\n",
    "}\n",
    "LIMIT 15\n",
    "\n",
    "\"\"\"\n",
    "\n",
    "sparql = SPARQLWrapper(\"http://query.wikidata.org/sparql\")\n",
    "sparql.setQuery(q)\n",
    "sparql.setReturnFormat(JSON)\n",
    "results = sparql.query().convert()\n",
    "table = [[result[column][\"value\"] for column in result] for result in results[\"results\"][\"bindings\"]]\n",
    "print(tabulate(table))\n",
    "# uncomment to display images\n",
    "#for imageName in [row[1] for row in table]:\n",
    "#        display(Image(url=imageName, width = 200, height = 200))\n",
    "\n"
   ]
  },
  {
   "cell_type": "markdown",
   "id": "12943b37-5ef4-42e2-8e67-8b400ac96890",
   "metadata": {},
   "source": [
    "# pyLODStorage"
   ]
  },
  {
   "cell_type": "code",
   "execution_count": 8,
   "id": "a1fccd73-57b7-408f-bf59-71869ca3dd72",
   "metadata": {},
   "outputs": [
    {
     "data": {
      "text/markdown": [
       "## 15 Random substances with CAS number\n",
       "Wikidata SPARQL query showing the 15 random chemical substances with their CAS Number\n",
       "### query\n",
       "```sql\n",
       "# List of 15 random chemical components with CAS-Number, formula and structure\n",
       "# see also https://github.com/WolfgangFahl/pyLoDStorage/issues/46\n",
       "# WF 2021-08-23\n",
       "SELECT ?substance ?substanceLabel ?formula ?structure ?CAS\n",
       "WHERE { \n",
       "?substance wdt:P31 wd:Q11173.\n",
       "?substance wdt:P231 ?CAS.\n",
       "?substance wdt:P274 ?formula.\n",
       "?substance wdt:P117  ?structure.\n",
       "SERVICE wikibase:label { bd:serviceParam wikibase:language \"[AUTO_LANGUAGE],en\". }\n",
       "}\n",
       "LIMIT 15\n",
       "\n",
       "```\n",
       "[try it!](https://query.wikidata.org/#%23%20List%20of%2015%20random%20chemical%20components%20with%20CAS-Number%2C%20formula%20and%20structure%0A%23%20see%20also%20https%3A//github.com/WolfgangFahl/pyLoDStorage/issues/46%0A%23%20WF%202021-08-23%0ASELECT%20%3Fsubstance%20%3FsubstanceLabel%20%3Fformula%20%3Fstructure%20%3FCAS%0AWHERE%20%7B%20%0A%3Fsubstance%20wdt%3AP31%20wd%3AQ11173.%0A%3Fsubstance%20wdt%3AP231%20%3FCAS.%0A%3Fsubstance%20wdt%3AP274%20%3Fformula.%0A%3Fsubstance%20wdt%3AP117%20%20%3Fstructure.%0ASERVICE%20wikibase%3Alabel%20%7B%20bd%3AserviceParam%20wikibase%3Alanguage%20%22%5BAUTO_LANGUAGE%5D%2Cen%22.%20%7D%0A%7D%0ALIMIT%2015%0A)\n",
       "## result\n",
       "| substance                                         | substanceLabel    | formula        | structure                                                                                                                                             | CAS         |\n",
       "|---------------------------------------------------|-------------------|----------------|-------------------------------------------------------------------------------------------------------------------------------------------------------|-------------|\n",
       "| [Q407258](http://www.wikidata.org/entity/Q407258) | calcium sulfate   | CaO₄S          | [Calcium sulfate.svg](http://commons.wikimedia.org/wiki/Special:FilePath/Calcium%20sulfate.svg)                                                       | 7778-18-9   |\n",
       "| [Q407258](http://www.wikidata.org/entity/Q407258) | calcium sulfate   | CaSO₄          | [Calcium sulfate.svg](http://commons.wikimedia.org/wiki/Special:FilePath/Calcium%20sulfate.svg)                                                       | 7778-18-9   |\n",
       "| [Q408050](http://www.wikidata.org/entity/Q408050) | dimethyl ether    | C₂H₆O          | [Dimethyl ether Structural Formulae.svg](http://commons.wikimedia.org/wiki/Special:FilePath/Dimethyl%20ether%20Structural%20Formulae.svg)             | 115-10-6    |\n",
       "| [Q408099](http://www.wikidata.org/entity/Q408099) | brivaracetam      | C₁₁H₂₀N₂O₂     | [Brivaracetam.svg](http://commons.wikimedia.org/wiki/Special:FilePath/Brivaracetam.svg)                                                               | 357336-20-0 |\n",
       "| [Q408370](http://www.wikidata.org/entity/Q408370) | dihydralazine     | C₈H₁₀N₆        | [Dihydralazine structure.svg](http://commons.wikimedia.org/wiki/Special:FilePath/Dihydralazine%20structure.svg)                                       | 484-23-1    |\n",
       "| [Q408400](http://www.wikidata.org/entity/Q408400) | florfenicol       | C₁₂H₁₄Cl₂FNO₄S | [Florfenicol.png](http://commons.wikimedia.org/wiki/Special:FilePath/Florfenicol.png)                                                                 | 73231-34-2  |\n",
       "| [Q408529](http://www.wikidata.org/entity/Q408529) | amikacin          | C₂₂H₄₃N₅O₁₃    | [Amikacin.svg](http://commons.wikimedia.org/wiki/Special:FilePath/Amikacin.svg)                                                                       | 37517-28-5  |\n",
       "| [Q408718](http://www.wikidata.org/entity/Q408718) | cyclopropanone    | C₃H₄O          | [Cyclopropanone.png](http://commons.wikimedia.org/wiki/Special:FilePath/Cyclopropanone.png)                                                           | 5009-27-8   |\n",
       "| [Q408718](http://www.wikidata.org/entity/Q408718) | cyclopropanone    | C₃H₄O          | [Cyclopropanone Structural Formula V1.svg](http://commons.wikimedia.org/wiki/Special:FilePath/Cyclopropanone%20Structural%20Formula%20V1.svg)         | 5009-27-8   |\n",
       "| [Q409057](http://www.wikidata.org/entity/Q409057) | aluminum fluoride | AlF₃           | [Aluminium-trifluoride-monomer-2D-dimensions.png](http://commons.wikimedia.org/wiki/Special:FilePath/Aluminium-trifluoride-monomer-2D-dimensions.png) | 7784-18-1   |\n",
       "| [Q409133](http://www.wikidata.org/entity/Q409133) | chloroethane      | C₂H₅Cl         | [Chloroethane-2D.svg](http://commons.wikimedia.org/wiki/Special:FilePath/Chloroethane-2D.svg)                                                         | 75-00-3     |\n",
       "| [Q409133](http://www.wikidata.org/entity/Q409133) | chloroethane      | C₂H₅Cl         | [Chloroethane-skeletal.svg](http://commons.wikimedia.org/wiki/Special:FilePath/Chloroethane-skeletal.svg)                                             | 75-00-3     |\n",
       "| [Q409133](http://www.wikidata.org/entity/Q409133) | chloroethane      | C₂H₅Cl         | [Chloroethane FormulaV1.svg](http://commons.wikimedia.org/wiki/Special:FilePath/Chloroethane%20FormulaV1.svg)                                         | 75-00-3     |\n",
       "| [Q409375](http://www.wikidata.org/entity/Q409375) | monochloramine    | ClH₂N          | [Chloramine-2D.png](http://commons.wikimedia.org/wiki/Special:FilePath/Chloramine-2D.png)                                                             | 10599-90-3  |\n",
       "| [Q409618](http://www.wikidata.org/entity/Q409618) | dihydroxyacetone  | C₃H₆O₃         | [Dihydroxyacetone acsv.svg](http://commons.wikimedia.org/wiki/Special:FilePath/Dihydroxyacetone%20acsv.svg)                                           | 96-26-4     |"
      ],
      "text/plain": [
       "<IPython.core.display.Markdown object>"
      ]
     },
     "metadata": {},
     "output_type": "display_data"
    }
   ],
   "source": [
    "from IPython.display import display, Markdown\n",
    "from lodstorage.query import QueryManager, Query\n",
    "from lodstorage.sparql import SPARQL\n",
    "import copy\n",
    "show=True\n",
    "queryRecord={\n",
    "    \"endpoint\":\"https://query.wikidata.org/sparql\",\n",
    "    \"prefixes\": [\"http://www.wikidata.org/entity/\",\"http://commons.wikimedia.org/wiki/Special:FilePath/\"],\n",
    "    \"lang\": \"sparql\",\n",
    "    \"name\": \"CAS15\",\n",
    "    \"title\": \"15 Random substances with CAS number\",\n",
    "    \"description\": \"Wikidata SPARQL query showing the 15 random chemical substances with their CAS Number\",\n",
    "    \"query\": \"\"\"# List of 15 random chemical components with CAS-Number, formula and structure\n",
    "# see also https://github.com/WolfgangFahl/pyLoDStorage/issues/46\n",
    "# WF 2021-08-23\n",
    "SELECT ?substance ?substanceLabel ?formula ?structure ?CAS\n",
    "WHERE { \n",
    "?substance wdt:P31 wd:Q11173.\n",
    "?substance wdt:P231 ?CAS.\n",
    "?substance wdt:P274 ?formula.\n",
    "?substance wdt:P117  ?structure.\n",
    "SERVICE wikibase:label { bd:serviceParam wikibase:language \"[AUTO_LANGUAGE],en\". }\n",
    "}\n",
    "LIMIT 15\n",
    "\"\"\"\n",
    "    }\n",
    "endpointUrl=queryRecord.pop(\"endpoint\")\n",
    "prefixes=queryRecord.pop(\"prefixes\")\n",
    "endpoint=SPARQL(endpointUrl)\n",
    "query=Query(**queryRecord)\n",
    "try:\n",
    "    qlod=endpoint.queryAsListOfDicts(query.query)\n",
    "    lod=copy.deepcopy(qlod)\n",
    "    tablefmt=\"github\"\n",
    "    for prefix in prefixes:\n",
    "        query.prefixToLink(lod,prefix,tablefmt)\n",
    "    tryItUrl=query.getTryItUrl(endpointUrl.replace(\"/sparql\",\"\"))\n",
    "    doc=query.documentQueryResult(lod, tablefmt=tablefmt,floatfmt=\".0f\",tryItUrl=tryItUrl)\n",
    "    display(Markdown(str(doc)))\n",
    "except Exception as ex:\n",
    "            print(f\"{query.title} at {endpointUrl} failed: {ex}\")"
   ]
  },
  {
   "cell_type": "code",
   "execution_count": null,
   "id": "454f82bd-86a8-4f75-8e6d-297578784041",
   "metadata": {},
   "outputs": [],
   "source": []
  }
 ],
 "metadata": {
  "kernelspec": {
   "display_name": "Python 3",
   "language": "python",
   "name": "python3"
  },
  "language_info": {
   "codemirror_mode": {
    "name": "ipython",
    "version": 3
   },
   "file_extension": ".py",
   "mimetype": "text/x-python",
   "name": "python",
   "nbconvert_exporter": "python",
   "pygments_lexer": "ipython3",
   "version": "3.7.11"
  }
 },
 "nbformat": 4,
 "nbformat_minor": 5
}
