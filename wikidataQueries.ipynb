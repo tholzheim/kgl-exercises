{
 "cells": [
  {
   "cell_type": "markdown",
   "id": "22855175-508a-4e48-82b8-2915c1d96f43",
   "metadata": {},
   "source": [
    "# Prerequisites\n",
    "Please run the prerequiste cells before trying the examples."
   ]
  },
  {
   "cell_type": "markdown",
   "id": "d818ccaa-3f74-4a8a-b96a-1bc44358d782",
   "metadata": {},
   "source": [
    "## Install python module dependencies"
   ]
  },
  {
   "cell_type": "code",
   "execution_count": null,
   "id": "e0cdd353-cb1c-4d33-8d81-16a989a34dd3",
   "metadata": {
    "pycharm": {
     "is_executing": true
    }
   },
   "outputs": [],
   "source": [
    "import sys\n",
    "def installModule(projectName:str, moduleName:str=None):\n",
    "    '''Installs and loads the given module if not already installed'''\n",
    "    if moduleName is None:\n",
    "        moduleName=projectName\n",
    "    !python -m pip install -U --no-input $projectName\n",
    "    print(f'{projectName} installed')\n",
    "    %reload_ext $moduleName\n",
    "\n",
    "installModule('jupyter-xml')\n",
    "installModule('jupyter-rdfify==1.0.1','jupyter-rdfify')\n",
    "installModule('SPARQLWrapper')\n",
    "installModule('tabulate')\n",
    "installModule(\"pylodstorage\", \"lodstorage\")"
   ]
  },
  {
   "cell_type": "markdown",
   "id": "cc1df203-bcfa-44a8-a422-374a490c21b7",
   "metadata": {},
   "source": [
    "# Querying wikidata\n",
    "[wikidata](https://www.wikidata.org/wiki/Wikidata:Main_Page) provides an [SPARQL endpoint](https://query.wikidata.org/) for querying their triplestore. \n",
    "\n",
    "To get a response from the endpoint the query is sent as post request and returns the results in __json__ or __xml__ format.\n",
    "\n",
    "The result is then post-processed into a more usable format. Depending on the post-processing the results are converted into python types and this step can also include a merging of results. For example if a proeprty has multiple values and all match the query each value will result in its own row (For more details in the result reduction see [SPARQL Transformer](https://www.eurecom.fr/en/publication/5927/download/data-publi-5927.pdf)).\n",
    "\n",
    "[![](https://mermaid.ink/img/eyJjb2RlIjoiZmxvd2NoYXJ0IExSXG4gICAgQShRdWVyeSkgLS0-fHBvc3QgcmVxdWVzdHwgQihldmFsdWF0ZSBRdWVyeSlcbiAgICBCIC0tPnxyZXNwb25zZXwgQyhKU09OIFJlc3BvbnNlKVxuICAgIEMgLS0-fHBvc3QgcHJvY2Vzc3wgRChcIkxpc3Qgb2YgRGljdHMgKExvRClcIikiLCJtZXJtYWlkIjp7InRoZW1lIjoiZGVmYXVsdCJ9LCJ1cGRhdGVFZGl0b3IiOmZhbHNlLCJhdXRvU3luYyI6dHJ1ZSwidXBkYXRlRGlhZ3JhbSI6ZmFsc2V9)](https://mermaid.live/edit/#eyJjb2RlIjoiZmxvd2NoYXJ0IExSXG4gICAgQShRdWVyeSkgLS0-fHBvc3QgcmVxdWVzdHwgQihldmFsdWF0ZSBRdWVyeSlcbiAgICBCIC0tPnxyZXNwb25zZXwgQyhKU09OIFJlc3BvbnNlKVxuICAgIEMgLS0-fHBvc3QgcHJvY2Vzc3wgRChcIkxpc3Qgb2YgRGljdHMgKExvRClcIikiLCJtZXJtYWlkIjoie1xuICBcInRoZW1lXCI6IFwiZGVmYXVsdFwiXG59IiwidXBkYXRlRWRpdG9yIjpmYWxzZSwiYXV0b1N5bmMiOnRydWUsInVwZGF0ZURpYWdyYW0iOmZhbHNlfQ)\n",
    "\n",
    "\n",
    "[![](https://mermaid.ink/img/eyJjb2RlIjoic2VxdWVuY2VEaWFncmFtIFxuICAgIHBhcnRpY2lwYW50IEEgYXMgQ2xpZW50XG4gICAgcGFydGljaXBhbnQgQiBhcyBTUEFSUUwgRW5kcG9pbnRcbiAgICBwYXJ0aWNpcGFudCBDIGFzIFRyaXBsZXN0b3JlXG4gICAgYWN0aXZhdGUgQVxuICAgIEEtPj5COiBwb3N0IFF1ZXJ5XG4gICAgYWN0aXZhdGUgQlxuICAgIGxvb3AgUXVlcnkgRXZhbHVhdGlvblxuICAgICAgICBhY3RpdmF0ZSBDXG4gICAgICAgIEItLT4-QzogXG4gICAgICAgIG5vdGUgcmlnaHQgb2YgQzogRmluZCBtYXRjaGluZyB0cmlwbGVzXG4gICAgICAgIEMtLT4-QjogXG4gICAgICAgIGRlYWN0aXZhdGUgQ1xuICAgIGVuZFxuICAgIEItLT4-QTogSlNPTi9YTUwgUmVzcG9uc2VcbiAgICBkZWFjdGl2YXRlIEJcbiAgICBBLS0-PkE6IHBvc3QtcHJvY2VzcyByZXN1bHRzXG4gICAgZGVhY3RpdmF0ZSBBIiwibWVybWFpZCI6eyJ0aGVtZSI6ImRlZmF1bHQifSwidXBkYXRlRWRpdG9yIjpmYWxzZSwiYXV0b1N5bmMiOnRydWUsInVwZGF0ZURpYWdyYW0iOmZhbHNlfQ)](https://mermaid.live/edit/#eyJjb2RlIjoic2VxdWVuY2VEaWFncmFtIFxuICAgIHBhcnRpY2lwYW50IEEgYXMgQ2xpZW50XG4gICAgcGFydGljaXBhbnQgQiBhcyBTUEFSUUwgRW5kcG9pbnRcbiAgICBwYXJ0aWNpcGFudCBDIGFzIFRyaXBsZXN0b3JlXG4gICAgYWN0aXZhdGUgQVxuICAgIEEtPj5COiBwb3N0IFF1ZXJ5XG4gICAgYWN0aXZhdGUgQlxuICAgIGxvb3AgUXVlcnkgRXZhbHVhdGlvblxuICAgICAgICBhY3RpdmF0ZSBDXG4gICAgICAgIEItLT4-QzogXG4gICAgICAgIG5vdGUgcmlnaHQgb2YgQzogRmluZCBtYXRjaGluZyB0cmlwbGVzXG4gICAgICAgIEMtLT4-QjogXG4gICAgICAgIGRlYWN0aXZhdGUgQ1xuICAgIGVuZFxuICAgIEItLT4-QTogSlNPTi9YTUwgUmVzcG9uc2VcbiAgICBkZWFjdGl2YXRlIEJcbiAgICBBLS0-PkE6IHBvc3QtcHJvY2VzcyByZXN1bHRzXG4gICAgZGVhY3RpdmF0ZSBBIiwibWVybWFpZCI6IntcbiAgXCJ0aGVtZVwiOiBcImRlZmF1bHRcIlxufSIsInVwZGF0ZUVkaXRvciI6ZmFsc2UsImF1dG9TeW5jIjp0cnVlLCJ1cGRhdGVEaWFncmFtIjpmYWxzZX0)"
   ]
  },
  {
   "cell_type": "markdown",
   "id": "f96ee23a-393c-4db4-84a0-f105a6abff19",
   "metadata": {},
   "source": [
    "## Example\n",
    "Query all __James Bond__ movies\n",
    "### Sending the Query as posts request"
   ]
  },
  {
   "cell_type": "code",
   "execution_count": 2,
   "id": "ab671e10-7ce2-49db-bd68-bc72a2863952",
   "metadata": {},
   "outputs": [
    {
     "name": "stdout",
     "output_type": "stream",
     "text": [
      "<?xml version='1.0' encoding='UTF-8'?>\n",
      "<sparql xmlns='http://www.w3.org/2005/sparql-results#'>\n",
      "\t<head>\n",
      "\t\t<variable name='item'/>\n",
      "\t\t<variable name='movieTitle'/>\n",
      "\t\t<variable name='firstReleased'/>\n",
      "\t</head>\n",
      "\t<results>\n",
      "\t\t<result>\n",
      "\t\t\t<binding name='item'>\n",
      "\t\t\t\t<uri>http://www.wikidata.org/entity/Q21534241</uri>\n",
      "\t\t\t</binding>\n",
      "\t\t\t<binding name='movieTitle'>\n",
      "\t\t\t\t<literal xml:lang='en'>No Time to Die</literal>\n",
      "\t\t\t</binding>\n",
      "\t\t\t<binding name='firstReleased'>\n",
      "\t\t\t\t<literal datatype='http://www.w3.org/2001/XMLSchema#dateTime'>2021-09-28T00:00:00Z</literal>\n",
      "\t\t\t</binding>\n",
      "\t\t</result>\n",
      "\t\t<result>\n",
      "\t\t\t<binding name='item'>\n",
      "\t\t\t\t<uri>http://www.wikidata.org/entity/Q18602670</uri>\n",
      "\t\t\t</binding>\n",
      "\t\t\t<binding name='movieTitle'>\n",
      "\t\t\t\t<literal xml:lang='en'>Spectre</literal>\n",
      "\t\t\t</binding>\n",
      "\t\t\t<binding name='firstReleased'>\n",
      "\t\t\t\t<literal datatype='http://www.w3.org/2001/XMLSchema#dateTime'>2015-10-26T00:00:00Z</literal>\n",
      "\t\t\t</binding>\n",
      "\t\t</result>\n",
      "\t\t<result>\n",
      "\t\t\t<binding name='item'>\n",
      "\t\t\t\t<uri>http://www.wikidata.org/entity/Q4941</uri>\n",
      "\t\t\t</binding>\n",
      "\t\t\t<binding name='movieTitle'>\n",
      "\t\t\t\t<literal xml:lang='en'>Skyfall</literal>\n",
      "\t\t\t</binding>\n",
      "\t\t\t<binding name='firstReleased'>\n",
      "\t\t\t\t<literal datatype='http://www.w3.org/2001/XMLSchema#dateTime'>2012-10-23T00:00:00Z</literal>\n",
      "\t\t\t</binding>\n",
      "\t\t</result>\n",
      "\t</results>\n",
      "</sparql>\n",
      "\n"
     ]
    }
   ],
   "source": [
    "import requests\n",
    "\n",
    "url = \"https://query.wikidata.org/sparql\"\n",
    "query=\"\"\"#James Bond Movies\n",
    "SELECT ?item ?movieTitle (MIN(?date) AS ?firstReleased)\n",
    "WHERE {\n",
    "  ?item wdt:P179 wd:Q2484680;\n",
    "        rdfs:label ?movieTitle;\n",
    "        wdt:P577 ?date.\n",
    "  FILTER(lang(?movieTitle)=\"en\")\n",
    "} GROUP BY ?item ?movieTitle\n",
    "ORDER BY DESC(?firstReleased)\n",
    "LIMIT 3\n",
    "\"\"\"\n",
    "params={\n",
    "    \"query\":query,\n",
    "    \"format\":\"xml\" # or json\n",
    "}\n",
    "response = requests.request(\"POST\", url, params=params)\n",
    "\n",
    "print(response.text)"
   ]
  },
  {
   "cell_type": "markdown",
   "id": "db0ce56e-e304-429d-8916-48f2549efc1a",
   "metadata": {},
   "source": [
    "### Post-Process the Response"
   ]
  },
  {
   "cell_type": "code",
   "execution_count": 3,
   "id": "46bd4824-da1f-4388-b332-fa80b6d783c7",
   "metadata": {},
   "outputs": [
    {
     "name": "stdout",
     "output_type": "stream",
     "text": [
      "item                                      movieTitle      firstReleased\n",
      "----------------------------------------  --------------  --------------------\n",
      "http://www.wikidata.org/entity/Q21534241  No Time to Die  2021-09-28T00:00:00Z\n",
      "http://www.wikidata.org/entity/Q18602670  Spectre         2015-10-26T00:00:00Z\n",
      "http://www.wikidata.org/entity/Q4941      Skyfall         2012-10-23T00:00:00Z\n"
     ]
    }
   ],
   "source": [
    "from xml.etree import ElementTree\n",
    "from tabulate import tabulate\n",
    "tree=ElementTree.fromstring(response.text)\n",
    "prefix_map={\"res\":\"http://www.w3.org/2005/sparql-results#\"}\n",
    "lod=[]\n",
    "for result in tree.findall(\".//res:results/res:result\", prefix_map):\n",
    "    record={}\n",
    "    for binding in result.findall(\"./res:binding\", prefix_map):\n",
    "        name=binding.attrib['name']\n",
    "        value=binding.find(\"./*\").text\n",
    "        record[name]=value\n",
    "    lod.append(record)\n",
    "\n",
    "# pretty print the list of dicts (LoD)\n",
    "print(tabulate(lod, headers=\"keys\"))"
   ]
  },
  {
   "cell_type": "markdown",
   "id": "c1ec969e-4f02-4776-af7b-7593932cd940",
   "metadata": {},
   "source": [
    "# SPARQL Libraries\n",
    "To simplify the querying process there existdifferent python libraries that take care of the post-processing of the result and directly return the result in  python types. Such Libraries are:\n",
    "\n",
    "|Library| Description|\n",
    "|---|---|\n",
    "|RDFify| SPARQL support for jupyter notebooks with the use of jupyter magicwords (based on SPARQLWrapper)|\n",
    "|SPARQLWrapper| |\n",
    "|pyLODStorage| supports vonversion of the results into other storage formats and provides a documentation of the executed query (based on SPARQLWrapper)|\n",
    "\n",
    "In the following the mentioned libraries are used to execute and printout the result of the following query:\n",
    "\n",
    "```sparql\n",
    "SELECT ?substance ?substanceLabel ?formula ?structure ?CAS\n",
    "WHERE { \n",
    "  ?substance wdt:P31 wd:Q11173.\n",
    "  ?substance wdt:P231 ?CAS.\n",
    "  ?substance wdt:P274 ?formula.\n",
    "  ?substance wdt:P117  ?structure.\n",
    "  SERVICE wikibase:label { bd:serviceParam wikibase:language \"[AUTO_LANGUAGE],en\". }\n",
    "}\n",
    "LIMIT 15\n",
    "```\n",
    "> see [pyLodStorage Random Substances with CAS number example](http://wiki.bitplan.com/index.php/PyLoDStorage#15_Random_substances_with_CAS_number)"
   ]
  },
  {
   "cell_type": "markdown",
   "id": "c48bd615-466a-448b-bd41-2fad25d12918",
   "metadata": {},
   "source": [
    "## RDFify\n",
    "### RDFify tool documentation"
   ]
  },
  {
   "cell_type": "code",
   "execution_count": 4,
   "id": "e66ef771-3b18-4044-a388-6b4550998869",
   "metadata": {},
   "outputs": [
    {
     "name": "stdout",
     "output_type": "stream",
     "text": [
      "usage: %rdf turtle [-h] [--serialize {turtle,json-ld,xml,n3}]\n",
      "                   [--display {graph,table,raw,none}] [--label LABEL]\n",
      "                   [--prefix] [--entail {rdfs,owl,rdfs+owl}]\n",
      "\n",
      "options:\n",
      "  -h, --help            show this help message and exit\n",
      "  --serialize {turtle,json-ld,xml,n3}, -s {turtle,json-ld,xml,n3}\n",
      "                        Format for serializing when display is set to raw.\n",
      "  --display {graph,table,raw,none}, -d {graph,table,raw,none}\n",
      "                        How output is displayed\n",
      "  --label LABEL, -l LABEL\n",
      "                        Store graph locally with this label\n",
      "  --prefix, -p          Define a prefix which gets prepend to every query.\n",
      "                        Useful for PREFIX declarations\n",
      "  --entail {rdfs,owl,rdfs+owl}, -e {rdfs,owl,rdfs+owl}\n",
      "                        Uses a brute force implementation of the finite\n",
      "                        version of RDFS semantics or OWL 2 RL. Uses owlrl\n",
      "                        python package.\n",
      "\n"
     ]
    }
   ],
   "source": [
    "%rdf turtle -h"
   ]
  },
  {
   "cell_type": "code",
   "execution_count": 5,
   "id": "72554ecf-5c44-47a4-8abb-1544fc46b3ed",
   "metadata": {},
   "outputs": [
    {
     "name": "stdout",
     "output_type": "stream",
     "text": [
      "usage: %rdf sparql [-h] [--endpoint ENDPOINT] [--format {xml,json}]\n",
      "                   [--display {graph,table,raw,none}]\n",
      "                   [--prefix | --local LOCAL] [--store STORE]\n",
      "\n",
      "options:\n",
      "  -h, --help            show this help message and exit\n",
      "  --endpoint ENDPOINT, -e ENDPOINT\n",
      "                        SPARQL endpoint\n",
      "  --format {xml,json}, -f {xml,json}\n",
      "                        Requested format for query result\n",
      "  --display {graph,table,raw,none}, -d {graph,table,raw,none}\n",
      "                        How output is displayed. Does not work for local\n",
      "                        queries.\n",
      "  --prefix, -p          Define a prefix which gets prepend to every query.\n",
      "                        Useful for PREFIX declarations\n",
      "  --local LOCAL, -l LOCAL\n",
      "                        Give a label of a local graph. This cell will then\n",
      "                        ignore the endpoint and query the graph instead\n",
      "  --store STORE, -s STORE\n",
      "                        Store result of the query with this label\n",
      "\n"
     ]
    }
   ],
   "source": [
    "%rdf sparql -h"
   ]
  },
  {
   "cell_type": "code",
   "execution_count": 6,
   "id": "be83c462-28b4-40c6-9ccd-01203ec8ff44",
   "metadata": {},
   "outputs": [
    {
     "name": "stdout",
     "output_type": "stream",
     "text": [
      "usage: %rdf [-h] [--verbose] [--return-store]\n",
      "            {turtle,n3,json-ld,xml,sparql,shex,graph} ...\n",
      "\n",
      "positional arguments:\n",
      "  {turtle,n3,json-ld,xml,sparql,shex,graph}\n",
      "                        RDF modules\n",
      "    turtle              Turtle module\n",
      "    n3                  Notation 3 module\n",
      "    json-ld             JSON-LD module\n",
      "    xml                 XML+RDF module\n",
      "    sparql              SPARQL module\n",
      "    shex                ShEx module\n",
      "    graph               Graph management module\n",
      "\n",
      "options:\n",
      "  -h, --help            show this help message and exit\n",
      "  --verbose, -v         Enable verbose output\n",
      "  --return-store, -r    Returns a copy of all present elements (graphs,\n",
      "                        schemas, etc.)\n",
      "\n"
     ]
    }
   ],
   "source": [
    "%rdf --help"
   ]
  },
  {
   "cell_type": "markdown",
   "id": "75e25571-ed7d-4c6f-8e0e-c772e4f405fb",
   "metadata": {},
   "source": [
    "### RDFify Example Usage"
   ]
  },
  {
   "cell_type": "code",
   "execution_count": 7,
   "id": "00ed7c64-79b8-44e4-be26-8e67e6ee1167",
   "metadata": {},
   "outputs": [
    {
     "data": {
      "text/plain": "<IPython.core.display.HTML object>",
      "text/html": "<table><tr><th>substance</th><th>substanceLabel</th><th>formula</th><th>structure</th><th>CAS</th></tr><tr><td>&lt;http://www.wikidata.org/entity/Q32703&gt;</td><td>aminomethylpropanol@en</td><td>C₄H₁₁NO</td><td>&lt;http://commons.wikimedia.org/wiki/Special:FilePath/2-amino-2-methyl-1-propanol.svg&gt;</td><td>124-68-5</td></tr><tr><td>&lt;http://www.wikidata.org/entity/Q32703&gt;</td><td>aminomethylpropanol@en</td><td>C₄H₁₁NO</td><td>&lt;http://commons.wikimedia.org/wiki/Special:FilePath/Isobutanolamine%20t.png&gt;</td><td>124-68-5</td></tr><tr><td>&lt;http://www.wikidata.org/entity/Q43656&gt;</td><td>cholesterol@en</td><td>C₂₇H₄₆O</td><td>&lt;http://commons.wikimedia.org/wiki/Special:FilePath/Structural%20formula%20of%20cholesterol.svg&gt;</td><td>57-88-5</td></tr><tr><td>&lt;http://www.wikidata.org/entity/Q44804&gt;</td><td>RS-127445@en</td><td>C₁₇H₁₆FN₃</td><td>&lt;http://commons.wikimedia.org/wiki/Special:FilePath/RS-127%2C445%20structure.png&gt;</td><td>199864-87-4</td></tr><tr><td>&lt;http://www.wikidata.org/entity/Q45143&gt;</td><td>fulminic acid@en</td><td>CHNO</td><td>&lt;http://commons.wikimedia.org/wiki/Special:FilePath/Fulminezuur.png&gt;</td><td>506-85-4</td></tr><tr><td>&lt;http://www.wikidata.org/entity/Q49546&gt;</td><td>acetone@en</td><td>C₃H₆O</td><td>&lt;http://commons.wikimedia.org/wiki/Special:FilePath/Acetone-2D-skeletal.svg&gt;</td><td>67-64-1</td></tr><tr><td>&lt;http://www.wikidata.org/entity/Q52858&gt;</td><td>ethane@en</td><td>C₂H₆</td><td>&lt;http://commons.wikimedia.org/wiki/Special:FilePath/Ethan%20Keilstrich.svg&gt;</td><td>74-84-0</td></tr><tr><td>&lt;http://www.wikidata.org/entity/Q58356&gt;</td><td>amoxapine@en</td><td>C₁₇H₁₆ClN₃O</td><td>&lt;http://commons.wikimedia.org/wiki/Special:FilePath/Amoxapine.svg&gt;</td><td>14028-44-5</td></tr><tr><td>&lt;http://www.wikidata.org/entity/Q58713&gt;</td><td>clomipramine@en</td><td>C₁₉H₂₃ClN₂</td><td>&lt;http://commons.wikimedia.org/wiki/Special:FilePath/Clomipramine.svg&gt;</td><td>303-49-1</td></tr><tr><td>&lt;http://www.wikidata.org/entity/Q68484&gt;</td><td>prucalopride@en</td><td>C₁₈H₂₆ClN₃O₃</td><td>&lt;http://commons.wikimedia.org/wiki/Special:FilePath/Prucalopride.svg&gt;</td><td>179474-81-8</td></tr><tr><td>&lt;http://www.wikidata.org/entity/Q68566&gt;</td><td>mosapride@en</td><td>C₂₁H₂₅ClFN₃O₃</td><td>&lt;http://commons.wikimedia.org/wiki/Special:FilePath/Mosapride.svg&gt;</td><td>112885-41-3</td></tr><tr><td>&lt;http://www.wikidata.org/entity/Q80232&gt;</td><td>cyclobutane@en</td><td>C₄H₈</td><td>&lt;http://commons.wikimedia.org/wiki/Special:FilePath/Cyclobutane2.svg&gt;</td><td>287-23-0</td></tr><tr><td>&lt;http://www.wikidata.org/entity/Q80250&gt;</td><td>cyclopropane@en</td><td>C₃H₆</td><td>&lt;http://commons.wikimedia.org/wiki/Special:FilePath/Cyclopropane-2D.png&gt;</td><td>75-19-4</td></tr><tr><td>&lt;http://www.wikidata.org/entity/Q80868&gt;</td><td>tolonium chloride@en</td><td>C₁₅H₁₆ClN₃S</td><td>&lt;http://commons.wikimedia.org/wiki/Special:FilePath/Tolonium%20chloride.svg&gt;</td><td>92-31-9</td></tr><tr><td>&lt;http://www.wikidata.org/entity/Q83320&gt;</td><td>nitric acid@en</td><td>HNO₃</td><td>&lt;http://commons.wikimedia.org/wiki/Special:FilePath/Nitric-acid.png&gt;</td><td>12507-77-6</td></tr></table>"
     },
     "metadata": {},
     "output_type": "display_data"
    }
   ],
   "source": [
    "%%rdf sparql --endpoint https://query.wikidata.org/sparql -d table -f json -s substances\n",
    "SELECT ?substance ?substanceLabel ?formula ?structure ?CAS\n",
    "WHERE { \n",
    "  ?substance wdt:P31 wd:Q11173.\n",
    "  ?substance wdt:P231 ?CAS.\n",
    "  ?substance wdt:P274 ?formula.\n",
    "  ?substance wdt:P117  ?structure.\n",
    "  SERVICE wikibase:label { bd:serviceParam wikibase:language \"[AUTO_LANGUAGE],en\". }\n",
    "}\n",
    "LIMIT 15\n"
   ]
  },
  {
   "cell_type": "code",
   "execution_count": 8,
   "id": "bcd94b23-3830-47d9-9bc4-bbd55986ade1",
   "metadata": {},
   "outputs": [
    {
     "name": "stdout",
     "output_type": "stream",
     "text": [
      "<SPARQLWrapper.Wrapper.QueryResult object at 0x00007F130A26DC60>\n",
      "{\"requestedFormat\" : 'json',\n",
      "\"response (a file-like object, as return by the urllib2.urlopen library call)\" : {\n",
      "\t\"url\" : \"https://query.wikidata.org/sparql?query=SELECT+%3Fsubstance+%3FsubstanceLabel+%3Fformula+%3Fstructure+%3FCAS%0AWHERE+%7B+%0A++%3Fsubstance+wdt%3AP31+wd%3AQ11173.%0A++%3Fsubstance+wdt%3AP231+%3FCAS.%0A++%3Fsubstance+wdt%3AP274+%3Fformula.%0A++%3Fsubstance+wdt%3AP117++%3Fstructure.%0A++SERVICE+wikibase%3Alabel+%7B+bd%3AserviceParam+wikibase%3Alanguage+%22%5BAUTO_LANGUAGE%5D%2Cen%22.+%7D%0A%7D%0ALIMIT+15%0A%0A&format=json&output=json&results=json\",\n",
      "\t\"code\" : \"200\",\n",
      "\t\"headers\" : server: nginx/1.14.2\n",
      "date: Wed, 19 Oct 2022 21:59:50 GMT\n",
      "content-type: application/sparql-results+json;charset=utf-8\n",
      "x-first-solution-millis: 4\n",
      "x-served-by: wdqs1014\n",
      "access-control-allow-origin: *\n",
      "cache-control: public, max-age=300\n",
      "vary: Accept, Accept-Encoding\n",
      "age: 1\n",
      "x-cache: cp3060 miss, cp3056 pass\n",
      "x-cache-status: pass\n",
      "server-timing: cache;desc=\"pass\", host;desc=\"cp3056\"\n",
      "strict-transport-security: max-age=106384710; includeSubDomains; preload\n",
      "report-to: { \"group\": \"wm_nel\", \"max_age\": 86400, \"endpoints\": [{ \"url\": \"https://intake-logging.wikimedia.org/v1/events?stream=w3c.reportingapi.network_error&schema_uri=/w3c/reportingapi/network_error/1.0.0\" }] }\n",
      "nel: { \"report_to\": \"wm_nel\", \"max_age\": 86400, \"failure_fraction\": 0.05, \"success_fraction\": 0.0}\n",
      "set-cookie: WMF-Last-Access=19-Oct-2022;Path=/;HttpOnly;secure;Expires=Sun, 20 Nov 2022 12:00:00 GMT\n",
      "set-cookie: WMF-Last-Access-Global=19-Oct-2022;Path=/;Domain=.wikidata.org;HttpOnly;secure;Expires=Sun, 20 Nov 2022 12:00:00 GMT\n",
      "accept-ch: Sec-CH-UA-Arch,Sec-CH-UA-Bitness,Sec-CH-UA-Full-Version-List,Sec-CH-UA-Model,Sec-CH-UA-Platform-Version\n",
      "permissions-policy: interest-cohort=(),ch-ua-arch=(self \"intake-analytics.wikimedia.org\"),ch-ua-bitness=(self \"intake-analytics.wikimedia.org\"),ch-ua-full-version-list=(self \"intake-analytics.wikimedia.org\"),ch-ua-model=(self \"intake-analytics.wikimedia.org\"),ch-ua-platform-version=(self \"intake-analytics.wikimedia.org\")\n",
      "x-client-ip: 87.122.55.31\n",
      "accept-ranges: bytes\n",
      "transfer-encoding: chunked\n",
      "connection: close\n",
      "\n",
      "}}\n"
     ]
    }
   ],
   "source": [
    "store = %rdf -r\n",
    "g = store[\"rdfresults\"]\n",
    "print(g['substances']) # SPARQLWrapper QueryResult"
   ]
  },
  {
   "cell_type": "markdown",
   "id": "64823579-0726-42fd-a57a-b355c2ccdf67",
   "metadata": {
    "tags": []
   },
   "source": [
    "## [SPARQLWrapper](https://sparqlwrapper.readthedocs.io/en/latest/main.html)\n",
    "SPARQLWrapper result Format:\n",
    "* head\n",
    "  * vars (list of colimn names)\n",
    "* results\n",
    "  * bindings (list with all row values)\n",
    "    * <column name>\n",
    "       * type\n",
    "       * value\n",
    "    \n",
    "An SPARWLWrapper result can be converted to an list of dicts (LoD) with the following list comprehentions:\n",
    "```python\n",
    "lod=[{column:cell[\"value\"] for column, cell in row.items()} for row in results[\"results\"][\"bindings\"]] \n",
    "```"
   ]
  },
  {
   "cell_type": "code",
   "execution_count": 9,
   "id": "30a95864-071e-4902-a3f9-6fb6bf0aa3e0",
   "metadata": {},
   "outputs": [
    {
     "name": "stdout",
     "output_type": "stream",
     "text": [
      "{'head': {'vars': ['substance', 'substanceLabel', 'formula', 'structure', 'CAS']}, 'results': {'bindings': [{'CAS': {'type': 'literal', 'value': '102989-24-2'}, 'formula': {'type': 'literal', 'value': 'C₃₇H₆₆O₇'}, 'structure': {'type': 'uri', 'value': 'http://commons.wikimedia.org/wiki/Special:FilePath/Asimicin.svg'}, 'substance': {'type': 'uri', 'value': 'http://www.wikidata.org/entity/Q100138042'}}, {'CAS': {'type': 'literal', 'value': '373-53-5'}, 'formula': {'type': 'literal', 'value': 'CH₂FI'}, 'structure': {'type': 'uri', 'value': 'http://commons.wikimedia.org/wiki/Special:FilePath/Fluoroiodomethane%20Formula%20V1.svg'}, 'substance': {'type': 'uri', 'value': 'http://www.wikidata.org/entity/Q1002152'}}, {'CAS': {'type': 'literal', 'value': '90566-53-3'}, 'formula': {'type': 'literal', 'value': 'C₂₂H₂₇F₃O₄S'}, 'structure': {'type': 'uri', 'value': 'http://commons.wikimedia.org/wiki/Special:FilePath/Fluticasone.svg'}, 'substance': {'type': 'uri', 'value': 'http://www.wikidata.org/entity/Q1002165'}}, {'CAS': {'type': 'literal', 'value': '522-40-7'}, 'formula': {'type': 'literal', 'value': 'C₁₈H₂₂O₈P₂'}, 'structure': {'type': 'uri', 'value': 'http://commons.wikimedia.org/wiki/Special:FilePath/Fosfestrol.svg'}, 'substance': {'type': 'uri', 'value': 'http://www.wikidata.org/entity/Q1003185'}}, {'CAS': {'type': 'literal', 'value': '298-45-3'}, 'formula': {'type': 'literal', 'value': 'C₁₉H₁₉NO₄'}, 'structure': {'type': 'uri', 'value': 'http://commons.wikimedia.org/wiki/Special:FilePath/Bulbocapnine%20skeletal.svg'}, 'substance': {'type': 'uri', 'value': 'http://www.wikidata.org/entity/Q1003526'}}, {'CAS': {'type': 'literal', 'value': '1952276-71-9'}, 'formula': {'type': 'literal', 'value': 'C19H14N2O4'}, 'structure': {'type': 'uri', 'value': 'http://commons.wikimedia.org/wiki/Special:FilePath/Structure%20of%20C286.svg'}, 'substance': {'type': 'uri', 'value': 'http://www.wikidata.org/entity/Q100420889'}}, {'CAS': {'type': 'literal', 'value': '26474-39-5'}, 'formula': {'type': 'literal', 'value': 'C19H32O3'}, 'structure': {'type': 'uri', 'value': 'http://commons.wikimedia.org/wiki/Special:FilePath/Methyl%20%28E%2CE%29-13-oxo-9%2C11-octadecadienoate.png'}, 'substance': {'type': 'uri', 'value': 'http://www.wikidata.org/entity/Q100552817'}}, {'CAS': {'type': 'literal', 'value': '17094-01-8'}, 'formula': {'type': 'literal', 'value': 'C₉H₁₁N₅O₃'}, 'structure': {'type': 'uri', 'value': 'http://commons.wikimedia.org/wiki/Special:FilePath/Sepiapterin%20k.svg'}, 'substance': {'type': 'uri', 'value': 'http://www.wikidata.org/entity/Q100606475'}}, {'CAS': {'type': 'literal', 'value': '87980-11-8'}, 'formula': {'type': 'literal', 'value': 'C₇H₉NO₂'}, 'structure': {'type': 'uri', 'value': 'http://commons.wikimedia.org/wiki/Special:FilePath/Gabaculine.svg'}, 'substance': {'type': 'uri', 'value': 'http://www.wikidata.org/entity/Q1007138'}}, {'CAS': {'type': 'literal', 'value': '6890-65-9'}, 'formula': {'type': 'literal', 'value': 'C₂₁H₃₄O₃'}, 'structure': {'type': 'uri', 'value': 'http://commons.wikimedia.org/wiki/Special:FilePath/5-alpha-Pregnane-3-alpha%2017-alpha-diol-20-one.svg'}, 'substance': {'type': 'uri', 'value': 'http://www.wikidata.org/entity/Q100716337'}}, {'CAS': {'type': 'literal', 'value': '63980-61-0'}, 'formula': {'type': 'literal', 'value': 'C₆H₁₂F₃O₃P'}, 'structure': {'type': 'uri', 'value': 'http://commons.wikimedia.org/wiki/Special:FilePath/Tris%282-fluoroethyl%29%20phosphite.svg'}, 'substance': {'type': 'uri', 'value': 'http://www.wikidata.org/entity/Q100741772'}}, {'CAS': {'type': 'literal', 'value': '290-56-2'}, 'formula': {'type': 'literal', 'value': 'C₄H₅NS'}, 'structure': {'type': 'uri', 'value': 'http://commons.wikimedia.org/wiki/Special:FilePath/2H-1%2C4-Thiazine.svg'}, 'substance': {'type': 'uri', 'value': 'http://www.wikidata.org/entity/Q101064240'}}, {'CAS': {'type': 'literal', 'value': '36574-19-3'}, 'formula': {'type': 'literal', 'value': 'C₆H₁₂O₆'}, 'structure': {'type': 'uri', 'value': 'http://commons.wikimedia.org/wiki/Special:FilePath/Alpha-D-Gulofuranose.svg'}, 'substance': {'type': 'uri', 'value': 'http://www.wikidata.org/entity/Q101096024'}}, {'CAS': {'type': 'literal', 'value': '41847-50-1'}, 'formula': {'type': 'literal', 'value': 'C₆H₁₂O₆'}, 'structure': {'type': 'uri', 'value': 'http://commons.wikimedia.org/wiki/Special:FilePath/Beta-D-Gulofuranose.svg'}, 'substance': {'type': 'uri', 'value': 'http://www.wikidata.org/entity/Q101096034'}}, {'CAS': {'type': 'literal', 'value': '2204271-37-2'}, 'formula': {'type': 'literal', 'value': 'C₃H₅NO₃'}, 'structure': {'type': 'uri', 'value': 'http://commons.wikimedia.org/wiki/Special:FilePath/%28R%29-Formyl%20glycine%20Structural%20Formula%20V.1.svg'}, 'substance': {'type': 'uri', 'value': 'http://www.wikidata.org/entity/Q101096468'}}]}}\n",
      "CAS           formula      structure                                                                                                     substance\n",
      "------------  -----------  ------------------------------------------------------------------------------------------------------------  -----------------------------------------\n",
      "102989-24-2   C₃₇H₆₆O₇     http://commons.wikimedia.org/wiki/Special:FilePath/Asimicin.svg                                               http://www.wikidata.org/entity/Q100138042\n",
      "373-53-5      CH₂FI        http://commons.wikimedia.org/wiki/Special:FilePath/Fluoroiodomethane%20Formula%20V1.svg                       http://www.wikidata.org/entity/Q1002152\n",
      "90566-53-3    C₂₂H₂₇F₃O₄S  http://commons.wikimedia.org/wiki/Special:FilePath/Fluticasone.svg                                            http://www.wikidata.org/entity/Q1002165\n",
      "522-40-7      C₁₈H₂₂O₈P₂   http://commons.wikimedia.org/wiki/Special:FilePath/Fosfestrol.svg                                             http://www.wikidata.org/entity/Q1003185\n",
      "298-45-3      C₁₉H₁₉NO₄    http://commons.wikimedia.org/wiki/Special:FilePath/Bulbocapnine%20skeletal.svg                                http://www.wikidata.org/entity/Q1003526\n",
      "1952276-71-9  C19H14N2O4   http://commons.wikimedia.org/wiki/Special:FilePath/Structure%20of%20C286.svg                                  http://www.wikidata.org/entity/Q100420889\n",
      "26474-39-5    C19H32O3     http://commons.wikimedia.org/wiki/Special:FilePath/Methyl%20%28E%2CE%29-13-oxo-9%2C11-octadecadienoate.png    http://www.wikidata.org/entity/Q100552817\n",
      "17094-01-8    C₉H₁₁N₅O₃    http://commons.wikimedia.org/wiki/Special:FilePath/Sepiapterin%20k.svg                                        http://www.wikidata.org/entity/Q100606475\n",
      "87980-11-8    C₇H₉NO₂      http://commons.wikimedia.org/wiki/Special:FilePath/Gabaculine.svg                                             http://www.wikidata.org/entity/Q1007138\n",
      "6890-65-9     C₂₁H₃₄O₃     http://commons.wikimedia.org/wiki/Special:FilePath/5-alpha-Pregnane-3-alpha%2017-alpha-diol-20-one.svg        http://www.wikidata.org/entity/Q100716337\n",
      "63980-61-0    C₆H₁₂F₃O₃P   http://commons.wikimedia.org/wiki/Special:FilePath/Tris%282-fluoroethyl%29%20phosphite.svg                    http://www.wikidata.org/entity/Q100741772\n",
      "290-56-2      C₄H₅NS       http://commons.wikimedia.org/wiki/Special:FilePath/2H-1%2C4-Thiazine.svg                                      http://www.wikidata.org/entity/Q101064240\n",
      "36574-19-3    C₆H₁₂O₆      http://commons.wikimedia.org/wiki/Special:FilePath/Alpha-D-Gulofuranose.svg                                   http://www.wikidata.org/entity/Q101096024\n",
      "41847-50-1    C₆H₁₂O₆      http://commons.wikimedia.org/wiki/Special:FilePath/Beta-D-Gulofuranose.svg                                    http://www.wikidata.org/entity/Q101096034\n",
      "2204271-37-2  C₃H₅NO₃      http://commons.wikimedia.org/wiki/Special:FilePath/%28R%29-Formyl%20glycine%20Structural%20Formula%20V.1.svg  http://www.wikidata.org/entity/Q101096468\n"
     ]
    }
   ],
   "source": [
    "from SPARQLWrapper import SPARQLWrapper, JSON, CSV\n",
    "from tabulate import tabulate\n",
    "from IPython.display import Image, SVG\n",
    "# List of Dicts (LoD) \n",
    "\n",
    "q = \"\"\"\n",
    "PREFIX wdt: <http://www.wikidata.org/prop/direct/>\n",
    "PREFIX wd: <http://www.wikidata.org/entity/>\n",
    "SELECT ?substance ?substanceLabel ?formula ?structure ?CAS\n",
    "WHERE { \n",
    "  ?substance wdt:P31 wd:Q11173.\n",
    "  ?substance wdt:P231 ?CAS.\n",
    "  ?substance wdt:P274 ?formula.\n",
    "  ?substance wdt:P117  ?structure.\n",
    "}\n",
    "LIMIT 15\n",
    "\"\"\"\n",
    "\n",
    "sparql = SPARQLWrapper(\"https://qlever.cs.uni-freiburg.de/api/wikidata\")\n",
    "sparql.setQuery(q)\n",
    "sparql.setReturnFormat(JSON)\n",
    "results = sparql.query().convert()\n",
    "print(results)\n",
    "# print raw results\n",
    "#print(results)\n",
    "lod=[{column:cell[\"value\"] for column, cell in row.items()} for row in results[\"results\"][\"bindings\"]]\n",
    "print(tabulate(lod, headers=\"keys\"))\n"
   ]
  },
  {
   "cell_type": "markdown",
   "id": "12943b37-5ef4-42e2-8e67-8b400ac96890",
   "metadata": {},
   "source": [
    "## pyLODStorage\n",
    "\n",
    "pyLODStorage directly converts the query result into an list of dicts (LoD) and also provides methods to store the LoD in different formats such as JSON, SQL and CSV.\n",
    "\n",
    "An additional advantage is that it provides a pretty print of the query and result in the jupyter environment. "
   ]
  },
  {
   "cell_type": "code",
   "execution_count": 10,
   "id": "a1fccd73-57b7-408f-bf59-71869ca3dd72",
   "metadata": {},
   "outputs": [
    {
     "data": {
      "text/plain": "<IPython.core.display.Markdown object>",
      "text/markdown": "## 15 Random substances with CAS number\nWikidata SPARQL query showing the 15 random chemical substances with their CAS Number\n### query\n```sparql\n# List of 15 random chemical components with CAS-Number, formula and structure\n# see also https://github.com/WolfgangFahl/pyLoDStorage/issues/46\n# WF 2021-08-23\nSELECT ?substance ?substanceLabel ?formula ?structure ?CAS\nWHERE { \n?substance wdt:P31 wd:Q11173.\n?substance wdt:P231 ?CAS.\n?substance wdt:P274 ?formula.\n?substance wdt:P117  ?structure.\nSERVICE wikibase:label { bd:serviceParam wikibase:language \"[AUTO_LANGUAGE],en\". }\n}\nLIMIT 15\n\n```\n[try it!](https://query.wikidata.org/#%23%20List%20of%2015%20random%20chemical%20components%20with%20CAS-Number%2C%20formula%20and%20structure%0A%23%20see%20also%20https%3A//github.com/WolfgangFahl/pyLoDStorage/issues/46%0A%23%20WF%202021-08-23%0ASELECT%20%3Fsubstance%20%3FsubstanceLabel%20%3Fformula%20%3Fstructure%20%3FCAS%0AWHERE%20%7B%20%0A%3Fsubstance%20wdt%3AP31%20wd%3AQ11173.%0A%3Fsubstance%20wdt%3AP231%20%3FCAS.%0A%3Fsubstance%20wdt%3AP274%20%3Fformula.%0A%3Fsubstance%20wdt%3AP117%20%20%3Fstructure.%0ASERVICE%20wikibase%3Alabel%20%7B%20bd%3AserviceParam%20wikibase%3Alanguage%20%22%5BAUTO_LANGUAGE%5D%2Cen%22.%20%7D%0A%7D%0ALIMIT%2015%0A)\n## result\n| substance                              | substanceLabel                   | formula      | structure                                                                                    | CAS        |\n|----------------------------------------|----------------------------------|--------------|----------------------------------------------------------------------------------------------|------------|\n| http://www.wikidata.org/entity/Q203174 | thalidomide                      | C₁₃H₁₀N₂O₄   | http://commons.wikimedia.org/wiki/Special:FilePath/Thalidomide-2D-skeletal-wavy.svg          | 50-35-1    |\n| http://www.wikidata.org/entity/Q204030 | (E)-cinnamyl alcohol             | C₉H₁₀O       | http://commons.wikimedia.org/wiki/Special:FilePath/Cinnamyl%20alcohol.svg                    | 4407-36-7  |\n| http://www.wikidata.org/entity/Q204594 | zinc protoporphyrin              | C₃₄H₃₂N₄O₄Zn | http://commons.wikimedia.org/wiki/Special:FilePath/Zinc%20protoporphyrin.svg                 | 15442-64-5 |\n| http://www.wikidata.org/entity/Q204717 | zinc dithionite                  | O₄S₂Zn       | http://commons.wikimedia.org/wiki/Special:FilePath/Zinc%20dithionite.svg                     | 7779-86-4  |\n| http://www.wikidata.org/entity/Q205562 | ziram                            | C₆H₁₂N₂S₄Zn  | http://commons.wikimedia.org/wiki/Special:FilePath/Ziram.png                                 | 137-30-4   |\n| http://www.wikidata.org/entity/Q207843 | nitric oxide                     | NO           | http://commons.wikimedia.org/wiki/Special:FilePath/Nitric%20oxide.svg                        | 10102-43-9 |\n| http://www.wikidata.org/entity/Q209281 | 2,7-di-tert-butylthiepin         | C₁₄H₂₂S      | http://commons.wikimedia.org/wiki/Special:FilePath/Ditertbutylthiepin.png                    | 83670-21-7 |\n| http://www.wikidata.org/entity/Q209284 | 2,6-lutidine                     | C₇H₉N        | http://commons.wikimedia.org/wiki/Special:FilePath/Lutidine.png                              | 108-48-5   |\n| http://www.wikidata.org/entity/Q209355 | ethephon                         | C₂H₆ClO₃P    | http://commons.wikimedia.org/wiki/Special:FilePath/Ethephon.png                              | 16672-87-0 |\n| http://www.wikidata.org/entity/Q209407 | 2-hydroxy-5-octanoylbenzoic acid | C₁₅H₂₀O₄     | http://commons.wikimedia.org/wiki/Special:FilePath/Lipo-Hydroxy-S%C3%A4ure.svg               | 78418-01-6 |\n| http://www.wikidata.org/entity/Q209415 | isopropyl iodide                 | C₃H₇I        | http://commons.wikimedia.org/wiki/Special:FilePath/Isopropyl%20iodide.svg                    | 75-30-9    |\n| http://www.wikidata.org/entity/Q209444 | 2-methyltetrahydrofuran          | C₅H₁₀O       | http://commons.wikimedia.org/wiki/Special:FilePath/Methyltetrahydrofuran.svg                 | 96-47-9    |\n| http://www.wikidata.org/entity/Q209444 | 2-methyltetrahydrofuran          | C₅H₁₀O       | http://commons.wikimedia.org/wiki/Special:FilePath/Methyltetrahydrofuran2.svg                | 96-47-9    |\n| http://www.wikidata.org/entity/Q211433 | cyclohexane                      | C₆H₁₂        | http://commons.wikimedia.org/wiki/Special:FilePath/Skeletal%20formula%20of%20cyclohexane.svg | 110-82-7   |\n| http://www.wikidata.org/entity/Q211737 | sodium sulfate                   | Na₂O₄S       | http://commons.wikimedia.org/wiki/Special:FilePath/Sodium%20sulfate.svg                      | 7757-82-6  |"
     },
     "metadata": {},
     "output_type": "display_data"
    }
   ],
   "source": [
    "from IPython.display import display, Markdown\n",
    "from lodstorage.query import QueryManager, Query\n",
    "from lodstorage.sparql import SPARQL\n",
    "import copy\n",
    "\n",
    "endpoint=SPARQL(\"https://query.wikidata.org/sparql\")\n",
    "\n",
    "queryStr=\"\"\"# List of 15 random chemical components with CAS-Number, formula and structure\n",
    "# see also https://github.com/WolfgangFahl/pyLoDStorage/issues/46\n",
    "# WF 2021-08-23\n",
    "SELECT ?substance ?substanceLabel ?formula ?structure ?CAS\n",
    "WHERE { \n",
    "?substance wdt:P31 wd:Q11173.\n",
    "?substance wdt:P231 ?CAS.\n",
    "?substance wdt:P274 ?formula.\n",
    "?substance wdt:P117  ?structure.\n",
    "SERVICE wikibase:label { bd:serviceParam wikibase:language \"[AUTO_LANGUAGE],en\". }\n",
    "}\n",
    "LIMIT 15\n",
    "\"\"\"\n",
    "query=Query(query=queryStr, name=\"CAS15\", title=\"15 Random substances with CAS number\", lang=\"sparql\",\n",
    "            description=\"Wikidata SPARQL query showing the 15 random chemical substances with their CAS Number\")\n",
    "try:\n",
    "    qlod=endpoint.queryAsListOfDicts(query.query)\n",
    "    lod=copy.deepcopy(qlod)\n",
    "    \n",
    "    # pretty print the query and its result\n",
    "    doc=query.documentQueryResult(lod, tablefmt=\"github\",floatfmt=\".0f\",tryItUrl=\"https://query.wikidata.org\")\n",
    "    display(Markdown(str(doc)))\n",
    "except Exception as ex:\n",
    "            print(f\"{query.title} at {endpoint.sparql.endpoint} failed: {ex}\")"
   ]
  },
  {
   "cell_type": "code",
   "execution_count": 10,
   "id": "454f82bd-86a8-4f75-8e6d-297578784041",
   "metadata": {},
   "outputs": [],
   "source": []
  }
 ],
 "metadata": {
  "kernelspec": {
   "display_name": "Python 3",
   "language": "python",
   "name": "python3"
  },
  "language_info": {
   "codemirror_mode": {
    "name": "ipython",
    "version": 3
   },
   "file_extension": ".py",
   "mimetype": "text/x-python",
   "name": "python",
   "nbconvert_exporter": "python",
   "pygments_lexer": "ipython3",
   "version": "3.7.11"
  }
 },
 "nbformat": 4,
 "nbformat_minor": 5
}
