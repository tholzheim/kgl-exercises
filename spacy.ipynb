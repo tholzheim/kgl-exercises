{
 "cells": [
  {
   "cell_type": "markdown",
   "metadata": {},
   "source": [
    "# Spacy Introduction\n",
    "## Install dependencies"
   ]
  },
  {
   "cell_type": "code",
   "execution_count": null,
   "metadata": {
    "pycharm": {
     "is_executing": true
    }
   },
   "outputs": [],
   "source": [
    "import sys\n",
    "def installModule(projectName:str, moduleName:str=None):\n",
    "    '''Installs and loads the given module if not already installed'''\n",
    "    if moduleName is None:\n",
    "        moduleName=projectName\n",
    "    if moduleName not in sys.modules:\n",
    "        !python -m pip install --no-input $projectName\n",
    "        %reload_ext $moduleName\n",
    "        print(f'{projectName} installed')\n",
    "    else:\n",
    "        print(f'{projectName} found')\n",
    "\n",
    "installModule('spacy')\n",
    "installModule('newspaper3k', 'newspaper')"
   ]
  },
  {
   "cell_type": "markdown",
   "metadata": {},
   "source": [
    "## Download Models"
   ]
  },
  {
   "cell_type": "code",
   "execution_count": null,
   "metadata": {
    "pycharm": {
     "is_executing": true
    }
   },
   "outputs": [],
   "source": [
    "!python -m spacy download en_core_web_sm"
   ]
  },
  {
   "cell_type": "markdown",
   "metadata": {},
   "source": [
    "##  Examples\n",
    "### Initial Example\n",
    "taken from  https://spacy.io/"
   ]
  },
  {
   "cell_type": "code",
   "execution_count": 3,
   "metadata": {},
   "outputs": [
    {
     "name": "stdout",
     "output_type": "stream",
     "text": [
      "Noun phrases: ['Sebastian Thrun', 'self-driving cars', 'Google', 'few people', 'the company', 'him', 'I', 'you', 'very senior CEOs', 'major American car companies', 'my hand', 'I', 'Thrun', 'an interview', 'Recode']\n",
      "Verbs: ['start', 'work', 'drive', 'take', 'tell', 'shake', 'turn', 'talk', 'say']\n",
      "Sebastian Thrun PERSON\n",
      "2007 DATE\n",
      "American NORP\n",
      "Thrun GPE\n",
      "Recode ORG\n",
      "earlier this week DATE\n"
     ]
    }
   ],
   "source": [
    "import spacy\n",
    "\n",
    "# Load English tokenizer, tagger, parser and NER\n",
    "nlp = spacy.load(\"en_core_web_sm\")\n",
    "\n",
    "# Process whole documents\n",
    "text = (\"When Sebastian Thrun started working on self-driving cars at \"\n",
    "        \"Google in 2007, few people outside of the company took him \"\n",
    "        \"seriously. “I can tell you very senior CEOs of major American \"\n",
    "        \"car companies would shake my hand and turn away because I wasn’t \"\n",
    "        \"worth talking to,” said Thrun, in an interview with Recode earlier \"\n",
    "        \"this week.\")\n",
    "doc = nlp(text)\n",
    "\n",
    "# Analyze syntax\n",
    "print(\"Noun phrases:\", [chunk.text for chunk in doc.noun_chunks])\n",
    "print(\"Verbs:\", [token.lemma_ for token in doc if token.pos_ == \"VERB\"])\n",
    "\n",
    "# Find named entities, phrases and concepts\n",
    "for entity in doc.ents:\n",
    "    print(entity.text, entity.label_)"
   ]
  },
  {
   "cell_type": "markdown",
   "metadata": {},
   "source": [
    "## Finding Locations\n",
    "\n",
    "The named entity tags __LOC__ and __GPE__(Geopolitical Entity) indicate found location entites."
   ]
  },
  {
   "cell_type": "code",
   "execution_count": 4,
   "metadata": {},
   "outputs": [
    {
     "name": "stdout",
     "output_type": "stream",
     "text": [
      "Text                                        Entity Tag\n",
      "------------------------------------------  ------------\n",
      "SUNDAY                                      DATE\n",
      "Obama                                       PERSON\n",
      "Wat Pho                                     PERSON\n",
      "Bangkok                                     GPE\n",
      "Thailand                                    GPE\n",
      "Obama                                       PERSON\n",
      "King Bhumibol Adulyadej                     ORG\n",
      "Obama                                       PERSON\n",
      "Thai                                        NORP\n",
      "Yingluck Shinawatra                         PERSON\n",
      "Obama                                       PERSON\n",
      "first                                       ORDINAL\n",
      "Asia                                        LOC\n",
      "MONDAY                                      DATE\n",
      "Obama                                       PERSON\n",
      "Burma                                       GPE\n",
      "Thein Sein                                  PERSON\n",
      "Aung San Suu Kyi                            FAC\n",
      "Burma                                       GPE\n",
      "Obama                                       PERSON\n",
      "Burma                                       GPE\n",
      "the evening                                 TIME\n",
      "Cambodia                                    GPE\n",
      "the East Asia Summit                        LOC\n",
      "the Association of Southeast Asian Nations  ORG\n",
      "Obama                                       PERSON\n",
      "the East Asia Summit                        LOC\n",
      "Cambodia                                    GPE\n"
     ]
    }
   ],
   "source": [
    "import spacy\n",
    "from tabulate import tabulate\n",
    "# Load English tokenizer, tagger, parser and NER\n",
    "nlp = spacy.load(\"en_core_web_sm\")\n",
    "# taken from https://obamawhitehouse.archives.gov/issues/foreign-policy/asia-trip-2012\n",
    "text=\"\"\"\n",
    " Trip Schedule\n",
    "\n",
    "SUNDAY\n",
    "\n",
    "    President Obama visits Wat Pho Royal Monastery in Bangkok, Thailand\n",
    "    President Obama receives a Royal Audience with King Bhumibol Adulyadej\n",
    "    President Obama takes part in a formal welcome ceremony at Thai Koo Fah Building\n",
    "    President and Prime Minister Yingluck Shinawatra of Thailand will hold a joint press conference, and then attend an official dinner together. This press conference was open press.\n",
    "    Read more about President Obama's first stop in Asia \n",
    "\n",
    "MONDAY\n",
    "\n",
    "    President Obama travels to Burma where he meets with President Thein Sein and Aung San Suu Kyi and delivers a speech to encourage Burma’s ongoing democratic transition.\n",
    "    Read more about President Obama promised support for the people of Burma\n",
    "    In the evening, the President will travel to Cambodia, where he will attend the East Asia Summit and meet with the leaders of the Association of Southeast Asian Nations.\n",
    "\n",
    "TUESDAY\n",
    "\n",
    "    President Obama attended the East Asia Summit in Cambodia\n",
    "\n",
    "\"\"\"\n",
    "doc = nlp(text)\n",
    "foundEntities=[{\"Text\":entity.text, \"Entity Tag\":entity.label_} for entity in doc.ents]\n",
    "print(tabulate(foundEntities, headers=\"keys\"))"
   ]
  },
  {
   "cell_type": "markdown",
   "metadata": {},
   "source": [
    "## URL as Text Input\n",
    "\n",
    "https://www.engr.psu.edu/ce/courses/ce584/concrete/library/construction/curing/Composition%20of%20cement.htm as text input"
   ]
  },
  {
   "cell_type": "code",
   "execution_count": 5,
   "metadata": {},
   "outputs": [
    {
     "name": "stdout",
     "output_type": "stream",
     "text": [
      "Noun phrases: ['Composition', 'cement\\n\\nIntroduction\\n\\nPortland cement', 'its strength', 'chemical reactions', 'the cement', 'water', 'The process', 'hydration', 'This', 'a complex process', 'that', 'the chemical composition', 'cement', 'Manufacture', 'cement\\n\\nPortland cement', 'milling', 'the following materials', 'CaO', 'limestone', 'chalk', 'shells', 'sand', 'clay', 'argillaceous rock', 'sand', ', old bottles', 'clay', 'argillaceous rock\\n\\nAlumina', 'Al', 'O', 'O', 'clay\\n\\nIron', '2 O', 'clay', 'iron ore', 'scrap iron', 'ash', 'O', 'clay', 'iron ore', 'scrap iron', 'Gypsum', 'CaSO', '.2H', 'limestone\\n\\nChemical shorthand', 'the complex chemical nature', 'cement', 'a shorthand form', 'the chemical compounds', 'The shorthand', 'the basic compounds', 'Compound Formula Shorthand', 'Calcium oxide', 'lime', 'Ca0 C Silicon dioxide', 'silica', '2 S Aluminum oxide', 'alumina', 'Al', 'O', 'O', '2 O H Sulfate', '3 S\\n\\nCompound Formula Shorthand', '%', 'Tricalcium aluminate', 'Ca', 'O', '6 C', 'A 10 Tetracalcium aluminoferrite', 'Ca', 'Al 2 Fe', 'O 10 C 4 AF 8 Belite or dicalcium silicate', 'Ca 2 SiO 5 C 2 S 20 Alite', 'tricalcium', 'Ca 3 SiO 4 C 3 S 55 Sodium oxide', 'Na', 'Up to 2 Potassium oxide', 'K', 'O K Gypsum CaSO', '.2H', '2 O C S H', '2 5\\n\\nRepresentative', 'Actual weight', 'type', 'cement', 'Source', 'Mindess', 'Young\\n\\nProperties', 'cement', 'These compounds', 'the properties', 'cement', 'different ways', 'Tricalcium aluminate', 'C', '3\\n\\nTricalcium silicate', 'C 3 S:-\\n\\nDicalcium silicate', 'C 2 S', 'Ferrite', 'C', '4 AF', 'these compounds', 'manufacturers', 'different types', 'cement', 'several construction environments', 'References', 'Sidney Mindess', 'J. Francis Young', 'Concrete', 'Prentice-Hall, Inc.', 'Englewood Cliffs', 'pp', 'Steve Kosmatka', 'William Panarese', 'Concrete Mixes', 'Portland Cement Association', 'pp', 'Michael Mamlouk', 'John Zaniewski', 'Materials', 'Civil and Construction Engineers', 'Addison Wesley Longman, Inc.']\n",
      "Text                                            Entity Tag\n",
      "----------------------------------------------  ------------\n",
      "Introduction                                    ORG\n",
      "\n",
      "Portland\n",
      "first                                           ORDINAL\n",
      "Portland                                        GPE\n",
      "Silica                                          GPE\n",
      "2                                               CARDINAL\n",
      "Alumina                                         GPE\n",
      "3                                               CARDINAL\n",
      "4                                               CARDINAL\n",
      "Chemical                                        ORG\n",
      "Fe 2                                            LAW\n",
      "6                                               CARDINAL\n",
      "5                                               CARDINAL\n",
      "55                                              CARDINAL\n",
      "2                                               CARDINAL\n",
      "K 2                                             PRODUCT\n",
      "4                                               CARDINAL\n",
      "5                                               CARDINAL\n",
      "Mindess & Young                                 ORG\n",
      "\n",
      "Properties\n",
      "3                                               CARDINAL\n",
      "3                                               CARDINAL\n",
      "2                                               CARDINAL\n",
      "J. Francis Young                                PERSON\n",
      "1981                                            DATE\n",
      "Prentice-Hall, Inc.                             ORG\n",
      "Englewood Cliffs                                GPE\n",
      "NJ                                              GPE\n",
      "pp                                              GPE\n",
      "671                                             CARDINAL\n",
      "Steve Kosmatka & William Panarese               PERSON\n",
      "1988                                            DATE\n",
      "Design                                          ORG\n",
      "Portland Cement Association                     ORG\n",
      "Skokie                                          GPE\n",
      "Ill.                                            GPE\n",
      "205                                             CARDINAL\n",
      "Michael Mamlouk &                               PERSON\n",
      "John Zaniewski                                  PERSON\n",
      "1999                                            DATE\n",
      "Materials for Civil and Construction Engineers  WORK_OF_ART\n",
      "Wesley Longman                                  PERSON\n"
     ]
    }
   ],
   "source": [
    "from newspaper import Article\n",
    "import spacy\n",
    "url=\"https://www.engr.psu.edu/ce/courses/ce584/concrete/library/construction/curing/Composition%20of%20cement.htm\"\n",
    "article = Article(url)\n",
    "article.download()\n",
    "article.parse()\n",
    "text=article.text\n",
    "\n",
    "# Load English tokenizer, tagger, parser and NER\n",
    "nlp = spacy.load(\"en_core_web_sm\")\n",
    "doc = nlp(text)\n",
    "print(\"Noun phrases:\", [chunk.text for chunk in doc.noun_chunks])\n",
    "# Find named entities, phrases and concepts\n",
    "foundEntities=[{\"Text\":entity.text, \"Entity Tag\":entity.label_} for entity in doc.ents]\n",
    "print(tabulate(foundEntities, headers=\"keys\"))"
   ]
  },
  {
   "cell_type": "code",
   "execution_count": 5,
   "metadata": {},
   "outputs": [],
   "source": []
  }
 ],
 "metadata": {
  "kernelspec": {
   "display_name": "Python 3",
   "language": "python",
   "name": "python3"
  },
  "language_info": {
   "codemirror_mode": {
    "name": "ipython",
    "version": 3
   },
   "file_extension": ".py",
   "mimetype": "text/x-python",
   "name": "python",
   "nbconvert_exporter": "python",
   "pygments_lexer": "ipython3",
   "version": "3.7.11"
  }
 },
 "nbformat": 4,
 "nbformat_minor": 4
}
