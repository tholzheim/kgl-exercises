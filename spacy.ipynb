{
 "cells": [
  {
   "cell_type": "markdown",
   "metadata": {},
   "source": [
    "# Install dependencies"
   ]
  },
  {
   "cell_type": "code",
   "execution_count": 2,
   "metadata": {},
   "outputs": [
    {
     "name": "stdout",
     "output_type": "stream",
     "text": [
      "spacy found\n",
      "newspaper3k found\n"
     ]
    }
   ],
   "source": [
    "import sys\n",
    "def installModule(projectName:str, moduleName:str=None):\n",
    "    '''Installs and loads the given module if not already installed'''\n",
    "    if moduleName is None:\n",
    "        moduleName=projectName\n",
    "    if moduleName not in sys.modules:\n",
    "        !python -m pip install --no-input $projectName\n",
    "        %reload_ext $moduleName\n",
    "        print(f'{projectName} installed')\n",
    "    else:\n",
    "        print(f'{projectName} found')\n",
    "\n",
    "installModule('spacy')\n",
    "installModule('newspaper3k', 'newspaper')"
   ]
  },
  {
   "cell_type": "markdown",
   "metadata": {},
   "source": [
    "# Download Models"
   ]
  },
  {
   "cell_type": "code",
   "execution_count": null,
   "metadata": {},
   "outputs": [],
   "source": [
    "!python -m spacy download en_core_web_sm"
   ]
  },
  {
   "cell_type": "markdown",
   "metadata": {},
   "source": [
    "#  Examples\n",
    "## Initial Example\n",
    "taken from  https://spacy.io/"
   ]
  },
  {
   "cell_type": "code",
   "execution_count": 3,
   "metadata": {},
   "outputs": [
    {
     "name": "stdout",
     "output_type": "stream",
     "text": [
      "Noun phrases: ['Sebastian Thrun', 'self-driving cars', 'Google', 'few people', 'the company', 'him', 'I', 'you', 'very senior CEOs', 'major American car companies', 'my hand', 'I', 'Thrun', 'an interview', 'Recode']\n",
      "Verbs: ['start', 'work', 'drive', 'take', 'tell', 'shake', 'turn', 'be', 'talk', 'say']\n",
      "Sebastian Thrun PERSON\n",
      "2007 DATE\n",
      "American NORP\n",
      "Thrun PERSON\n",
      "Recode PERSON\n",
      "earlier this week DATE\n"
     ]
    }
   ],
   "source": [
    "import spacy\n",
    "\n",
    "# Load English tokenizer, tagger, parser and NER\n",
    "nlp = spacy.load(\"en_core_web_sm\")\n",
    "\n",
    "# Process whole documents\n",
    "text = (\"When Sebastian Thrun started working on self-driving cars at \"\n",
    "        \"Google in 2007, few people outside of the company took him \"\n",
    "        \"seriously. “I can tell you very senior CEOs of major American \"\n",
    "        \"car companies would shake my hand and turn away because I wasn’t \"\n",
    "        \"worth talking to,” said Thrun, in an interview with Recode earlier \"\n",
    "        \"this week.\")\n",
    "doc = nlp(text)\n",
    "\n",
    "# Analyze syntax\n",
    "print(\"Noun phrases:\", [chunk.text for chunk in doc.noun_chunks])\n",
    "print(\"Verbs:\", [token.lemma_ for token in doc if token.pos_ == \"VERB\"])\n",
    "\n",
    "# Find named entities, phrases and concepts\n",
    "for entity in doc.ents:\n",
    "    print(entity.text, entity.label_)"
   ]
  },
  {
   "cell_type": "markdown",
   "metadata": {},
   "source": [
    "# Finding Locations\n",
    "\n",
    "The named entity tags __LOC__ and __GPE__(Geopolitical Entity) indicate found location entites."
   ]
  },
  {
   "cell_type": "code",
   "execution_count": 13,
   "metadata": {},
   "outputs": [
    {
     "name": "stdout",
     "output_type": "stream",
     "text": [
      "Text                                        Entity Tag\n",
      "------------------------------------------  ------------\n",
      "SUNDAY                                      DATE\n",
      "Obama                                       PERSON\n",
      "Wat Pho Royal Monastery                     PERSON\n",
      "Bangkok                                     GPE\n",
      "Thailand                                    GPE\n",
      "Obama                                       PERSON\n",
      "Obama                                       PERSON\n",
      "Thai Koo Fah Building                       ORG\n",
      "Yingluck Shinawatra                         PERSON\n",
      "Thailand                                    GPE\n",
      "Obama                                       PERSON\n",
      "first                                       ORDINAL\n",
      "Asia                                        LOC\n",
      "Obama                                       PERSON\n",
      "Thein Sein                                  PERSON\n",
      "Burma                                       GPE\n",
      "Obama                                       PERSON\n",
      "the evening                                 TIME\n",
      "Cambodia                                    GPE\n",
      "the Association of Southeast Asian Nations  ORG\n",
      "Obama                                       PERSON\n",
      "Cambodia                                    GPE\n"
     ]
    }
   ],
   "source": [
    "import spacy\n",
    "from tabulate import tabulate\n",
    "# Load English tokenizer, tagger, parser and NER\n",
    "nlp = spacy.load(\"en_core_web_sm\")\n",
    "# taken from https://obamawhitehouse.archives.gov/issues/foreign-policy/asia-trip-2012\n",
    "text=\"\"\"\n",
    " Trip Schedule\n",
    "\n",
    "SUNDAY\n",
    "\n",
    "    President Obama visits Wat Pho Royal Monastery in Bangkok, Thailand\n",
    "    President Obama receives a Royal Audience with King Bhumibol Adulyadej\n",
    "    President Obama takes part in a formal welcome ceremony at Thai Koo Fah Building\n",
    "    President and Prime Minister Yingluck Shinawatra of Thailand will hold a joint press conference, and then attend an official dinner together. This press conference was open press.\n",
    "    Read more about President Obama's first stop in Asia \n",
    "\n",
    "MONDAY\n",
    "\n",
    "    President Obama travels to Burma where he meets with President Thein Sein and Aung San Suu Kyi and delivers a speech to encourage Burma’s ongoing democratic transition.\n",
    "    Read more about President Obama promised support for the people of Burma\n",
    "    In the evening, the President will travel to Cambodia, where he will attend the East Asia Summit and meet with the leaders of the Association of Southeast Asian Nations.\n",
    "\n",
    "TUESDAY\n",
    "\n",
    "    President Obama attended the East Asia Summit in Cambodia\n",
    "\n",
    "\"\"\"\n",
    "doc = nlp(text)\n",
    "foundEntities=[{\"Text\":entity.text, \"Entity Tag\":entity.label_} for entity in doc.ents]\n",
    "print(tabulate(foundEntities, headers=\"keys\"))"
   ]
  },
  {
   "cell_type": "markdown",
   "metadata": {},
   "source": [
    "# URL as Text Input\n",
    "\n",
    "https://www.engr.psu.edu/ce/courses/ce584/concrete/library/construction/curing/Composition%20of%20cement.htm as text input"
   ]
  },
  {
   "cell_type": "code",
   "execution_count": 14,
   "metadata": {},
   "outputs": [
    {
     "name": "stdout",
     "output_type": "stream",
     "text": [
      "Noun phrases: ['Composition', 'cement', 'Introduction', 'Portland cement', 'its strength', 'chemical reactions', 'the cement', 'water', 'The process', 'hydration', 'a complex process', 'the chemical composition', 'cement', 'Manufacture', 'cement', 'Portland cement', 'milling', 'the following materials', 'Lime', 'calcium oxide', 'CaO', 'limestone', 'chalk', 'shells', 'shale', 'calcareous rock', '\\n\\n\\n\\nSilica', 'SiO', 'sand', 'old bottles', 'clay', 'argillaceous rock', 'sand', 'old bottles', 'clay', 'argillaceous rock', 'Alumina', 'Al 2 O', 'bauxite', 'recycled aluminum', 'bauxite', 'recycled aluminum', 'clay', 'Iron', '2 O', 'clay', 'iron ore', 'scrap iron', 'ash', 'clay', 'iron ore', 'scrap iron', 'ash', 'Gypsum', 'limestone', 'Chemical shorthand', 'the complex chemical nature', 'cement', 'a shorthand form', 'the chemical compounds', 'The shorthand', 'the basic compounds', '\\n\\n\\n\\nCompound Formula Shorthand', 'Calcium oxide', 'lime', 'Ca0', 'C Silicon dioxide', 'silica', 'SiO', '2 S Aluminum oxide', 'Al', 'Iron oxide Fe', 'SO', '3 S', 'Compound Formula Shorthand', 'weight1 Tricalcium', 'aluminate', '3 Al 2 O 6 C 3 A 10 Tetracalcium', '2 SiO 5 C 2 S 20 Alite', 'tricalcium', 'silicate', 'Ca', 'SiO', 'C 3 S 55 Sodium oxide', 'Na', 'Up to 2 Potassium oxide K 2 O K Gypsum CaSO', '.2H 2 O C S H', 'Actual weight', 'type', 'cement', 'Source', 'Mindess', 'Young', 'Properties', 'cement compounds', 'These compounds', 'the properties', 'cement', 'different ways', '\\n\\n\\n\\nTricalcium', 'C 3 A:-', 'Tricalcium silicate', 'C 3 S:-', 'Dicalcium silicate', 'C 2 S', 'Ferrite', 'C 4 AF', 'these compounds', 'manufacturers', 'different types', 'cement', 'several construction environments', 'References', 'Sidney Mindess', 'J. Francis Young', 'Concrete', 'Prentice-Hall', 'Inc.', 'Englewood Cliffs', 'NJ', 'pp', 'Steve Kosmatka', 'William Panarese', 'Design', 'Control', 'Concrete Mixes', 'Portland Cement Association', 'Ill.', 'Michael Mamlouk', 'John Zaniewski', 'Materials', 'Civil and Construction Engineers', 'Addison Wesley Longman', 'Inc.']\n",
      "Text                         Entity Tag\n",
      "---------------------------  ------------\n",
      "first                        ORDINAL\n",
      "Portland                     GPE\n",
      "Silica                       PERSON\n",
      "Alumina                      LOC\n",
      "3                            CARDINAL\n",
      "2                            CARDINAL\n",
      "3                            CARDINAL\n",
      "4                            CARDINAL\n",
      "Chemical                     ORG\n",
      "Formula Shorthand            PERSON\n",
      "SiO 2 S Aluminum             PRODUCT\n",
      "2                            CARDINAL\n",
      "3                            CARDINAL\n",
      "4                            CARDINAL\n",
      "Mindess & Young              ORG\n",
      "\n",
      "Properties\n",
      "C 2 S                        PRODUCT\n",
      "1981                         DATE\n",
      "Prentice-Hall, Inc.          ORG\n",
      "Englewood Cliffs             GPE\n",
      "671                          CARDINAL\n",
      "Steve Kosmatka &             PERSON\n",
      "William Panarese             PERSON\n",
      "1988                         DATE\n",
      "Portland Cement Association  ORG\n",
      "Skokie                       GPE\n",
      "Ill.                         GPE\n",
      "205                          CARDINAL\n",
      "Michael Mamlouk              PERSON\n",
      "John Zaniewski               PERSON\n",
      "1999                         DATE\n",
      "Addison Wesley Longman       PERSON\n"
     ]
    }
   ],
   "source": [
    "from newspaper import Article\n",
    "import spacy\n",
    "url=\"https://www.engr.psu.edu/ce/courses/ce584/concrete/library/construction/curing/Composition%20of%20cement.htm\"\n",
    "article = Article(url)\n",
    "article.download()\n",
    "article.parse()\n",
    "text=article.text\n",
    "\n",
    "# Load English tokenizer, tagger, parser and NER\n",
    "nlp = spacy.load(\"en_core_web_sm\")\n",
    "doc = nlp(text)\n",
    "print(\"Noun phrases:\", [chunk.text for chunk in doc.noun_chunks])\n",
    "# Find named entities, phrases and concepts\n",
    "foundEntities=[{\"Text\":entity.text, \"Entity Tag\":entity.label_} for entity in doc.ents]\n",
    "print(tabulate(foundEntities, headers=\"keys\"))"
   ]
  },
  {
   "cell_type": "code",
   "execution_count": null,
   "metadata": {},
   "outputs": [],
   "source": []
  }
 ],
 "metadata": {
  "kernelspec": {
   "display_name": "Python 3 (ipykernel)",
   "language": "python",
   "name": "python3"
  },
  "language_info": {
   "codemirror_mode": {
    "name": "ipython",
    "version": 3
   },
   "file_extension": ".py",
   "mimetype": "text/x-python",
   "name": "python",
   "nbconvert_exporter": "python",
   "pygments_lexer": "ipython3",
   "version": "3.9.6"
  }
 },
 "nbformat": 4,
 "nbformat_minor": 4
}
