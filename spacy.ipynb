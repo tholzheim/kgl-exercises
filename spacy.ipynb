{
 "cells": [
  {
   "cell_type": "markdown",
   "metadata": {},
   "source": [
    "# spaCy Introduction\n",
    "spaCy is a python library for natural language processing (NLP).\n",
    "It provides neural network models for tagging, parsing, named entity recognition (NER) , text classification.\n",
    "\n",
    "Below you find a few examples on how to use space for tokenization and NER. \n",
    "## Install dependencies"
   ]
  },
  {
   "cell_type": "code",
   "execution_count": null,
   "metadata": {
    "pycharm": {
     "is_executing": true
    }
   },
   "outputs": [],
   "source": [
    "import sys\n",
    "def installModule(projectName:str, moduleName:str=None):\n",
    "    '''Installs and loads the given module if not already installed'''\n",
    "    if moduleName is None:\n",
    "        moduleName=projectName\n",
    "    if moduleName not in sys.modules:\n",
    "        !python -m pip install --no-input $projectName\n",
    "        %reload_ext $moduleName\n",
    "        print(f'{projectName} installed')\n",
    "    else:\n",
    "        print(f'{projectName} found')\n",
    "\n",
    "installModule('spacy')\n",
    "installModule('newspaper3k', 'newspaper')"
   ]
  },
  {
   "cell_type": "markdown",
   "metadata": {},
   "source": [
    "## Download Models"
   ]
  },
  {
   "cell_type": "code",
   "execution_count": null,
   "metadata": {
    "pycharm": {
     "is_executing": true
    }
   },
   "outputs": [],
   "source": [
    "!python -m spacy download en_core_web_sm"
   ]
  },
  {
   "cell_type": "markdown",
   "metadata": {},
   "source": [
    "##  Examples\n",
    "### Initial Example\n",
    "taken from  https://spacy.io/"
   ]
  },
  {
   "cell_type": "code",
   "execution_count": null,
   "metadata": {},
   "outputs": [],
   "source": [
    "import spacy\n",
    "\n",
    "# Load English tokenizer, tagger, parser and NER\n",
    "nlp = spacy.load(\"en_core_web_sm\")\n",
    "\n",
    "# Process whole documents\n",
    "text = (\"When Sebastian Thrun started working on self-driving cars at \"\n",
    "        \"Google in 2007, few people outside of the company took him \"\n",
    "        \"seriously. “I can tell you very senior CEOs of major American \"\n",
    "        \"car companies would shake my hand and turn away because I wasn’t \"\n",
    "        \"worth talking to,” said Thrun, in an interview with Recode earlier \"\n",
    "        \"this week.\")\n",
    "doc = nlp(text)\n",
    "\n",
    "# Analyze syntax\n",
    "print(\"Noun phrases:\", [chunk.text for chunk in doc.noun_chunks])\n",
    "print(\"Verbs:\", [token.lemma_ for token in doc if token.pos_ == \"VERB\"])\n",
    "\n",
    "# Find named entities, phrases and concepts\n",
    "for entity in doc.ents:\n",
    "    print(entity.text, entity.label_)"
   ]
  },
  {
   "cell_type": "markdown",
   "metadata": {},
   "source": [
    "## Finding Locations\n",
    "\n",
    "The named entity tags __LOC__ and __GPE__(Geopolitical Entity) indicate found location entites."
   ]
  },
  {
   "cell_type": "code",
   "execution_count": null,
   "metadata": {},
   "outputs": [],
   "source": [
    "import spacy\n",
    "from tabulate import tabulate\n",
    "# Load English tokenizer, tagger, parser and NER\n",
    "nlp = spacy.load(\"en_core_web_sm\")\n",
    "# taken from https://obamawhitehouse.archives.gov/issues/foreign-policy/asia-trip-2012\n",
    "text=\"\"\"\n",
    " Trip Schedule\n",
    "\n",
    "SUNDAY\n",
    "\n",
    "    President Obama visits Wat Pho Royal Monastery in Bangkok, Thailand\n",
    "    President Obama receives a Royal Audience with King Bhumibol Adulyadej\n",
    "    President Obama takes part in a formal welcome ceremony at Thai Koo Fah Building\n",
    "    President and Prime Minister Yingluck Shinawatra of Thailand will hold a joint press conference, and then attend an official dinner together. This press conference was open press.\n",
    "    Read more about President Obama's first stop in Asia \n",
    "\n",
    "MONDAY\n",
    "\n",
    "    President Obama travels to Burma where he meets with President Thein Sein and Aung San Suu Kyi and delivers a speech to encourage Burma’s ongoing democratic transition.\n",
    "    Read more about President Obama promised support for the people of Burma\n",
    "    In the evening, the President will travel to Cambodia, where he will attend the East Asia Summit and meet with the leaders of the Association of Southeast Asian Nations.\n",
    "\n",
    "TUESDAY\n",
    "\n",
    "    President Obama attended the East Asia Summit in Cambodia\n",
    "\n",
    "\"\"\"\n",
    "doc = nlp(text)\n",
    "foundEntities=[{\"Text\":entity.text, \"Entity Tag\":entity.label_} for entity in doc.ents]\n",
    "print(tabulate(foundEntities, headers=\"keys\"))"
   ]
  },
  {
   "cell_type": "markdown",
   "metadata": {},
   "source": [
    "## URL as Text Input\n",
    "\n",
    "https://www.engr.psu.edu/ce/courses/ce584/concrete/library/construction/curing/Composition%20of%20cement.htm as text input"
   ]
  },
  {
   "cell_type": "code",
   "execution_count": null,
   "metadata": {},
   "outputs": [],
   "source": [
    "from newspaper import Article\n",
    "import spacy\n",
    "url=\"https://www.engr.psu.edu/ce/courses/ce584/concrete/library/construction/curing/Composition%20of%20cement.htm\"\n",
    "article = Article(url)\n",
    "article.download()\n",
    "article.parse()\n",
    "text=article.text\n",
    "\n",
    "# Load English tokenizer, tagger, parser and NER\n",
    "nlp = spacy.load(\"en_core_web_sm\")\n",
    "doc = nlp(text)\n",
    "print(\"Noun phrases:\", [chunk.text for chunk in doc.noun_chunks])\n",
    "# Find named entities, phrases and concepts\n",
    "foundEntities=[{\"Text\":entity.text, \"Entity Tag\":entity.label_} for entity in doc.ents]\n",
    "print(tabulate(foundEntities, headers=\"keys\"))"
   ]
  },
  {
   "cell_type": "code",
   "execution_count": null,
   "metadata": {},
   "outputs": [],
   "source": []
  }
 ],
 "metadata": {
  "kernelspec": {
   "display_name": "Python 3 (ipykernel)",
   "language": "python",
   "name": "python3"
  },
  "language_info": {
   "codemirror_mode": {
    "name": "ipython",
    "version": 3
   },
   "file_extension": ".py",
   "mimetype": "text/x-python",
   "name": "python",
   "nbconvert_exporter": "python",
   "pygments_lexer": "ipython3",
   "version": "3.9.13"
  }
 },
 "nbformat": 4,
 "nbformat_minor": 4
}
